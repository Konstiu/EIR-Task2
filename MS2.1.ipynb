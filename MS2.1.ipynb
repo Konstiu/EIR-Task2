{
 "cells": [
  {
   "cell_type": "markdown",
   "id": "7a0c1aef-ce23-48f7-ba4e-8eaba879173a",
   "metadata": {},
   "source": [
    "# MS 2.1- Group 10"
   ]
  },
  {
   "cell_type": "code",
   "execution_count": 1,
   "id": "6f521e39-a7f3-483a-b944-40d5303f04d8",
   "metadata": {},
   "outputs": [],
   "source": [
    "# imports\n",
    "import os, sys\n",
    "import numpy as np\n",
    "from numba import jit\n",
    "import librosa\n",
    "#from scipy import signal\n",
    "from scipy import ndimage\n",
    "from matplotlib import pyplot as plt\n",
    "import IPython.display as ipd\n",
    "import time\n",
    "\n",
    "sys.path.append('..')\n",
    "import libfmp.b\n",
    "import libfmp.c2\n",
    "import libfmp.c6\n",
    "\n",
    "%matplotlib inline"
   ]
  },
  {
   "cell_type": "markdown",
   "id": "86d3a4ae-e49d-4088-970a-63844050d4db",
   "metadata": {},
   "source": [
    "# Utility functions\n",
    "\n",
    "Here we define all functions that, we later need to compute spectrograms, constellation maps, and perform the matching"
   ]
  },
  {
   "cell_type": "markdown",
   "id": "629ee5ff-452e-49e8-958a-794ef2bd6721",
   "metadata": {},
   "source": [
    "This function is responsible for computing the spectrogram map of a given track. We limit the track duration that is used to 30 seconds."
   ]
  },
  {
   "cell_type": "code",
   "execution_count": 2,
   "id": "83428bb3-ae97-4c2a-9632-311405fc8965",
   "metadata": {},
   "outputs": [],
   "source": [
    "\n",
    "def compute_spectrogram(fn_wav, Fs=22050, N=2048, H=1024, bin_max=128, frame_max=None, duration=None):\n",
    "    x, Fs = librosa.load(fn_wav, sr=Fs, duration=30)\n",
    "    x_duration = len(x) / Fs\n",
    "    X = librosa.stft(x, n_fft=N, hop_length=H, win_length=N, window='hann')\n",
    "    if bin_max is None:\n",
    "        bin_max = X.shape[0]\n",
    "    if frame_max is None:\n",
    "        frame_max = X.shape[0]\n",
    "    Y = np.abs(X[:bin_max, :frame_max])\n",
    "    return Y"
   ]
  },
  {
   "cell_type": "markdown",
   "id": "c622971a-39b5-4eb3-a17a-1fa657ac43d6",
   "metadata": {},
   "source": [
    "This function computes the constellation map, given a spectrogram map"
   ]
  },
  {
   "cell_type": "code",
   "execution_count": 3,
   "id": "5278590e-dde5-4409-a679-d9fc53cfb2e6",
   "metadata": {},
   "outputs": [],
   "source": [
    "def compute_constellation_map(Y, dist_freq=7, dist_time=7, thresh=0.01):\n",
    "    \"\"\"Compute constellation map (implementation using image processing)\n",
    "\n",
    "    Notebook: C7/C7S1_AudioIdentification.ipynb\n",
    "\n",
    "    Args:\n",
    "        Y (np.ndarray): Spectrogram (magnitude)\n",
    "        dist_freq (int): Neighborhood parameter for frequency direction (kappa) (Default value = 7)\n",
    "        dist_time (int): Neighborhood parameter for time direction (tau) (Default value = 7)\n",
    "        thresh (float): Threshold parameter for minimal peak magnitude (Default value = 0.01)\n",
    "\n",
    "    Returns:\n",
    "        Cmap (np.ndarray): Boolean mask for peak structure (same size as Y)\n",
    "    \"\"\"\n",
    "    result = ndimage.maximum_filter(Y, size=[2*dist_freq+1, 2*dist_time+1], mode='constant')\n",
    "    Cmap = np.logical_and(Y == result, result > thresh)\n",
    "    return Cmap"
   ]
  },
  {
   "cell_type": "markdown",
   "id": "03280689-02c4-43f1-9f22-b1e42c0ef889",
   "metadata": {},
   "source": [
    "Function to plot the constellation map. Used for inspection purposes, when deciding on parameters for dist_freq and dist_time."
   ]
  },
  {
   "cell_type": "code",
   "execution_count": 4,
   "id": "a36c44e3-5e52-49da-96c0-814a817b4dcc",
   "metadata": {},
   "outputs": [],
   "source": [
    "def plot_constellation_map(Cmap, Y=None, xlim=None, ylim=None, title='',\n",
    "                           xlabel='Time (sample)', ylabel='Frequency (bins)',\n",
    "                           s=5, color='r', marker='o', figsize=(7, 3), dpi=72):\n",
    "    \"\"\"Plot constellation map\n",
    "\n",
    "    Notebook: C7/C7S1_AudioIdentification.ipynb\n",
    "\n",
    "    Args:\n",
    "        Cmap: Constellation map given as boolean mask for peak structure\n",
    "        Y: Spectrogram representation (Default value = None)\n",
    "        xlim: Limits for x-axis (Default value = None)\n",
    "        ylim: Limits for y-axis (Default value = None)\n",
    "        title: Title for plot (Default value = '')\n",
    "        xlabel: Label for x-axis (Default value = 'Time (sample)')\n",
    "        ylabel: Label for y-axis (Default value = 'Frequency (bins)')\n",
    "        s: Size of dots in scatter plot (Default value = 5)\n",
    "        color: Color used for scatter plot (Default value = 'r')\n",
    "        marker: Marker for peaks (Default value = 'o')\n",
    "        figsize: Width, height in inches (Default value = (7, 3))\n",
    "        dpi: Dots per inch (Default value = 72)\n",
    "\n",
    "    Returns:\n",
    "        fig: The created matplotlib figure\n",
    "        ax: The used axes.\n",
    "        im: The image plot\n",
    "    \"\"\"\n",
    "    if Cmap.ndim > 1:\n",
    "        (K, N) = Cmap.shape\n",
    "    else:\n",
    "        K = Cmap.shape[0]\n",
    "        N = 1\n",
    "    if Y is None:\n",
    "        Y = np.zeros((K, N))\n",
    "    fig, ax = plt.subplots(1, 1, figsize=figsize, dpi=dpi)\n",
    "    im = ax.imshow(Y, origin='lower', aspect='auto', cmap='gray_r', interpolation='nearest')\n",
    "    ax.set_xlabel(xlabel)\n",
    "    ax.set_ylabel(ylabel)\n",
    "    ax.set_title(title)\n",
    "    Fs = 1\n",
    "    if xlim is None:\n",
    "        xlim = [-0.5/Fs, (N-0.5)/Fs]\n",
    "    if ylim is None:\n",
    "        ylim = [-0.5/Fs, (K-0.5)/Fs]\n",
    "    ax.set_xlim(xlim)\n",
    "    ax.set_ylim(ylim)\n",
    "    n, k = np.argwhere(Cmap == 1).T\n",
    "    ax.scatter(k, n, color=color, s=s, marker=marker)\n",
    "    plt.tight_layout()\n",
    "    return fig, ax, im\n",
    "    "
   ]
  },
  {
   "cell_type": "markdown",
   "id": "ab0b9840-f0d0-4fdc-a6c0-32ee187aa4ed",
   "metadata": {},
   "source": [
    "Helper function that matches two binary matrices."
   ]
  },
  {
   "cell_type": "code",
   "execution_count": 34,
   "id": "3e945ebb-a801-4f80-a698-311cbdd19933",
   "metadata": {},
   "outputs": [],
   "source": [
    "import numpy as np\n",
    "from scipy import ndimage\n",
    "from numba import jit, prange\n",
    "def match_binary_matrices_tol(C_ref, C_est, C_est_max, tol_freq=0, tol_time=0):\n",
    "    \"\"\"Compare binary matrices with tolerance.\"\"\"\n",
    "    assert C_ref.shape == C_est.shape, \"Dimensions need to agree\"\n",
    "    N = np.sum(C_ref)\n",
    "    M = np.sum(C_est)\n",
    "    C_AND = np.logical_and(C_est_max, C_ref)\n",
    "    TP = np.sum(C_AND)\n",
    "    FN = N - TP\n",
    "    FP = M - TP\n",
    "    return TP, FN, FP, C_AND"
   ]
  },
  {
   "cell_type": "markdown",
   "id": "fcf0210d-2c6a-4efe-a73b-fba8730faa84",
   "metadata": {},
   "source": [
    "This function computes the actual match between the query constellation map and the database-track constellation map, by sliding the query over the database-track."
   ]
  },
  {
   "cell_type": "code",
   "execution_count": 35,
   "id": "c8f0becd-121e-46b4-8918-e0580879259d",
   "metadata": {},
   "outputs": [],
   "source": [
    "@jit(nopython=True, parallel=True)\n",
    "def compute_matching_function_numba(C_D, C_Q, C_est_max, tol_freq=0, tol_time=0):\n",
    "    \"\"\"Numba-accelerated computation of the matching function.\"\"\"\n",
    "    L = C_D.shape[1]\n",
    "    N = C_Q.shape[1]\n",
    "    M = L - N\n",
    "    Delta = np.zeros(M + 1, dtype=np.float64)\n",
    "\n",
    "    for m in prange(M + 1):  # Parallelized loop\n",
    "        C_D_crop = C_D[:, m:m + N]\n",
    "        C_AND = np.logical_and(C_est_max, C_D_crop)\n",
    "        TP = np.sum(C_AND)\n",
    "        Delta[m] = TP\n",
    "\n",
    "    shift_max = np.argmax(Delta)\n",
    "    return Delta, shift_max"
   ]
  },
  {
   "cell_type": "code",
   "execution_count": 36,
   "id": "5d5c25e3-d75b-42e0-a022-3fe8bce20987",
   "metadata": {},
   "outputs": [],
   "source": [
    "def compute_matching_function(C_D, C_Q, tol_freq=0, tol_time=0):\n",
    "    \"\"\"Computes matching function for constellation maps.\"\"\"\n",
    "    L = C_D.shape[1]\n",
    "    N = C_Q.shape[1]\n",
    "    M = L - N\n",
    "    assert M >= 0, \"Query must be shorter than document\"\n",
    "\n",
    "    # Precompute the max filter for the estimation (outside of Numba)\n",
    "    C_est_max = ndimage.maximum_filter(C_Q, size=(2 * tol_freq + 1, 2 * tol_time + 1), mode='constant')\n",
    "\n",
    "    # Use the Numba-accelerated version\n",
    "    Delta, shift_max = compute_matching_function_numba(C_D, C_Q, C_est_max, tol_freq, tol_time)\n",
    "    return Delta, shift_max"
   ]
  },
  {
   "cell_type": "markdown",
   "id": "0d995201-fe25-49a6-b2d9-f498b692aff0",
   "metadata": {},
   "source": [
    "### Load all filenames\n",
    "This function is used to load all filenames, that are contained in a specified directory. "
   ]
  },
  {
   "cell_type": "code",
   "execution_count": 7,
   "id": "b563077b-1145-4671-a69f-f1f56c3be5c5",
   "metadata": {},
   "outputs": [],
   "source": [
    "def load_filenames(directory):\n",
    "    filenames = []\n",
    "    \n",
    "    # Iterate through all files in the directory\n",
    "    for filename in os.listdir(directory):\n",
    "        # Create the full path\n",
    "        file_path = os.path.join(directory, filename)\n",
    "        \n",
    "        # Check if it is a file (not a directory)\n",
    "        if os.path.isfile(file_path):\n",
    "            # Add to the dictionary, using the filename as the key\n",
    "            filenames.append(file_path)\n",
    "\n",
    "    return filenames"
   ]
  },
  {
   "cell_type": "markdown",
   "id": "6e3a9788-2a01-4709-8ca3-5acdf43604bb",
   "metadata": {},
   "source": [
    "### Compute constellation maps for filenames\n",
    "This function takes a list of filenames of tracks/queries and computes the constellation map for each "
   ]
  },
  {
   "cell_type": "code",
   "execution_count": 8,
   "id": "e89b68b0-e9ea-4dde-9078-cd7121c1ae6a",
   "metadata": {},
   "outputs": [],
   "source": [
    "def compute_constellation_maps(filenames, dist_freq, dist_time):\n",
    "    Cmaps = {}\n",
    "    for filename in filenames: \n",
    "        spectrogram = compute_spectrogram(filename)\n",
    "        constellation_map = compute_constellation_map(spectrogram, dist_freq, dist_time)\n",
    "        Cmaps[filename] = constellation_map\n",
    "\n",
    "    return Cmaps"
   ]
  },
  {
   "cell_type": "markdown",
   "id": "2ee13707-d537-4b58-bdd2-075cf896fc4b",
   "metadata": {},
   "source": [
    "# Creating the constellation maps for the database"
   ]
  },
  {
   "cell_type": "markdown",
   "id": "d7dac696-8419-4d30-86db-5bbbedb3efd1",
   "metadata": {},
   "source": [
    "We first load all the filenames of all of the tracks, that are in our database and store them in a list."
   ]
  },
  {
   "cell_type": "code",
   "execution_count": 9,
   "id": "60b21746-86c4-461c-adbd-369cb079ee5b",
   "metadata": {},
   "outputs": [],
   "source": [
    "tracks = load_filenames('tracks')"
   ]
  },
  {
   "cell_type": "markdown",
   "id": "f196a979-453d-48d8-bbee-83324a856ec0",
   "metadata": {},
   "source": [
    "## Try out different configurations\n",
    "\n",
    "In this section, we experimentally try out different values for computing our constellation maps for our tracks. After computing the constellation map for each of the tracks, we plot the constellation map of the same track for each configuration, to see how our chosen parameters influence the final constellation map."
   ]
  },
  {
   "cell_type": "markdown",
   "id": "9a1fe93d-d880-4233-b27c-6b40f32cff6c",
   "metadata": {},
   "source": [
    "### κ = 7, τ = 3"
   ]
  },
  {
   "cell_type": "code",
   "execution_count": 10,
   "id": "651aa5bd-33e1-474c-ad01-67c9fbbdae50",
   "metadata": {},
   "outputs": [
    {
     "data": {
      "image/png": "[encoded data removed]",
      "text/plain": [
       "<Figure size 504x216 with 1 Axes>"
      ]
     },
     "metadata": {},
     "output_type": "display_data"
    }
   ],
   "source": [
    "track_cmaps_7_3 = compute_constellation_maps(tracks, 7, 3) # κ = 7, τ = 3\n",
    "\n",
    "fig, ax, im = plot_constellation_map(track_cmaps_7_3['tracks/810.mp3'], color='r', s=30)"
   ]
  },
  {
   "cell_type": "markdown",
   "id": "416e7da4-7122-4ca7-9b26-21e54d75a1e3",
   "metadata": {},
   "source": [
    "### κ = 11, τ = 3"
   ]
  },
  {
   "cell_type": "code",
   "execution_count": 11,
   "id": "d0d537e8-9348-4cd5-b2f2-91cb75fa3e51",
   "metadata": {},
   "outputs": [
    {
     "data": {
      "image/png": "[encoded data removed]",
      "text/plain": [
       "<Figure size 504x216 with 1 Axes>"
      ]
     },
     "metadata": {},
     "output_type": "display_data"
    }
   ],
   "source": [
    "track_cmaps_11_3 = compute_constellation_maps(tracks, 11, 3) # κ = 11, τ = 3\n",
    "\n",
    "fig, ax, im = plot_constellation_map(track_cmaps_11_3['tracks/810.mp3'], color='r', s=30)"
   ]
  },
  {
   "cell_type": "markdown",
   "id": "2dc77fec-01f6-482f-8926-f4f61908171d",
   "metadata": {},
   "source": [
    "### κ = 10, τ = 10"
   ]
  },
  {
   "cell_type": "code",
   "execution_count": 12,
   "id": "bdcf9266-fb28-4637-b81b-317d1d07c968",
   "metadata": {},
   "outputs": [
    {
     "data": {
      "image/png": "[encoded data removed]",
      "text/plain": [
       "<Figure size 504x216 with 1 Axes>"
      ]
     },
     "metadata": {},
     "output_type": "display_data"
    }
   ],
   "source": [
    "track_cmaps_10_10 = compute_constellation_maps(tracks, 10, 10) # κ = 10, τ = 10\n",
    "\n",
    "fig, ax, im = plot_constellation_map(track_cmaps_10_10['tracks/810.mp3'], color='r', s=30)"
   ]
  },
  {
   "cell_type": "markdown",
   "id": "2743c2d7-00c5-471e-b82d-7139769130fb",
   "metadata": {},
   "source": [
    "### κ = 5, τ = 15"
   ]
  },
  {
   "cell_type": "code",
   "execution_count": 13,
   "id": "a9f5442a-35eb-4f92-b109-e323d5f68779",
   "metadata": {},
   "outputs": [
    {
     "data": {
      "image/png": "[encoded data removed]",
      "text/plain": [
       "<Figure size 504x216 with 1 Axes>"
      ]
     },
     "metadata": {},
     "output_type": "display_data"
    }
   ],
   "source": [
    "track_cmaps_5_15 = compute_constellation_maps(tracks, 5, 15) # κ = 5, τ = 15\n",
    "\n",
    "fig, ax, im = plot_constellation_map(track_cmaps_5_15['tracks/810.mp3'], color='r', s=30)"
   ]
  },
  {
   "cell_type": "markdown",
   "id": "fe686b15-6b47-4159-a44d-38ff222ebdbc",
   "metadata": {},
   "source": [
    "# Creating the constellation maps for the queries\n",
    "\n",
    "In this section, we create constellation maps for each of the queries, with the exact same parameter combinations, which we used for the database-tracks above."
   ]
  },
  {
   "cell_type": "markdown",
   "id": "e3d747b2-0828-432d-964a-1c79e7d590f3",
   "metadata": {},
   "source": [
    "Here we again load all filenames for the queries."
   ]
  },
  {
   "cell_type": "code",
   "execution_count": 14,
   "id": "d84aa536-68af-4ebf-a938-7458fb512f27",
   "metadata": {},
   "outputs": [],
   "source": [
    "queries = load_filenames('queries')"
   ]
  },
  {
   "cell_type": "markdown",
   "id": "59960d19-f5a7-4707-95c9-5c54db9b8e79",
   "metadata": {},
   "source": [
    "### κ = 7, τ = 3"
   ]
  },
  {
   "cell_type": "code",
   "execution_count": 15,
   "id": "1a64ba3b-e2a1-4bbe-a7de-eec1f234be6e",
   "metadata": {},
   "outputs": [
    {
     "data": {
      "image/png": "[encoded data removed]",
      "text/plain": [
       "<Figure size 504x216 with 1 Axes>"
      ]
     },
     "metadata": {},
     "output_type": "display_data"
    }
   ],
   "source": [
    "query_cmaps_7_3 = compute_constellation_maps(queries, 7, 3)\n",
    "\n",
    "fig, ax, im = plot_constellation_map(query_cmaps_7_3['queries/810.mp3'], color='r', s=30)"
   ]
  },
  {
   "cell_type": "markdown",
   "id": "db942662-2292-4181-a485-561d3fb2c8d8",
   "metadata": {},
   "source": [
    "### κ = 11, τ = 3"
   ]
  },
  {
   "cell_type": "code",
   "execution_count": 16,
   "id": "4a50d835-2db0-44e4-890c-a1aab855cc83",
   "metadata": {},
   "outputs": [
    {
     "data": {
      "image/png": "[encoded data removed]",
      "text/plain": [
       "<Figure size 504x216 with 1 Axes>"
      ]
     },
     "metadata": {},
     "output_type": "display_data"
    }
   ],
   "source": [
    "query_cmaps_11_3 = compute_constellation_maps(queries, 11, 3)\n",
    "\n",
    "fig, ax, im = plot_constellation_map(query_cmaps_11_3['queries/810.mp3'], color='r', s=30)"
   ]
  },
  {
   "cell_type": "markdown",
   "id": "be770503-08e4-4266-a734-99412616ff84",
   "metadata": {},
   "source": [
    "### κ = 10, τ = 10"
   ]
  },
  {
   "cell_type": "code",
   "execution_count": 17,
   "id": "081e84fd-e658-4862-93d5-7a3c7fcb77fe",
   "metadata": {},
   "outputs": [
    {
     "data": {
      "image/png": "[encoded data removed]",
      "text/plain": [
       "<Figure size 504x216 with 1 Axes>"
      ]
     },
     "metadata": {},
     "output_type": "display_data"
    }
   ],
   "source": [
    "query_cmaps_10_10 = compute_constellation_maps(queries, 10, 10)\n",
    "\n",
    "fig, ax, im = plot_constellation_map(query_cmaps_10_10['queries/810.mp3'], color='r', s=30)"
   ]
  },
  {
   "cell_type": "markdown",
   "id": "9c142261-884c-4fb4-97ad-9fe54b70fb3e",
   "metadata": {},
   "source": [
    "### κ = 5, τ = 15"
   ]
  },
  {
   "cell_type": "code",
   "execution_count": 18,
   "id": "166efa19-bd1c-404d-8b7d-6ebdf878be77",
   "metadata": {},
   "outputs": [
    {
     "data": {
      "image/png": "[encoded data removed]",
      "text/plain": [
       "<Figure size 504x216 with 1 Axes>"
      ]
     },
     "metadata": {},
     "output_type": "display_data"
    }
   ],
   "source": [
    "query_cmaps_5_15 = compute_constellation_maps(queries, 5, 15)\n",
    "\n",
    "fig, ax, im = plot_constellation_map(query_cmaps_5_15['queries/810.mp3'], color='r', s=30)"
   ]
  },
  {
   "cell_type": "markdown",
   "id": "65b87d94-29d6-48a5-abec-976fb7ca04e9",
   "metadata": {},
   "source": [
    "# Matching\n",
    "\n",
    "After preprocessing our tracks and queries, we can finally start the matching. We do the matching of queries and database-tracks for each of the previously defined parameter combinations. \n",
    "\n",
    "For each configuration, we follow a systematic process to identify the best match for each query:\n",
    "\n",
    "- Iterate Through Queries: For every query, its constellation map is compared against all the database track constellation maps.\n",
    "- Compute Matching Scores: Using the compute_matching_function, a score is calculated for each query-to-track combination.\n",
    "- Track the Best Match: The track with the highest matching score for each query is identified as the best match. This is stored in a dictionary along with its corresponding score.\n",
    "- Evaluate Results: We determine how many queries were correctly matched to their corresponding tracks by comparing the predicted matching track to the query's expected match (based on their filenames)."
   ]
  },
  {
   "cell_type": "markdown",
   "id": "9e61c229-a967-4211-8392-d3d4dc072604",
   "metadata": {},
   "source": [
    "### κ = 7, τ = 3"
   ]
  },
  {
   "cell_type": "code",
   "execution_count": 37,
   "id": "53f5cd0e-17fc-4f9f-9899-2ee8405355b4",
   "metadata": {},
   "outputs": [
    {
     "name": "stdout",
     "output_type": "stream",
     "text": [
      "Matched query \"queries/1390710.mp3\" to track \"tracks/1390710.mp3\", which took 2.473388195037842 seconds.\n",
      "Matched query \"queries/1249910.mp3\" to track \"tracks/1249910.mp3\", which took 1.3073322772979736 seconds.\n",
      "Matched query \"queries/152310.mp3\" to track \"tracks/152310.mp3\", which took 2.1510238647460938 seconds.\n",
      "Matched query \"queries/1147910.mp3\" to track \"tracks/1147910.mp3\", which took 1.126168966293335 seconds.\n",
      "Matched query \"queries/119410.mp3\" to track \"tracks/119410.mp3\", which took 1.1070241928100586 seconds.\n",
      "Matched query \"queries/1400510_noise.mp3\" to track \"tracks/376310.mp3\", which took 1.1109600067138672 seconds.\n",
      "Matched query \"queries/136810.mp3\" to track \"tracks/136810.mp3\", which took 1.149275302886963 seconds.\n",
      "Matched query \"queries/887210_mobile.mp3\" to track \"tracks/887210.mp3\", which took 1.0874109268188477 seconds.\n",
      "Matched query \"queries/1269810_noise.mp3\" to track \"tracks/1269810.mp3\", which took 1.1343481540679932 seconds.\n",
      "Matched query \"queries/1400510_mobile.mp3\" to track \"tracks/1077910.mp3\", which took 1.6462781429290771 seconds.\n",
      "Matched query \"queries/1084710_mobile.mp3\" to track \"tracks/1038510.mp3\", which took 1.17225980758667 seconds.\n",
      "Matched query \"queries/963810.mp3\" to track \"tracks/963810.mp3\", which took 1.0541408061981201 seconds.\n",
      "Matched query \"queries/1227910_coding.mp3\" to track \"tracks/1227910.mp3\", which took 1.1324470043182373 seconds.\n",
      "Matched query \"queries/963810_noise.mp3\" to track \"tracks/963810.mp3\", which took 1.4971630573272705 seconds.\n",
      "Matched query \"queries/963810_coding.mp3\" to track \"tracks/963810.mp3\", which took 2.1536855697631836 seconds.\n",
      "Matched query \"queries/1192210_noise.mp3\" to track \"tracks/1192210.mp3\", which took 1.9377400875091553 seconds.\n",
      "Matched query \"queries/219510_coding.mp3\" to track \"tracks/219510.mp3\", which took 2.0806360244750977 seconds.\n",
      "Matched query \"queries/810_mobile.mp3\" to track \"tracks/810.mp3\", which took 2.0478971004486084 seconds.\n",
      "Matched query \"queries/1147910_noise.mp3\" to track \"tracks/1147910.mp3\", which took 1.8634121417999268 seconds.\n",
      "Matched query \"queries/1192210.mp3\" to track \"tracks/1192210.mp3\", which took 1.9568753242492676 seconds.\n",
      "Matched query \"queries/1147910_coding.mp3\" to track \"tracks/1147910.mp3\", which took 1.844630241394043 seconds.\n",
      "Matched query \"queries/91810_noise.mp3\" to track \"tracks/91810.mp3\", which took 1.8414976596832275 seconds.\n",
      "Matched query \"queries/119410_mobile.mp3\" to track \"tracks/119410.mp3\", which took 1.81257963180542 seconds.\n",
      "Matched query \"queries/136810_coding.mp3\" to track \"tracks/136810.mp3\", which took 1.844564437866211 seconds.\n",
      "Matched query \"queries/887210_noise.mp3\" to track \"tracks/887210.mp3\", which took 1.7894923686981201 seconds.\n",
      "Matched query \"queries/152310_mobile.mp3\" to track \"tracks/152310.mp3\", which took 1.8549935817718506 seconds.\n",
      "Matched query \"queries/94710_noise.mp3\" to track \"tracks/94710.mp3\", which took 1.8733282089233398 seconds.\n",
      "Matched query \"queries/91810.mp3\" to track \"tracks/91810.mp3\", which took 1.7819230556488037 seconds.\n",
      "Matched query \"queries/810_coding.mp3\" to track \"tracks/810.mp3\", which took 1.7918460369110107 seconds.\n",
      "Matched query \"queries/1192210_coding.mp3\" to track \"tracks/1192210.mp3\", which took 1.8238368034362793 seconds.\n",
      "Matched query \"queries/53310.mp3\" to track \"tracks/53310.mp3\", which took 1.9861032962799072 seconds.\n",
      "Matched query \"queries/1249910_coding.mp3\" to track \"tracks/1249910.mp3\", which took 1.8279764652252197 seconds.\n",
      "Matched query \"queries/1227910_noise.mp3\" to track \"tracks/1227910.mp3\", which took 1.7961006164550781 seconds.\n",
      "Matched query \"queries/1147910_mobile.mp3\" to track \"tracks/296110.mp3\", which took 1.7781202793121338 seconds.\n",
      "Matched query \"queries/242610_noise.mp3\" to track \"tracks/242610.mp3\", which took 1.794438123703003 seconds.\n",
      "Matched query \"queries/1400510_coding.mp3\" to track \"tracks/1400510.mp3\", which took 1.8316774368286133 seconds.\n",
      "Matched query \"queries/119410_noise.mp3\" to track \"tracks/119410.mp3\", which took 1.8096137046813965 seconds.\n",
      "Matched query \"queries/94710_mobile.mp3\" to track \"tracks/94710.mp3\", which took 1.9491832256317139 seconds.\n",
      "Matched query \"queries/887210.mp3\" to track \"tracks/887210.mp3\", which took 1.778230905532837 seconds.\n",
      "Matched query \"queries/963810_mobile.mp3\" to track \"tracks/963810.mp3\", which took 1.7941784858703613 seconds.\n",
      "Matched query \"queries/53310_mobile.mp3\" to track \"tracks/26910.mp3\", which took 1.9763972759246826 seconds.\n",
      "Matched query \"queries/1390710_coding.mp3\" to track \"tracks/1390710.mp3\", which took 1.8545951843261719 seconds.\n",
      "Matched query \"queries/219510_noise.mp3\" to track \"tracks/219510.mp3\", which took 1.793013334274292 seconds.\n",
      "Matched query \"queries/262010_noise.mp3\" to track \"tracks/262010.mp3\", which took 1.8084635734558105 seconds.\n",
      "Matched query \"queries/887210_coding.mp3\" to track \"tracks/887210.mp3\", which took 1.8397588729858398 seconds.\n",
      "Matched query \"queries/262010.mp3\" to track \"tracks/262010.mp3\", which took 1.880213737487793 seconds.\n",
      "Matched query \"queries/1192210_mobile.mp3\" to track \"tracks/1192210.mp3\", which took 1.8723704814910889 seconds.\n",
      "Matched query \"queries/152310_noise.mp3\" to track \"tracks/152310.mp3\", which took 2.4026362895965576 seconds.\n",
      "Matched query \"queries/53310_noise.mp3\" to track \"tracks/53310.mp3\", which took 1.9747719764709473 seconds.\n",
      "Matched query \"queries/1227910.mp3\" to track \"tracks/1227910.mp3\", which took 2.7920467853546143 seconds.\n",
      "Matched query \"queries/1249910_mobile.mp3\" to track \"tracks/1249910.mp3\", which took 2.5959558486938477 seconds.\n",
      "Matched query \"queries/810.mp3\" to track \"tracks/810.mp3\", which took 1.804490327835083 seconds.\n",
      "Matched query \"queries/136810_noise.mp3\" to track \"tracks/136810.mp3\", which took 1.8160536289215088 seconds.\n",
      "Matched query \"queries/136810_mobile.mp3\" to track \"tracks/136810.mp3\", which took 1.791106939315796 seconds.\n",
      "Matched query \"queries/1269810_coding.mp3\" to track \"tracks/1269810.mp3\", which took 1.8392283916473389 seconds.\n",
      "Matched query \"queries/1249910_noise.mp3\" to track \"tracks/1249910.mp3\", which took 1.7967288494110107 seconds.\n",
      "Matched query \"queries/1269810.mp3\" to track \"tracks/1269810.mp3\", which took 1.845325231552124 seconds.\n",
      "Matched query \"queries/1084710_noise.mp3\" to track \"tracks/1084710.mp3\", which took 1.814692497253418 seconds.\n",
      "Matched query \"queries/242610.mp3\" to track \"tracks/242610.mp3\", which took 1.7772042751312256 seconds.\n",
      "Matched query \"queries/91810_coding.mp3\" to track \"tracks/91810.mp3\", which took 1.8614208698272705 seconds.\n",
      "Matched query \"queries/1269810_mobile.mp3\" to track \"tracks/1269810.mp3\", which took 1.8581385612487793 seconds.\n",
      "Matched query \"queries/242610_coding.mp3\" to track \"tracks/242610.mp3\", which took 1.898038387298584 seconds.\n",
      "Matched query \"queries/53310_coding.mp3\" to track \"tracks/53310.mp3\", which took 1.8978934288024902 seconds.\n",
      "Matched query \"queries/91810_mobile.mp3\" to track \"tracks/91810.mp3\", which took 1.8676280975341797 seconds.\n",
      "Matched query \"queries/94710_coding.mp3\" to track \"tracks/94710.mp3\", which took 1.8364872932434082 seconds.\n",
      "Matched query \"queries/152310_coding.mp3\" to track \"tracks/152310.mp3\", which took 1.8434422016143799 seconds.\n",
      "Matched query \"queries/1400510.mp3\" to track \"tracks/1400510.mp3\", which took 1.9377048015594482 seconds.\n",
      "Matched query \"queries/1084710_coding.mp3\" to track \"tracks/1084710.mp3\", which took 2.130308151245117 seconds.\n",
      "Matched query \"queries/94710.mp3\" to track \"tracks/94710.mp3\", which took 1.8508286476135254 seconds.\n",
      "Matched query \"queries/242610_mobile.mp3\" to track \"tracks/242610.mp3\", which took 1.8380112648010254 seconds.\n",
      "Matched query \"queries/119410_coding.mp3\" to track \"tracks/119410.mp3\", which took 1.8166916370391846 seconds.\n",
      "Matched query \"queries/219510.mp3\" to track \"tracks/219510.mp3\", which took 1.8036625385284424 seconds.\n",
      "Matched query \"queries/1390710_noise.mp3\" to track \"tracks/1390710.mp3\", which took 1.8238372802734375 seconds.\n",
      "Matched query \"queries/262010_coding.mp3\" to track \"tracks/262010.mp3\", which took 1.8608713150024414 seconds.\n",
      "Matched query \"queries/1227910_mobile.mp3\" to track \"tracks/1227910.mp3\", which took 1.794337511062622 seconds.\n",
      "Matched query \"queries/1084710.mp3\" to track \"tracks/1084710.mp3\", which took 1.8207032680511475 seconds.\n",
      "Matched query \"queries/262010_mobile.mp3\" to track \"tracks/114410.mp3\", which took 1.8039166927337646 seconds.\n",
      "Matched query \"queries/810_noise.mp3\" to track \"tracks/810.mp3\", which took 1.93802809715271 seconds.\n",
      "Matched query \"queries/1390710_mobile.mp3\" to track \"tracks/1390710.mp3\", which took 1.8427674770355225 seconds.\n",
      "Matched query \"queries/219510_mobile.mp3\" to track \"tracks/948210.mp3\", which took 1.804929494857788 seconds.\n",
      "\n",
      "\n",
      "\n",
      "\n",
      "Matched 73 of 80 queries correctly.\n",
      "Average time per query: 1.80 seconds\n"
     ]
    }
   ],
   "source": [
    "query_best_scores_7_3 = {}\n",
    "query_times_7_3 = []\n",
    "\n",
    "for query_name, query_cmap in query_cmaps_7_3.items():\n",
    "    best_score = 0\n",
    "    best_name = None\n",
    "\n",
    "\n",
    "    # Start timing for this query\n",
    "    start_time = time.time()\n",
    "\n",
    "    \n",
    "    for track_name, track_cmap in track_cmaps_7_3.items():\n",
    "        delta, shift_max = compute_matching_function(track_cmap, query_cmap, tol_freq=0, tol_time=0)\n",
    "\n",
    "        if delta[shift_max] > best_score:\n",
    "            best_score = delta[shift_max]\n",
    "            best_name = track_name\n",
    "\n",
    "    # End timing for this query\n",
    "    end_time = time.time()\n",
    "    query_times_7_3.append(end_time - start_time)\n",
    "\n",
    "    query_best_scores_7_3[query_name] = {'matching_track': best_name, 'score': best_score}\n",
    "    print(f\"Matched query \\\"{query_name}\\\" to track \\\"{best_name}\\\", which took {query_times_7_3[-1]} seconds.\")\n",
    "    \n",
    "\n",
    "count_matches = sum(1 for query, details in query_best_scores_7_3.items()\n",
    "                     if details['matching_track'].split('/')[-1].replace('.mp3', '') in query.split('/')[-1])\n",
    "\n",
    "average_time_7_3 = sum(query_times_7_3) / len(query_times_7_3)\n",
    "\n",
    "\n",
    "print('\\n\\n\\n')\n",
    "print(f\"Matched {count_matches} of {len(query_best_scores_7_3)} queries correctly.\")\n",
    "print(f\"Average time per query: {average_time_7_3:.2f} seconds\")"
   ]
  },
  {
   "cell_type": "markdown",
   "id": "454571e0-e3f7-4828-9c93-fff658361166",
   "metadata": {},
   "source": [
    "### κ = 11, τ = 3"
   ]
  },
  {
   "cell_type": "code",
   "execution_count": 38,
   "id": "b2cfea02-71b0-431a-8843-2b0180096cd1",
   "metadata": {},
   "outputs": [
    {
     "name": "stdout",
     "output_type": "stream",
     "text": [
      "Matched query \"queries/1390710.mp3\" to track \"tracks/1390710.mp3\", which took 1.3956665992736816 seconds.\n",
      "Matched query \"queries/1249910.mp3\" to track \"tracks/1249910.mp3\", which took 1.4906363487243652 seconds.\n",
      "Matched query \"queries/152310.mp3\" to track \"tracks/152310.mp3\", which took 1.2981524467468262 seconds.\n",
      "Matched query \"queries/1147910.mp3\" to track \"tracks/1147910.mp3\", which took 1.322429895401001 seconds.\n",
      "Matched query \"queries/119410.mp3\" to track \"tracks/119410.mp3\", which took 1.237100601196289 seconds.\n",
      "Matched query \"queries/1400510_noise.mp3\" to track \"tracks/1418110.mp3\", which took 1.637923240661621 seconds.\n",
      "Matched query \"queries/136810.mp3\" to track \"tracks/136810.mp3\", which took 1.1454548835754395 seconds.\n",
      "Matched query \"queries/887210_mobile.mp3\" to track \"tracks/887210.mp3\", which took 1.2261621952056885 seconds.\n",
      "Matched query \"queries/1269810_noise.mp3\" to track \"tracks/1269810.mp3\", which took 2.559694766998291 seconds.\n",
      "Matched query \"queries/1400510_mobile.mp3\" to track \"tracks/296110.mp3\", which took 1.1154766082763672 seconds.\n",
      "Matched query \"queries/1084710_mobile.mp3\" to track \"tracks/155510.mp3\", which took 1.1202900409698486 seconds.\n",
      "Matched query \"queries/963810.mp3\" to track \"tracks/963810.mp3\", which took 1.0319712162017822 seconds.\n",
      "Matched query \"queries/1227910_coding.mp3\" to track \"tracks/1227910.mp3\", which took 1.12166428565979 seconds.\n",
      "Matched query \"queries/963810_noise.mp3\" to track \"tracks/963810.mp3\", which took 1.1029534339904785 seconds.\n",
      "Matched query \"queries/963810_coding.mp3\" to track \"tracks/963810.mp3\", which took 1.0427706241607666 seconds.\n",
      "Matched query \"queries/1192210_noise.mp3\" to track \"tracks/1192210.mp3\", which took 1.652458667755127 seconds.\n",
      "Matched query \"queries/219510_coding.mp3\" to track \"tracks/219510.mp3\", which took 2.0229079723358154 seconds.\n",
      "Matched query \"queries/810_mobile.mp3\" to track \"tracks/810.mp3\", which took 2.1188275814056396 seconds.\n",
      "Matched query \"queries/1147910_noise.mp3\" to track \"tracks/1147910.mp3\", which took 1.909454107284546 seconds.\n",
      "Matched query \"queries/1192210.mp3\" to track \"tracks/1192210.mp3\", which took 1.8940136432647705 seconds.\n",
      "Matched query \"queries/1147910_coding.mp3\" to track \"tracks/1147910.mp3\", which took 2.092097282409668 seconds.\n",
      "Matched query \"queries/91810_noise.mp3\" to track \"tracks/91810.mp3\", which took 1.9221673011779785 seconds.\n",
      "Matched query \"queries/119410_mobile.mp3\" to track \"tracks/119410.mp3\", which took 1.8163304328918457 seconds.\n",
      "Matched query \"queries/136810_coding.mp3\" to track \"tracks/136810.mp3\", which took 1.8935189247131348 seconds.\n",
      "Matched query \"queries/887210_noise.mp3\" to track \"tracks/887210.mp3\", which took 1.8992133140563965 seconds.\n",
      "Matched query \"queries/152310_mobile.mp3\" to track \"tracks/152310.mp3\", which took 1.7857301235198975 seconds.\n",
      "Matched query \"queries/94710_noise.mp3\" to track \"tracks/94710.mp3\", which took 1.7964792251586914 seconds.\n",
      "Matched query \"queries/91810.mp3\" to track \"tracks/91810.mp3\", which took 1.7833373546600342 seconds.\n",
      "Matched query \"queries/810_coding.mp3\" to track \"tracks/810.mp3\", which took 2.520993232727051 seconds.\n",
      "Matched query \"queries/1192210_coding.mp3\" to track \"tracks/1192210.mp3\", which took 2.147395133972168 seconds.\n",
      "Matched query \"queries/53310.mp3\" to track \"tracks/53310.mp3\", which took 2.2764627933502197 seconds.\n",
      "Matched query \"queries/1249910_coding.mp3\" to track \"tracks/1249910.mp3\", which took 1.9408652782440186 seconds.\n",
      "Matched query \"queries/1227910_noise.mp3\" to track \"tracks/1227910.mp3\", which took 2.061298370361328 seconds.\n",
      "Matched query \"queries/1147910_mobile.mp3\" to track \"tracks/296110.mp3\", which took 1.7845432758331299 seconds.\n",
      "Matched query \"queries/242610_noise.mp3\" to track \"tracks/242610.mp3\", which took 1.8063082695007324 seconds.\n",
      "Matched query \"queries/1400510_coding.mp3\" to track \"tracks/1400510.mp3\", which took 1.9628069400787354 seconds.\n",
      "Matched query \"queries/119410_noise.mp3\" to track \"tracks/119410.mp3\", which took 1.8730781078338623 seconds.\n",
      "Matched query \"queries/94710_mobile.mp3\" to track \"tracks/94710.mp3\", which took 2.1811513900756836 seconds.\n",
      "Matched query \"queries/887210.mp3\" to track \"tracks/887210.mp3\", which took 1.2105412483215332 seconds.\n",
      "Matched query \"queries/963810_mobile.mp3\" to track \"tracks/963810.mp3\", which took 1.0881588459014893 seconds.\n",
      "Matched query \"queries/53310_mobile.mp3\" to track \"tracks/53310.mp3\", which took 1.28769850730896 seconds.\n",
      "Matched query \"queries/1390710_coding.mp3\" to track \"tracks/1390710.mp3\", which took 1.2942893505096436 seconds.\n",
      "Matched query \"queries/219510_noise.mp3\" to track \"tracks/219510.mp3\", which took 1.2464396953582764 seconds.\n",
      "Matched query \"queries/262010_noise.mp3\" to track \"tracks/262010.mp3\", which took 1.1343324184417725 seconds.\n",
      "Matched query \"queries/887210_coding.mp3\" to track \"tracks/887210.mp3\", which took 1.2402832508087158 seconds.\n",
      "Matched query \"queries/262010.mp3\" to track \"tracks/262010.mp3\", which took 1.2046358585357666 seconds.\n",
      "Matched query \"queries/1192210_mobile.mp3\" to track \"tracks/1192210.mp3\", which took 1.128087043762207 seconds.\n",
      "Matched query \"queries/152310_noise.mp3\" to track \"tracks/152310.mp3\", which took 1.3355212211608887 seconds.\n",
      "Matched query \"queries/53310_noise.mp3\" to track \"tracks/53310.mp3\", which took 1.2707679271697998 seconds.\n",
      "Matched query \"queries/1227910.mp3\" to track \"tracks/1227910.mp3\", which took 1.2137269973754883 seconds.\n",
      "Matched query \"queries/1249910_mobile.mp3\" to track \"tracks/1249910.mp3\", which took 1.1416783332824707 seconds.\n",
      "Matched query \"queries/810.mp3\" to track \"tracks/810.mp3\", which took 1.199571132659912 seconds.\n",
      "Matched query \"queries/136810_noise.mp3\" to track \"tracks/136810.mp3\", which took 1.2259268760681152 seconds.\n",
      "Matched query \"queries/136810_mobile.mp3\" to track \"tracks/136810.mp3\", which took 1.2050364017486572 seconds.\n",
      "Matched query \"queries/1269810_coding.mp3\" to track \"tracks/1269810.mp3\", which took 1.1704204082489014 seconds.\n",
      "Matched query \"queries/1249910_noise.mp3\" to track \"tracks/1249910.mp3\", which took 1.2416889667510986 seconds.\n",
      "Matched query \"queries/1269810.mp3\" to track \"tracks/1269810.mp3\", which took 1.360231637954712 seconds.\n",
      "Matched query \"queries/1084710_noise.mp3\" to track \"tracks/1084710.mp3\", which took 1.3087425231933594 seconds.\n",
      "Matched query \"queries/242610.mp3\" to track \"tracks/242610.mp3\", which took 1.8489325046539307 seconds.\n",
      "Matched query \"queries/91810_coding.mp3\" to track \"tracks/91810.mp3\", which took 1.7636666297912598 seconds.\n",
      "Matched query \"queries/1269810_mobile.mp3\" to track \"tracks/1269810.mp3\", which took 1.2266287803649902 seconds.\n",
      "Matched query \"queries/242610_coding.mp3\" to track \"tracks/242610.mp3\", which took 1.1519837379455566 seconds.\n",
      "Matched query \"queries/53310_coding.mp3\" to track \"tracks/53310.mp3\", which took 1.2546720504760742 seconds.\n",
      "Matched query \"queries/91810_mobile.mp3\" to track \"tracks/91810.mp3\", which took 1.2814922332763672 seconds.\n",
      "Matched query \"queries/94710_coding.mp3\" to track \"tracks/94710.mp3\", which took 1.2439804077148438 seconds.\n",
      "Matched query \"queries/152310_coding.mp3\" to track \"tracks/152310.mp3\", which took 1.184011697769165 seconds.\n",
      "Matched query \"queries/1400510.mp3\" to track \"tracks/1400510.mp3\", which took 1.2009332180023193 seconds.\n",
      "Matched query \"queries/1084710_coding.mp3\" to track \"tracks/1084710.mp3\", which took 1.2483258247375488 seconds.\n",
      "Matched query \"queries/94710.mp3\" to track \"tracks/94710.mp3\", which took 1.1419956684112549 seconds.\n",
      "Matched query \"queries/242610_mobile.mp3\" to track \"tracks/242610.mp3\", which took 1.2279040813446045 seconds.\n",
      "Matched query \"queries/119410_coding.mp3\" to track \"tracks/119410.mp3\", which took 1.2244186401367188 seconds.\n",
      "Matched query \"queries/219510.mp3\" to track \"tracks/219510.mp3\", which took 1.2105441093444824 seconds.\n",
      "Matched query \"queries/1390710_noise.mp3\" to track \"tracks/1390710.mp3\", which took 1.1434788703918457 seconds.\n",
      "Matched query \"queries/262010_coding.mp3\" to track \"tracks/262010.mp3\", which took 1.22469162940979 seconds.\n",
      "Matched query \"queries/1227910_mobile.mp3\" to track \"tracks/1227910.mp3\", which took 1.2061841487884521 seconds.\n",
      "Matched query \"queries/1084710.mp3\" to track \"tracks/1084710.mp3\", which took 1.241032361984253 seconds.\n",
      "Matched query \"queries/262010_mobile.mp3\" to track \"tracks/981910.mp3\", which took 1.705984354019165 seconds.\n",
      "Matched query \"queries/810_noise.mp3\" to track \"tracks/810.mp3\", which took 1.839388370513916 seconds.\n",
      "Matched query \"queries/1390710_mobile.mp3\" to track \"tracks/1390710.mp3\", which took 1.4706997871398926 seconds.\n",
      "Matched query \"queries/219510_mobile.mp3\" to track \"tracks/1396710.mp3\", which took 1.2469592094421387 seconds.\n",
      "\n",
      "\n",
      "\n",
      "\n",
      "Matched 74 of 80 queries correctly.\n",
      "Average time per query: 1.48 seconds\n"
     ]
    }
   ],
   "source": [
    "query_best_scores_11_3 = {}\n",
    "query_times_11_3 = []\n",
    "\n",
    "for query_name, query_cmap in query_cmaps_11_3.items():\n",
    "    best_score = 0\n",
    "    best_name = None\n",
    "\n",
    "\n",
    "    # Start timing for this query\n",
    "    start_time = time.time()\n",
    "\n",
    "    \n",
    "    for track_name, track_cmap in track_cmaps_11_3.items():\n",
    "        delta, shift_max = compute_matching_function(track_cmap, query_cmap, tol_freq=0, tol_time=0)\n",
    "\n",
    "        if delta[shift_max] > best_score:\n",
    "            best_score = delta[shift_max]\n",
    "            best_name = track_name\n",
    "\n",
    "    # End timing for this query\n",
    "    end_time = time.time()\n",
    "    query_times_11_3.append(end_time - start_time)\n",
    "\n",
    "    query_best_scores_11_3[query_name] = {'matching_track': best_name, 'score': best_score}\n",
    "    print(f\"Matched query \\\"{query_name}\\\" to track \\\"{best_name}\\\", which took {query_times_11_3[-1]} seconds.\")\n",
    "    \n",
    "\n",
    "count_matches = sum(1 for query, details in query_best_scores_11_3.items()\n",
    "                     if details['matching_track'].split('/')[-1].replace('.mp3', '') in query.split('/')[-1])\n",
    "\n",
    "average_time_11_3 = sum(query_times_11_3) / len(query_times_11_3)\n",
    "\n",
    "\n",
    "print('\\n\\n\\n')\n",
    "print(f\"Matched {count_matches} of {len(query_best_scores_11_3)} queries correctly.\")\n",
    "print(f\"Average time per query: {average_time_11_3:.2f} seconds\")"
   ]
  },
  {
   "cell_type": "markdown",
   "id": "7cf6b42f-a150-499a-9f6a-0172be839562",
   "metadata": {},
   "source": [
    "### κ = 10, τ = 10"
   ]
  },
  {
   "cell_type": "code",
   "execution_count": 39,
   "id": "b0279105-8ceb-45b0-9ad4-fb4a78722742",
   "metadata": {},
   "outputs": [
    {
     "name": "stdout",
     "output_type": "stream",
     "text": [
      "Matched query \"queries/1390710.mp3\" to track \"tracks/1390710.mp3\", which took 1.2396743297576904 seconds.\n",
      "Matched query \"queries/1249910.mp3\" to track \"tracks/1249910.mp3\", which took 1.1969285011291504 seconds.\n",
      "Matched query \"queries/152310.mp3\" to track \"tracks/152310.mp3\", which took 1.2876930236816406 seconds.\n",
      "Matched query \"queries/1147910.mp3\" to track \"tracks/1147910.mp3\", which took 1.6178176403045654 seconds.\n",
      "Matched query \"queries/119410.mp3\" to track \"tracks/119410.mp3\", which took 1.1180405616760254 seconds.\n",
      "Matched query \"queries/1400510_noise.mp3\" to track \"tracks/1192110.mp3\", which took 1.4003651142120361 seconds.\n",
      "Matched query \"queries/136810.mp3\" to track \"tracks/136810.mp3\", which took 1.8140642642974854 seconds.\n",
      "Matched query \"queries/887210_mobile.mp3\" to track \"tracks/887210.mp3\", which took 1.8982489109039307 seconds.\n",
      "Matched query \"queries/1269810_noise.mp3\" to track \"tracks/1269810.mp3\", which took 2.251842975616455 seconds.\n",
      "Matched query \"queries/1400510_mobile.mp3\" to track \"tracks/1169710.mp3\", which took 1.9555625915527344 seconds.\n",
      "Matched query \"queries/1084710_mobile.mp3\" to track \"tracks/1185710.mp3\", which took 1.504333257675171 seconds.\n",
      "Matched query \"queries/963810.mp3\" to track \"tracks/963810.mp3\", which took 1.42018723487854 seconds.\n",
      "Matched query \"queries/1227910_coding.mp3\" to track \"tracks/1227910.mp3\", which took 1.592503309249878 seconds.\n",
      "Matched query \"queries/963810_noise.mp3\" to track \"tracks/963810.mp3\", which took 1.310405969619751 seconds.\n",
      "Matched query \"queries/963810_coding.mp3\" to track \"tracks/963810.mp3\", which took 2.358154296875 seconds.\n",
      "Matched query \"queries/1192210_noise.mp3\" to track \"tracks/1192210.mp3\", which took 1.381260633468628 seconds.\n",
      "Matched query \"queries/219510_coding.mp3\" to track \"tracks/219510.mp3\", which took 2.0068764686584473 seconds.\n",
      "Matched query \"queries/810_mobile.mp3\" to track \"tracks/810.mp3\", which took 2.6163291931152344 seconds.\n",
      "Matched query \"queries/1147910_noise.mp3\" to track \"tracks/1147910.mp3\", which took 2.2566330432891846 seconds.\n",
      "Matched query \"queries/1192210.mp3\" to track \"tracks/1192210.mp3\", which took 1.449815273284912 seconds.\n",
      "Matched query \"queries/1147910_coding.mp3\" to track \"tracks/1147910.mp3\", which took 1.7627806663513184 seconds.\n",
      "Matched query \"queries/91810_noise.mp3\" to track \"tracks/91810.mp3\", which took 1.1719918251037598 seconds.\n",
      "Matched query \"queries/119410_mobile.mp3\" to track \"tracks/119410.mp3\", which took 1.280245065689087 seconds.\n",
      "Matched query \"queries/136810_coding.mp3\" to track \"tracks/136810.mp3\", which took 1.231806755065918 seconds.\n",
      "Matched query \"queries/887210_noise.mp3\" to track \"tracks/887210.mp3\", which took 1.2487492561340332 seconds.\n",
      "Matched query \"queries/152310_mobile.mp3\" to track \"tracks/152310.mp3\", which took 1.6385369300842285 seconds.\n",
      "Matched query \"queries/94710_noise.mp3\" to track \"tracks/94710.mp3\", which took 1.8609557151794434 seconds.\n",
      "Matched query \"queries/91810.mp3\" to track \"tracks/91810.mp3\", which took 1.9494013786315918 seconds.\n",
      "Matched query \"queries/810_coding.mp3\" to track \"tracks/810.mp3\", which took 1.8433492183685303 seconds.\n",
      "Matched query \"queries/1192210_coding.mp3\" to track \"tracks/1192210.mp3\", which took 1.8081567287445068 seconds.\n",
      "Matched query \"queries/53310.mp3\" to track \"tracks/53310.mp3\", which took 1.343496561050415 seconds.\n",
      "Matched query \"queries/1249910_coding.mp3\" to track \"tracks/1249910.mp3\", which took 1.418651819229126 seconds.\n",
      "Matched query \"queries/1227910_noise.mp3\" to track \"tracks/1227910.mp3\", which took 1.1702556610107422 seconds.\n",
      "Matched query \"queries/1147910_mobile.mp3\" to track \"tracks/439010.mp3\", which took 1.2593917846679688 seconds.\n",
      "Matched query \"queries/242610_noise.mp3\" to track \"tracks/242610.mp3\", which took 1.251889705657959 seconds.\n",
      "Matched query \"queries/1400510_coding.mp3\" to track \"tracks/1400510.mp3\", which took 1.219353437423706 seconds.\n",
      "Matched query \"queries/119410_noise.mp3\" to track \"tracks/119410.mp3\", which took 1.6411247253417969 seconds.\n",
      "Matched query \"queries/94710_mobile.mp3\" to track \"tracks/1286510.mp3\", which took 1.9987435340881348 seconds.\n",
      "Matched query \"queries/887210.mp3\" to track \"tracks/887210.mp3\", which took 1.8525161743164062 seconds.\n",
      "Matched query \"queries/963810_mobile.mp3\" to track \"tracks/963810.mp3\", which took 1.995187520980835 seconds.\n",
      "Matched query \"queries/53310_mobile.mp3\" to track \"tracks/1191110.mp3\", which took 1.6807622909545898 seconds.\n",
      "Matched query \"queries/1390710_coding.mp3\" to track \"tracks/1390710.mp3\", which took 1.3176376819610596 seconds.\n",
      "Matched query \"queries/219510_noise.mp3\" to track \"tracks/219510.mp3\", which took 1.2933800220489502 seconds.\n",
      "Matched query \"queries/262010_noise.mp3\" to track \"tracks/262010.mp3\", which took 1.1601996421813965 seconds.\n",
      "Matched query \"queries/887210_coding.mp3\" to track \"tracks/887210.mp3\", which took 1.2633082866668701 seconds.\n",
      "Matched query \"queries/262010.mp3\" to track \"tracks/262010.mp3\", which took 1.5909440517425537 seconds.\n",
      "Matched query \"queries/1192210_mobile.mp3\" to track \"tracks/1192210.mp3\", which took 1.8415260314941406 seconds.\n",
      "Matched query \"queries/152310_noise.mp3\" to track \"tracks/152310.mp3\", which took 1.880202054977417 seconds.\n",
      "Matched query \"queries/53310_noise.mp3\" to track \"tracks/981910.mp3\", which took 2.0663323402404785 seconds.\n",
      "Matched query \"queries/1227910.mp3\" to track \"tracks/1227910.mp3\", which took 1.681739330291748 seconds.\n",
      "Matched query \"queries/1249910_mobile.mp3\" to track \"tracks/1249910.mp3\", which took 1.2195191383361816 seconds.\n",
      "Matched query \"queries/810.mp3\" to track \"tracks/810.mp3\", which took 1.2359557151794434 seconds.\n",
      "Matched query \"queries/136810_noise.mp3\" to track \"tracks/136810.mp3\", which took 1.3939850330352783 seconds.\n",
      "Matched query \"queries/136810_mobile.mp3\" to track \"tracks/136810.mp3\", which took 1.097299575805664 seconds.\n",
      "Matched query \"queries/1269810_coding.mp3\" to track \"tracks/1269810.mp3\", which took 1.5684149265289307 seconds.\n",
      "Matched query \"queries/1249910_noise.mp3\" to track \"tracks/1249910.mp3\", which took 2.089979648590088 seconds.\n",
      "Matched query \"queries/1269810.mp3\" to track \"tracks/1269810.mp3\", which took 3.6599526405334473 seconds.\n",
      "Matched query \"queries/1084710_noise.mp3\" to track \"tracks/1084710.mp3\", which took 1.8322725296020508 seconds.\n",
      "Matched query \"queries/242610.mp3\" to track \"tracks/242610.mp3\", which took 2.2240607738494873 seconds.\n",
      "Matched query \"queries/91810_coding.mp3\" to track \"tracks/91810.mp3\", which took 1.295534372329712 seconds.\n",
      "Matched query \"queries/1269810_mobile.mp3\" to track \"tracks/1269810.mp3\", which took 1.218278408050537 seconds.\n",
      "Matched query \"queries/242610_coding.mp3\" to track \"tracks/242610.mp3\", which took 1.1547424793243408 seconds.\n",
      "Matched query \"queries/53310_coding.mp3\" to track \"tracks/53310.mp3\", which took 1.4110815525054932 seconds.\n",
      "Matched query \"queries/91810_mobile.mp3\" to track \"tracks/91810.mp3\", which took 1.4827470779418945 seconds.\n",
      "Matched query \"queries/94710_coding.mp3\" to track \"tracks/94710.mp3\", which took 1.8664560317993164 seconds.\n",
      "Matched query \"queries/152310_coding.mp3\" to track \"tracks/152310.mp3\", which took 1.963561773300171 seconds.\n",
      "Matched query \"queries/1400510.mp3\" to track \"tracks/1400510.mp3\", which took 1.7687489986419678 seconds.\n",
      "Matched query \"queries/1084710_coding.mp3\" to track \"tracks/1084710.mp3\", which took 1.2484958171844482 seconds.\n",
      "Matched query \"queries/94710.mp3\" to track \"tracks/94710.mp3\", which took 1.2132399082183838 seconds.\n",
      "Matched query \"queries/242610_mobile.mp3\" to track \"tracks/242610.mp3\", which took 1.1997482776641846 seconds.\n",
      "Matched query \"queries/119410_coding.mp3\" to track \"tracks/119410.mp3\", which took 1.7064509391784668 seconds.\n",
      "Matched query \"queries/219510.mp3\" to track \"tracks/219510.mp3\", which took 1.874755859375 seconds.\n",
      "Matched query \"queries/1390710_noise.mp3\" to track \"tracks/1390710.mp3\", which took 2.4486875534057617 seconds.\n",
      "Matched query \"queries/262010_coding.mp3\" to track \"tracks/262010.mp3\", which took 1.5847954750061035 seconds.\n",
      "Matched query \"queries/1227910_mobile.mp3\" to track \"tracks/1381310.mp3\", which took 1.2393689155578613 seconds.\n",
      "Matched query \"queries/1084710.mp3\" to track \"tracks/1084710.mp3\", which took 1.2290589809417725 seconds.\n",
      "Matched query \"queries/262010_mobile.mp3\" to track \"tracks/37010.mp3\", which took 1.7279796600341797 seconds.\n",
      "Matched query \"queries/810_noise.mp3\" to track \"tracks/810.mp3\", which took 1.9063220024108887 seconds.\n",
      "Matched query \"queries/1390710_mobile.mp3\" to track \"tracks/1390710.mp3\", which took 1.859445333480835 seconds.\n",
      "Matched query \"queries/219510_mobile.mp3\" to track \"tracks/1400610.mp3\", which took 1.8355696201324463 seconds.\n",
      "\n",
      "\n",
      "\n",
      "\n",
      "Matched 70 of 80 queries correctly.\n",
      "Average time per query: 1.62 seconds\n"
     ]
    }
   ],
   "source": [
    "query_best_scores_10_10 = {}\n",
    "query_times_10_10 = []\n",
    "\n",
    "for query_name, query_cmap in query_cmaps_10_10.items():\n",
    "    best_score = 0\n",
    "    best_name = None\n",
    "\n",
    "\n",
    "    # Start timing for this query\n",
    "    start_time = time.time()\n",
    "\n",
    "    \n",
    "    for track_name, track_cmap in track_cmaps_10_10.items():\n",
    "        delta, shift_max = compute_matching_function(track_cmap, query_cmap, tol_freq=0, tol_time=0)\n",
    "\n",
    "        if delta[shift_max] > best_score:\n",
    "            best_score = delta[shift_max]\n",
    "            best_name = track_name\n",
    "\n",
    "    # End timing for this query\n",
    "    end_time = time.time()\n",
    "    query_times_10_10.append(end_time - start_time)\n",
    "\n",
    "    query_best_scores_10_10[query_name] = {'matching_track': best_name, 'score': best_score}\n",
    "    print(f\"Matched query \\\"{query_name}\\\" to track \\\"{best_name}\\\", which took {query_times_10_10[-1]} seconds.\")\n",
    "    \n",
    "\n",
    "count_matches = sum(1 for query, details in query_best_scores_10_10.items()\n",
    "                     if details['matching_track'].split('/')[-1].replace('.mp3', '') in query.split('/')[-1])\n",
    "\n",
    "average_time_10_10 = sum(query_times_10_10) / len(query_times_10_10)\n",
    "\n",
    "\n",
    "print('\\n\\n\\n')\n",
    "print(f\"Matched {count_matches} of {len(query_best_scores_10_10)} queries correctly.\")\n",
    "print(f\"Average time per query: {average_time_10_10:.2f} seconds\")"
   ]
  },
  {
   "cell_type": "markdown",
   "id": "81931506-5ed0-47d5-b517-aa7491e2a0a5",
   "metadata": {},
   "source": [
    "### κ = 5, τ = 15"
   ]
  },
  {
   "cell_type": "code",
   "execution_count": 40,
   "id": "740a959c-074b-46f9-8f53-45d70bcb2710",
   "metadata": {},
   "outputs": [
    {
     "name": "stdout",
     "output_type": "stream",
     "text": [
      "Matched query \"queries/1390710.mp3\" to track \"tracks/1390710.mp3\", which took 1.735426425933838 seconds.\n",
      "Matched query \"queries/1249910.mp3\" to track \"tracks/1249910.mp3\", which took 1.2210257053375244 seconds.\n",
      "Matched query \"queries/152310.mp3\" to track \"tracks/152310.mp3\", which took 1.2193963527679443 seconds.\n",
      "Matched query \"queries/1147910.mp3\" to track \"tracks/1147910.mp3\", which took 1.2383267879486084 seconds.\n",
      "Matched query \"queries/119410.mp3\" to track \"tracks/119410.mp3\", which took 1.2088522911071777 seconds.\n",
      "Matched query \"queries/1400510_noise.mp3\" to track \"tracks/1400510.mp3\", which took 1.332970380783081 seconds.\n",
      "Matched query \"queries/136810.mp3\" to track \"tracks/136810.mp3\", which took 1.1078486442565918 seconds.\n",
      "Matched query \"queries/887210_mobile.mp3\" to track \"tracks/887210.mp3\", which took 1.5777504444122314 seconds.\n",
      "Matched query \"queries/1269810_noise.mp3\" to track \"tracks/1269810.mp3\", which took 1.8484487533569336 seconds.\n",
      "Matched query \"queries/1400510_mobile.mp3\" to track \"tracks/1169710.mp3\", which took 1.94035005569458 seconds.\n",
      "Matched query \"queries/1084710_mobile.mp3\" to track \"tracks/80410.mp3\", which took 1.8672900199890137 seconds.\n",
      "Matched query \"queries/963810.mp3\" to track \"tracks/963810.mp3\", which took 1.8044171333312988 seconds.\n",
      "Matched query \"queries/1227910_coding.mp3\" to track \"tracks/1227910.mp3\", which took 1.961625099182129 seconds.\n",
      "Matched query \"queries/963810_noise.mp3\" to track \"tracks/963810.mp3\", which took 1.27406907081604 seconds.\n",
      "Matched query \"queries/963810_coding.mp3\" to track \"tracks/963810.mp3\", which took 1.1704185009002686 seconds.\n",
      "Matched query \"queries/1192210_noise.mp3\" to track \"tracks/1192210.mp3\", which took 1.204765796661377 seconds.\n",
      "Matched query \"queries/219510_coding.mp3\" to track \"tracks/219510.mp3\", which took 1.4659457206726074 seconds.\n",
      "Matched query \"queries/810_mobile.mp3\" to track \"tracks/397110.mp3\", which took 3.1953861713409424 seconds.\n",
      "Matched query \"queries/1147910_noise.mp3\" to track \"tracks/1147910.mp3\", which took 2.6376376152038574 seconds.\n",
      "Matched query \"queries/1192210.mp3\" to track \"tracks/1192210.mp3\", which took 1.804441213607788 seconds.\n",
      "Matched query \"queries/1147910_coding.mp3\" to track \"tracks/1147910.mp3\", which took 2.0666470527648926 seconds.\n",
      "Matched query \"queries/91810_noise.mp3\" to track \"tracks/91810.mp3\", which took 1.839979887008667 seconds.\n",
      "Matched query \"queries/119410_mobile.mp3\" to track \"tracks/119410.mp3\", which took 1.908911943435669 seconds.\n",
      "Matched query \"queries/136810_coding.mp3\" to track \"tracks/136810.mp3\", which took 1.1905581951141357 seconds.\n",
      "Matched query \"queries/887210_noise.mp3\" to track \"tracks/887210.mp3\", which took 1.2176275253295898 seconds.\n",
      "Matched query \"queries/152310_mobile.mp3\" to track \"tracks/152310.mp3\", which took 1.1267764568328857 seconds.\n",
      "Matched query \"queries/94710_noise.mp3\" to track \"tracks/94710.mp3\", which took 1.343074083328247 seconds.\n",
      "Matched query \"queries/91810.mp3\" to track \"tracks/91810.mp3\", which took 1.4652886390686035 seconds.\n",
      "Matched query \"queries/810_coding.mp3\" to track \"tracks/810.mp3\", which took 2.057925224304199 seconds.\n",
      "Matched query \"queries/1192210_coding.mp3\" to track \"tracks/1192210.mp3\", which took 1.8452134132385254 seconds.\n",
      "Matched query \"queries/53310.mp3\" to track \"tracks/53310.mp3\", which took 2.219973564147949 seconds.\n",
      "Matched query \"queries/1249910_coding.mp3\" to track \"tracks/1249910.mp3\", which took 2.4377055168151855 seconds.\n",
      "Matched query \"queries/1227910_noise.mp3\" to track \"tracks/1227910.mp3\", which took 2.021113157272339 seconds.\n",
      "Matched query \"queries/1147910_mobile.mp3\" to track \"tracks/1119410.mp3\", which took 1.47983980178833 seconds.\n",
      "Matched query \"queries/242610_noise.mp3\" to track \"tracks/242610.mp3\", which took 1.2373783588409424 seconds.\n",
      "Matched query \"queries/1400510_coding.mp3\" to track \"tracks/1400510.mp3\", which took 1.8611137866973877 seconds.\n",
      "Matched query \"queries/119410_noise.mp3\" to track \"tracks/119410.mp3\", which took 1.865873098373413 seconds.\n",
      "Matched query \"queries/94710_mobile.mp3\" to track \"tracks/94710.mp3\", which took 2.5796847343444824 seconds.\n",
      "Matched query \"queries/887210.mp3\" to track \"tracks/887210.mp3\", which took 1.814283847808838 seconds.\n",
      "Matched query \"queries/963810_mobile.mp3\" to track \"tracks/963810.mp3\", which took 2.4026741981506348 seconds.\n",
      "Matched query \"queries/53310_mobile.mp3\" to track \"tracks/1192110.mp3\", which took 2.2289047241210938 seconds.\n",
      "Matched query \"queries/1390710_coding.mp3\" to track \"tracks/1390710.mp3\", which took 1.970911979675293 seconds.\n",
      "Matched query \"queries/219510_noise.mp3\" to track \"tracks/219510.mp3\", which took 1.187906265258789 seconds.\n",
      "Matched query \"queries/262010_noise.mp3\" to track \"tracks/262010.mp3\", which took 1.188314437866211 seconds.\n",
      "Matched query \"queries/887210_coding.mp3\" to track \"tracks/887210.mp3\", which took 1.303025722503662 seconds.\n",
      "Matched query \"queries/262010.mp3\" to track \"tracks/262010.mp3\", which took 1.6270747184753418 seconds.\n",
      "Matched query \"queries/1192210_mobile.mp3\" to track \"tracks/1192210.mp3\", which took 1.8365113735198975 seconds.\n",
      "Matched query \"queries/152310_noise.mp3\" to track \"tracks/152310.mp3\", which took 1.8328378200531006 seconds.\n",
      "Matched query \"queries/53310_noise.mp3\" to track \"tracks/53310.mp3\", which took 2.8407557010650635 seconds.\n",
      "Matched query \"queries/1227910.mp3\" to track \"tracks/1227910.mp3\", which took 3.341817855834961 seconds.\n",
      "Matched query \"queries/1249910_mobile.mp3\" to track \"tracks/1249910.mp3\", which took 1.7041981220245361 seconds.\n",
      "Matched query \"queries/810.mp3\" to track \"tracks/810.mp3\", which took 1.5261633396148682 seconds.\n",
      "Matched query \"queries/136810_noise.mp3\" to track \"tracks/136810.mp3\", which took 1.081118106842041 seconds.\n",
      "Matched query \"queries/136810_mobile.mp3\" to track \"tracks/136810.mp3\", which took 1.1949238777160645 seconds.\n",
      "Matched query \"queries/1269810_coding.mp3\" to track \"tracks/1269810.mp3\", which took 1.2459089756011963 seconds.\n",
      "Matched query \"queries/1249910_noise.mp3\" to track \"tracks/1249910.mp3\", which took 1.5734517574310303 seconds.\n",
      "Matched query \"queries/1269810.mp3\" to track \"tracks/1269810.mp3\", which took 1.809746265411377 seconds.\n",
      "Matched query \"queries/1084710_noise.mp3\" to track \"tracks/1084710.mp3\", which took 1.9724459648132324 seconds.\n",
      "Matched query \"queries/242610.mp3\" to track \"tracks/242610.mp3\", which took 1.7944574356079102 seconds.\n",
      "Matched query \"queries/91810_coding.mp3\" to track \"tracks/91810.mp3\", which took 2.0779104232788086 seconds.\n",
      "Matched query \"queries/1269810_mobile.mp3\" to track \"tracks/1269810.mp3\", which took 1.9470810890197754 seconds.\n",
      "Matched query \"queries/242610_coding.mp3\" to track \"tracks/242610.mp3\", which took 1.8820760250091553 seconds.\n",
      "Matched query \"queries/53310_coding.mp3\" to track \"tracks/53310.mp3\", which took 1.337923288345337 seconds.\n",
      "Matched query \"queries/91810_mobile.mp3\" to track \"tracks/91810.mp3\", which took 1.2623157501220703 seconds.\n",
      "Matched query \"queries/94710_coding.mp3\" to track \"tracks/94710.mp3\", which took 1.2258975505828857 seconds.\n",
      "Matched query \"queries/152310_coding.mp3\" to track \"tracks/152310.mp3\", which took 1.1804096698760986 seconds.\n",
      "Matched query \"queries/1400510.mp3\" to track \"tracks/1400510.mp3\", which took 1.2502942085266113 seconds.\n",
      "Matched query \"queries/1084710_coding.mp3\" to track \"tracks/1084710.mp3\", which took 1.8845922946929932 seconds.\n",
      "Matched query \"queries/94710.mp3\" to track \"tracks/94710.mp3\", which took 2.50313138961792 seconds.\n",
      "Matched query \"queries/242610_mobile.mp3\" to track \"tracks/242610.mp3\", which took 2.046738386154175 seconds.\n",
      "Matched query \"queries/119410_coding.mp3\" to track \"tracks/119410.mp3\", which took 2.144697666168213 seconds.\n",
      "Matched query \"queries/219510.mp3\" to track \"tracks/219510.mp3\", which took 2.356691598892212 seconds.\n",
      "Matched query \"queries/1390710_noise.mp3\" to track \"tracks/1390710.mp3\", which took 2.201080083847046 seconds.\n",
      "Matched query \"queries/262010_coding.mp3\" to track \"tracks/262010.mp3\", which took 2.115983486175537 seconds.\n",
      "Matched query \"queries/1227910_mobile.mp3\" to track \"tracks/1227910.mp3\", which took 1.2058415412902832 seconds.\n",
      "Matched query \"queries/1084710.mp3\" to track \"tracks/1084710.mp3\", which took 1.220224142074585 seconds.\n",
      "Matched query \"queries/262010_mobile.mp3\" to track \"tracks/1227910.mp3\", which took 1.1230595111846924 seconds.\n",
      "Matched query \"queries/810_noise.mp3\" to track \"tracks/810.mp3\", which took 1.200237512588501 seconds.\n",
      "Matched query \"queries/1390710_mobile.mp3\" to track \"tracks/1390710.mp3\", which took 1.5596199035644531 seconds.\n",
      "Matched query \"queries/219510_mobile.mp3\" to track \"tracks/998710.mp3\", which took 1.8381314277648926 seconds.\n",
      "\n",
      "\n",
      "\n",
      "\n",
      "Matched 73 of 80 queries correctly.\n",
      "Average time per query: 1.72 seconds\n"
     ]
    }
   ],
   "source": [
    "query_best_scores_5_15 = {}\n",
    "query_times_5_15 = []\n",
    "\n",
    "for query_name, query_cmap in query_cmaps_5_15.items():\n",
    "    best_score = 0\n",
    "    best_name = None\n",
    "\n",
    "\n",
    "    # Start timing for this query\n",
    "    start_time = time.time()\n",
    "\n",
    "    \n",
    "    for track_name, track_cmap in track_cmaps_5_15.items():\n",
    "        delta, shift_max = compute_matching_function(track_cmap, query_cmap, tol_freq=0, tol_time=0)\n",
    "\n",
    "        if delta[shift_max] > best_score:\n",
    "            best_score = delta[shift_max]\n",
    "            best_name = track_name\n",
    "\n",
    "    # End timing for this query\n",
    "    end_time = time.time()\n",
    "    query_times_5_15.append(end_time - start_time)\n",
    "\n",
    "    query_best_scores_5_15[query_name] = {'matching_track': best_name, 'score': best_score}\n",
    "    print(f\"Matched query \\\"{query_name}\\\" to track \\\"{best_name}\\\", which took {query_times_5_15[-1]} seconds.\")\n",
    "    \n",
    "\n",
    "count_matches = sum(1 for query, details in query_best_scores_5_15.items()\n",
    "                     if details['matching_track'].split('/')[-1].replace('.mp3', '') in query.split('/')[-1])\n",
    "\n",
    "average_time_5_15 = sum(query_times_5_15) / len(query_times_5_15)\n",
    "\n",
    "\n",
    "print('\\n\\n\\n')\n",
    "print(f\"Matched {count_matches} of {len(query_best_scores_5_15)} queries correctly.\")\n",
    "print(f\"Average time per query: {average_time_5_15:.2f} seconds\")"
   ]
  },
  {
   "cell_type": "markdown",
   "id": "cecc5b34-7348-4170-a67c-9189736983ce",
   "metadata": {},
   "source": [
    " # Evaluation:"
   ]
  },
  {
   "cell_type": "code",
   "execution_count": null,
   "id": "79fb6812-6b91-4c9a-89f1-df8853e0d1b9",
   "metadata": {},
   "outputs": [],
   "source": []
  }
 ],
 "metadata": {
  "kernelspec": {
   "display_name": "Python 3 (ipykernel)",
   "language": "python",
   "name": "python3"
  },
  "language_info": {
   "codemirror_mode": {
    "name": "ipython",
    "version": 3
   },
   "file_extension": ".py",
   "mimetype": "text/x-python",
   "name": "python",
   "nbconvert_exporter": "python",
   "pygments_lexer": "ipython3",
   "version": "3.10.15"
  }
 },
 "nbformat": 4,
 "nbformat_minor": 5
}
