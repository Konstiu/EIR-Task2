{
 "cells": [
  {
   "cell_type": "markdown",
   "id": "7a0c1aef-ce23-48f7-ba4e-8eaba879173a",
   "metadata": {},
   "source": [
    "# MS 2.1- Group 10"
   ]
  },
  {
   "cell_type": "code",
   "execution_count": 1,
   "id": "6f521e39-a7f3-483a-b944-40d5303f04d8",
   "metadata": {},
   "outputs": [],
   "source": [
    "# imports\n",
    "import os, sys\n",
    "import numpy as np\n",
    "from numba import jit\n",
    "import librosa\n",
    "#from scipy import signal\n",
    "from scipy import ndimage\n",
    "from matplotlib import pyplot as plt\n",
    "import IPython.display as ipd\n",
    "import time\n",
    "\n",
    "sys.path.append('..')\n",
    "import libfmp.b\n",
    "import libfmp.c2\n",
    "import libfmp.c6\n",
    "from IPython.display import clear_output\n",
    "\n",
    "\n",
    "%matplotlib inline"
   ]
  },
  {
   "cell_type": "markdown",
   "id": "86d3a4ae-e49d-4088-970a-63844050d4db",
   "metadata": {},
   "source": [
    "# Utility functions\n",
    "\n",
    "Here we define all functions that, we later need to compute spectrograms, constellation maps, and perform the matching"
   ]
  },
  {
   "cell_type": "markdown",
   "id": "629ee5ff-452e-49e8-958a-794ef2bd6721",
   "metadata": {},
   "source": [
    "This function is responsible for computing the spectrogram map of a given track. We limit the track duration that is used to 30 seconds."
   ]
  },
  {
   "cell_type": "code",
   "execution_count": 2,
   "id": "83428bb3-ae97-4c2a-9632-311405fc8965",
   "metadata": {},
   "outputs": [],
   "source": [
    "\n",
    "def compute_spectrogram(fn_wav, Fs=22050, N=2048, H=1024, bin_max=128, frame_max=None, duration=None):\n",
    "    x, Fs = librosa.load(fn_wav, sr=Fs, duration=30)\n",
    "    x_duration = len(x) / Fs\n",
    "    X = librosa.stft(x, n_fft=N, hop_length=H, win_length=N, window='hann')\n",
    "    if bin_max is None:\n",
    "        bin_max = X.shape[0]\n",
    "    if frame_max is None:\n",
    "        frame_max = X.shape[0]\n",
    "    Y = np.abs(X[:bin_max, :frame_max])\n",
    "    return Y"
   ]
  },
  {
   "cell_type": "markdown",
   "id": "c622971a-39b5-4eb3-a17a-1fa657ac43d6",
   "metadata": {},
   "source": [
    "This function computes the constellation map, given a spectrogram map"
   ]
  },
  {
   "cell_type": "code",
   "execution_count": 3,
   "id": "5278590e-dde5-4409-a679-d9fc53cfb2e6",
   "metadata": {},
   "outputs": [],
   "source": [
    "def compute_constellation_map(Y, dist_freq=7, dist_time=7, thresh=0.01):\n",
    "    \"\"\"Compute constellation map (implementation using image processing)\n",
    "\n",
    "    Notebook: C7/C7S1_AudioIdentification.ipynb\n",
    "\n",
    "    Args:\n",
    "        Y (np.ndarray): Spectrogram (magnitude)\n",
    "        dist_freq (int): Neighborhood parameter for frequency direction (kappa) (Default value = 7)\n",
    "        dist_time (int): Neighborhood parameter for time direction (tau) (Default value = 7)\n",
    "        thresh (float): Threshold parameter for minimal peak magnitude (Default value = 0.01)\n",
    "\n",
    "    Returns:\n",
    "        Cmap (np.ndarray): Boolean mask for peak structure (same size as Y)\n",
    "    \"\"\"\n",
    "    result = ndimage.maximum_filter(Y, size=[2*dist_freq+1, 2*dist_time+1], mode='constant')\n",
    "    Cmap = np.logical_and(Y == result, result > thresh)\n",
    "    return Cmap"
   ]
  },
  {
   "cell_type": "markdown",
   "id": "03280689-02c4-43f1-9f22-b1e42c0ef889",
   "metadata": {},
   "source": [
    "Function to plot the constellation map. Used for inspection purposes, when deciding on parameters for dist_freq and dist_time."
   ]
  },
  {
   "cell_type": "code",
   "execution_count": 4,
   "id": "a36c44e3-5e52-49da-96c0-814a817b4dcc",
   "metadata": {},
   "outputs": [],
   "source": [
    "def plot_constellation_map(Cmap, Y=None, xlim=None, ylim=None, title='',\n",
    "                           xlabel='Time (sample)', ylabel='Frequency (bins)',\n",
    "                           s=5, color='r', marker='o', figsize=(7, 3), dpi=72):\n",
    "    \"\"\"Plot constellation map\n",
    "\n",
    "    Notebook: C7/C7S1_AudioIdentification.ipynb\n",
    "\n",
    "    Args:\n",
    "        Cmap: Constellation map given as boolean mask for peak structure\n",
    "        Y: Spectrogram representation (Default value = None)\n",
    "        xlim: Limits for x-axis (Default value = None)\n",
    "        ylim: Limits for y-axis (Default value = None)\n",
    "        title: Title for plot (Default value = '')\n",
    "        xlabel: Label for x-axis (Default value = 'Time (sample)')\n",
    "        ylabel: Label for y-axis (Default value = 'Frequency (bins)')\n",
    "        s: Size of dots in scatter plot (Default value = 5)\n",
    "        color: Color used for scatter plot (Default value = 'r')\n",
    "        marker: Marker for peaks (Default value = 'o')\n",
    "        figsize: Width, height in inches (Default value = (7, 3))\n",
    "        dpi: Dots per inch (Default value = 72)\n",
    "\n",
    "    Returns:\n",
    "        fig: The created matplotlib figure\n",
    "        ax: The used axes.\n",
    "        im: The image plot\n",
    "    \"\"\"\n",
    "    if Cmap.ndim > 1:\n",
    "        (K, N) = Cmap.shape\n",
    "    else:\n",
    "        K = Cmap.shape[0]\n",
    "        N = 1\n",
    "    if Y is None:\n",
    "        Y = np.zeros((K, N))\n",
    "    fig, ax = plt.subplots(1, 1, figsize=figsize, dpi=dpi)\n",
    "    im = ax.imshow(Y, origin='lower', aspect='auto', cmap='gray_r', interpolation='nearest')\n",
    "    ax.set_xlabel(xlabel)\n",
    "    ax.set_ylabel(ylabel)\n",
    "    ax.set_title(title)\n",
    "    Fs = 1\n",
    "    if xlim is None:\n",
    "        xlim = [-0.5/Fs, (N-0.5)/Fs]\n",
    "    if ylim is None:\n",
    "        ylim = [-0.5/Fs, (K-0.5)/Fs]\n",
    "    ax.set_xlim(xlim)\n",
    "    ax.set_ylim(ylim)\n",
    "    n, k = np.argwhere(Cmap == 1).T\n",
    "    ax.scatter(k, n, color=color, s=s, marker=marker)\n",
    "    plt.tight_layout()\n",
    "    return fig, ax, im\n",
    "    "
   ]
  },
  {
   "cell_type": "markdown",
   "id": "ab0b9840-f0d0-4fdc-a6c0-32ee187aa4ed",
   "metadata": {},
   "source": [
    "Helper function that matches two binary matrices."
   ]
  },
  {
   "cell_type": "code",
   "execution_count": 5,
   "id": "3e945ebb-a801-4f80-a698-311cbdd19933",
   "metadata": {},
   "outputs": [],
   "source": [
    "import numpy as np\n",
    "from scipy import ndimage\n",
    "from numba import jit, prange\n",
    "def match_binary_matrices_tol(C_ref, C_est, C_est_max, tol_freq=0, tol_time=0):\n",
    "    \"\"\"Compare binary matrices with tolerance.\"\"\"\n",
    "    assert C_ref.shape == C_est.shape, \"Dimensions need to agree\"\n",
    "    N = np.sum(C_ref)\n",
    "    M = np.sum(C_est)\n",
    "    C_AND = np.logical_and(C_est_max, C_ref)\n",
    "    TP = np.sum(C_AND)\n",
    "    FN = N - TP\n",
    "    FP = M - TP\n",
    "    return TP, FN, FP, C_AND"
   ]
  },
  {
   "cell_type": "markdown",
   "id": "fcf0210d-2c6a-4efe-a73b-fba8730faa84",
   "metadata": {},
   "source": [
    "The following two functions compute the match between the query constellation map and the database-track constellation map by sliding the query over the database-track. To optimize the matching process, we refactored the code from the original example notebook into two separate functions: compute_matching_function and compute_matching_function_numba.\n",
    "\n",
    "The compute_matching_function handles assertions and precomputes the C_est_max filter, which is used to estimate the maximum region for the query. It then calls compute_matching_function_numba, a Numba-optimized function.\n",
    "\n",
    "Numba compiles the compute_matching_function_numba to machine code and parallelizes the loop using all available CPU cores. This optimization significantly improves runtime, reducing execution time from almost an hour in the naive implementation to just under 5 minutes."
   ]
  },
  {
   "cell_type": "code",
   "execution_count": 6,
   "id": "c8f0becd-121e-46b4-8918-e0580879259d",
   "metadata": {},
   "outputs": [],
   "source": [
    "@jit(nopython=True, parallel=True)\n",
    "def compute_matching_function_numba(C_D, C_Q, C_est_max, tol_freq=0, tol_time=0):\n",
    "    \"\"\"Numba-accelerated computation of the matching function.\"\"\"\n",
    "    L = C_D.shape[1]\n",
    "    N = C_Q.shape[1]\n",
    "    M = L - N\n",
    "    Delta = np.zeros(M + 1, dtype=np.float64)\n",
    "\n",
    "    for m in prange(M + 1):  # Parallelized loop\n",
    "        C_D_crop = C_D[:, m:m + N]\n",
    "        C_AND = np.logical_and(C_est_max, C_D_crop)\n",
    "        TP = np.sum(C_AND)\n",
    "        Delta[m] = TP\n",
    "\n",
    "    shift_max = np.argmax(Delta)\n",
    "    return Delta, shift_max"
   ]
  },
  {
   "cell_type": "code",
   "execution_count": 7,
   "id": "5d5c25e3-d75b-42e0-a022-3fe8bce20987",
   "metadata": {},
   "outputs": [],
   "source": [
    "def compute_matching_function(C_D, C_Q, tol_freq=0, tol_time=0):\n",
    "    \"\"\"Computes matching function for constellation maps.\"\"\"\n",
    "    L = C_D.shape[1]\n",
    "    N = C_Q.shape[1]\n",
    "    M = L - N\n",
    "    assert M >= 0, \"Query must be shorter than document\"\n",
    "\n",
    "    # Precompute the max filter for the estimation (outside of Numba)\n",
    "    C_est_max = ndimage.maximum_filter(C_Q, size=(2 * tol_freq + 1, 2 * tol_time + 1), mode='constant')\n",
    "\n",
    "    # Use the Numba-accelerated version\n",
    "    Delta, shift_max = compute_matching_function_numba(C_D, C_Q, C_est_max, tol_freq, tol_time)\n",
    "    return Delta, shift_max"
   ]
  },
  {
   "cell_type": "markdown",
   "id": "0d995201-fe25-49a6-b2d9-f498b692aff0",
   "metadata": {},
   "source": [
    "### Load all filenames\n",
    "This function is used to load all filenames, that are contained in a specified directory. "
   ]
  },
  {
   "cell_type": "code",
   "execution_count": 8,
   "id": "b563077b-1145-4671-a69f-f1f56c3be5c5",
   "metadata": {},
   "outputs": [],
   "source": [
    "def load_filenames(directory):\n",
    "    filenames = []\n",
    "    \n",
    "    # Iterate through all files in the directory\n",
    "    for filename in os.listdir(directory):\n",
    "        # Create the full path\n",
    "        file_path = os.path.join(directory, filename)\n",
    "        \n",
    "        # Check if it is a file (not a directory)\n",
    "        if os.path.isfile(file_path):\n",
    "            # Add to the dictionary, using the filename as the key\n",
    "            filenames.append(file_path)\n",
    "\n",
    "    return filenames"
   ]
  },
  {
   "cell_type": "markdown",
   "id": "6e3a9788-2a01-4709-8ca3-5acdf43604bb",
   "metadata": {},
   "source": [
    "### Compute constellation maps for filenames\n",
    "The following functions compute constellation maps for a given list of track or query filenames. To optimize performance, the computation is multithreaded, significantly reducing the processing time. For each file, the process involves computing the spectrogram and subsequently generating the corresponding constellation map."
   ]
  },
  {
   "cell_type": "code",
   "execution_count": 9,
   "id": "e89b68b0-e9ea-4dde-9078-cd7121c1ae6a",
   "metadata": {},
   "outputs": [],
   "source": [
    "from concurrent.futures import ThreadPoolExecutor\n",
    "\n",
    "def compute_constellation_map_single(args):\n",
    "    \"\"\"Compute the constellation map for a single file.\"\"\"\n",
    "    filename, dist_freq, dist_time = args\n",
    "    spectrogram = compute_spectrogram(filename)  # Perform I/O and computation\n",
    "    constellation_map = compute_constellation_map(spectrogram, dist_freq, dist_time)\n",
    "    return filename, constellation_map\n",
    "\n",
    "def compute_constellation_maps(filenames, dist_freq, dist_time):\n",
    "    \"\"\"Compute constellation maps using multithreading.\"\"\"\n",
    "    # Prepare arguments for each file\n",
    "    args = [(filename, dist_freq, dist_time) for filename in filenames]\n",
    "    \n",
    "    # Use ThreadPoolExecutor for multithreading\n",
    "    with ThreadPoolExecutor() as executor:\n",
    "        results = executor.map(compute_constellation_map_single, args)\n",
    "    \n",
    "    # Convert results to a dictionary\n",
    "    Cmaps = dict(results)\n",
    "    return Cmaps"
   ]
  },
  {
   "cell_type": "markdown",
   "id": "2ee13707-d537-4b58-bdd2-075cf896fc4b",
   "metadata": {},
   "source": [
    "# Creating the constellation maps for the database"
   ]
  },
  {
   "cell_type": "markdown",
   "id": "d7dac696-8419-4d30-86db-5bbbedb3efd1",
   "metadata": {},
   "source": [
    "We first load all the filenames of all of the tracks, that are in our database and store them in a list."
   ]
  },
  {
   "cell_type": "code",
   "execution_count": 10,
   "id": "60b21746-86c4-461c-adbd-369cb079ee5b",
   "metadata": {},
   "outputs": [],
   "source": [
    "tracks = load_filenames('tracks')"
   ]
  },
  {
   "cell_type": "markdown",
   "id": "f196a979-453d-48d8-bbee-83324a856ec0",
   "metadata": {},
   "source": [
    "## Try out different configurations\n",
    "\n",
    "In this section, we experimentally try out different values for computing our constellation maps for our tracks. After computing the constellation map for each of the tracks, we plot the constellation map of the same track for each configuration, to see how our chosen parameters influence the final constellation map."
   ]
  },
  {
   "cell_type": "markdown",
   "id": "9a1fe93d-d880-4233-b27c-6b40f32cff6c",
   "metadata": {},
   "source": [
    "### κ = 7, τ = 3"
   ]
  },
  {
   "cell_type": "code",
   "execution_count": 11,
   "id": "651aa5bd-33e1-474c-ad01-67c9fbbdae50",
   "metadata": {},
   "outputs": [
    {
     "data": {
      "image/png": "[encoded data removed]",
      "text/plain": [
       "<Figure size 504x216 with 1 Axes>"
      ]
     },
     "metadata": {},
     "output_type": "display_data"
    }
   ],
   "source": [
    "track_cmaps_7_3 = compute_constellation_maps(tracks, 7, 3) # κ = 7, τ = 3\n",
    "\n",
    "fig, ax, im = plot_constellation_map(track_cmaps_7_3['tracks/810.mp3'], color='r', s=30)"
   ]
  },
  {
   "cell_type": "markdown",
   "id": "416e7da4-7122-4ca7-9b26-21e54d75a1e3",
   "metadata": {},
   "source": [
    "### κ = 11, τ = 3"
   ]
  },
  {
   "cell_type": "code",
   "execution_count": 12,
   "id": "d0d537e8-9348-4cd5-b2f2-91cb75fa3e51",
   "metadata": {},
   "outputs": [
    {
     "data": {
      "image/png": "[encoded data removed]",
      "text/plain": [
       "<Figure size 504x216 with 1 Axes>"
      ]
     },
     "metadata": {},
     "output_type": "display_data"
    }
   ],
   "source": [
    "track_cmaps_11_3 = compute_constellation_maps(tracks, 11, 3) # κ = 11, τ = 3\n",
    "\n",
    "fig, ax, im = plot_constellation_map(track_cmaps_11_3['tracks/810.mp3'], color='r', s=30)"
   ]
  },
  {
   "cell_type": "markdown",
   "id": "2dc77fec-01f6-482f-8926-f4f61908171d",
   "metadata": {},
   "source": [
    "### κ = 10, τ = 10"
   ]
  },
  {
   "cell_type": "code",
   "execution_count": 13,
   "id": "bdcf9266-fb28-4637-b81b-317d1d07c968",
   "metadata": {},
   "outputs": [
    {
     "data": {
      "image/png": "[encoded data removed]",
      "text/plain": [
       "<Figure size 504x216 with 1 Axes>"
      ]
     },
     "metadata": {},
     "output_type": "display_data"
    }
   ],
   "source": [
    "track_cmaps_10_10 = compute_constellation_maps(tracks, 10, 10) # κ = 10, τ = 10\n",
    "\n",
    "fig, ax, im = plot_constellation_map(track_cmaps_10_10['tracks/810.mp3'], color='r', s=30)"
   ]
  },
  {
   "cell_type": "markdown",
   "id": "2743c2d7-00c5-471e-b82d-7139769130fb",
   "metadata": {},
   "source": [
    "### κ = 6, τ = 17"
   ]
  },
  {
   "cell_type": "code",
   "execution_count": 14,
   "id": "a9f5442a-35eb-4f92-b109-e323d5f68779",
   "metadata": {},
   "outputs": [
    {
     "data": {
      "image/png": "[encoded data removed]",
      "text/plain": [
       "<Figure size 504x216 with 1 Axes>"
      ]
     },
     "metadata": {},
     "output_type": "display_data"
    }
   ],
   "source": [
    "track_cmaps_6_17 = compute_constellation_maps(tracks, 6, 17) # κ = 6, τ = 17\n",
    "\n",
    "fig, ax, im = plot_constellation_map(track_cmaps_6_17['tracks/810.mp3'], color='r', s=30)"
   ]
  },
  {
   "cell_type": "markdown",
   "id": "fe686b15-6b47-4159-a44d-38ff222ebdbc",
   "metadata": {},
   "source": [
    "# Creating the constellation maps for the queries\n",
    "\n",
    "In this section, we create constellation maps for each of the queries, with the exact same parameter combinations, which we used for the database-tracks above."
   ]
  },
  {
   "cell_type": "markdown",
   "id": "e3d747b2-0828-432d-964a-1c79e7d590f3",
   "metadata": {},
   "source": [
    "Here we again load all filenames for the queries."
   ]
  },
  {
   "cell_type": "code",
   "execution_count": 15,
   "id": "d84aa536-68af-4ebf-a938-7458fb512f27",
   "metadata": {},
   "outputs": [],
   "source": [
    "queries = load_filenames('queries')"
   ]
  },
  {
   "cell_type": "markdown",
   "id": "59960d19-f5a7-4707-95c9-5c54db9b8e79",
   "metadata": {},
   "source": [
    "### κ = 7, τ = 3"
   ]
  },
  {
   "cell_type": "code",
   "execution_count": 16,
   "id": "1a64ba3b-e2a1-4bbe-a7de-eec1f234be6e",
   "metadata": {},
   "outputs": [
    {
     "data": {
      "image/png": "[encoded data removed]",
      "text/plain": [
       "<Figure size 504x216 with 1 Axes>"
      ]
     },
     "metadata": {},
     "output_type": "display_data"
    }
   ],
   "source": [
    "query_cmaps_7_3 = compute_constellation_maps(queries, 5, 5)\n",
    "\n",
    "fig, ax, im = plot_constellation_map(query_cmaps_7_3['queries/810.mp3'], color='r', s=30)"
   ]
  },
  {
   "cell_type": "markdown",
   "id": "db942662-2292-4181-a485-561d3fb2c8d8",
   "metadata": {},
   "source": [
    "### κ = 11, τ = 3"
   ]
  },
  {
   "cell_type": "code",
   "execution_count": 17,
   "id": "4a50d835-2db0-44e4-890c-a1aab855cc83",
   "metadata": {},
   "outputs": [
    {
     "data": {
      "image/png": "[encoded data removed]",
      "text/plain": [
       "<Figure size 504x216 with 1 Axes>"
      ]
     },
     "metadata": {},
     "output_type": "display_data"
    }
   ],
   "source": [
    "query_cmaps_11_3 = compute_constellation_maps(queries, 11, 3)\n",
    "\n",
    "fig, ax, im = plot_constellation_map(query_cmaps_11_3['queries/810.mp3'], color='r', s=30)"
   ]
  },
  {
   "cell_type": "markdown",
   "id": "be770503-08e4-4266-a734-99412616ff84",
   "metadata": {},
   "source": [
    "### κ = 10, τ = 10"
   ]
  },
  {
   "cell_type": "code",
   "execution_count": 18,
   "id": "081e84fd-e658-4862-93d5-7a3c7fcb77fe",
   "metadata": {},
   "outputs": [
    {
     "data": {
      "image/png": "[encoded data removed]",
      "text/plain": [
       "<Figure size 504x216 with 1 Axes>"
      ]
     },
     "metadata": {},
     "output_type": "display_data"
    }
   ],
   "source": [
    "query_cmaps_10_10 = compute_constellation_maps(queries, 10, 10)\n",
    "\n",
    "fig, ax, im = plot_constellation_map(query_cmaps_10_10['queries/810.mp3'], color='r', s=30)"
   ]
  },
  {
   "cell_type": "markdown",
   "id": "9c142261-884c-4fb4-97ad-9fe54b70fb3e",
   "metadata": {},
   "source": [
    "### κ = 6, τ = 17"
   ]
  },
  {
   "cell_type": "code",
   "execution_count": 19,
   "id": "166efa19-bd1c-404d-8b7d-6ebdf878be77",
   "metadata": {},
   "outputs": [
    {
     "data": {
      "image/png": "[encoded data removed]",
      "text/plain": [
       "<Figure size 504x216 with 1 Axes>"
      ]
     },
     "metadata": {},
     "output_type": "display_data"
    }
   ],
   "source": [
    "query_cmaps_6_17 = compute_constellation_maps(queries, 6, 17)\n",
    "\n",
    "fig, ax, im = plot_constellation_map(query_cmaps_6_17['queries/810.mp3'], color='r', s=30)"
   ]
  },
  {
   "cell_type": "markdown",
   "id": "65b87d94-29d6-48a5-abec-976fb7ca04e9",
   "metadata": {},
   "source": [
    "# Matching\n",
    "\n",
    "After preprocessing our tracks and queries, we can finally start the matching. We do the matching of queries and database-tracks for each of the previously defined parameter combinations. \n",
    "\n",
    "For each configuration, we follow a systematic process to identify the best match for each query:\n",
    "\n",
    "- Iterate Through Queries: For every query, its constellation map is compared against all the database track constellation maps.\n",
    "- Compute Matching Scores: Using the compute_matching_function, a score is calculated for each query-to-track combination.\n",
    "- Track the Best Match: The track with the highest matching score for each query is identified as the best match. This is stored in a dictionary along with its corresponding score.\n",
    "- Evaluate Results: We determine how many queries were correctly matched to their corresponding tracks by comparing the predicted matching track to the query's expected match (based on their filenames)."
   ]
  },
  {
   "cell_type": "markdown",
   "id": "9e61c229-a967-4211-8392-d3d4dc072604",
   "metadata": {},
   "source": [
    "### κ = 7, τ = 3"
   ]
  },
  {
   "cell_type": "code",
   "execution_count": 20,
   "id": "53f5cd0e-17fc-4f9f-9899-2ee8405355b4",
   "metadata": {},
   "outputs": [
    {
     "name": "stdout",
     "output_type": "stream",
     "text": [
      "Matched 73 of 80 queries correctly.\n",
      "Original: 20 / 20.\n",
      "Noise: 19 / 20.\n",
      "Coding: 20 / 20.\n",
      "Mobile: 14 / 20.\n",
      "\n",
      "Average time per query: 2.00 seconds\n"
     ]
    }
   ],
   "source": [
    "query_best_scores_7_3 = {}\n",
    "query_times_7_3 = []\n",
    "\n",
    "\n",
    "for query_name, query_cmap in query_cmaps_7_3.items():\n",
    "    best_score = 0\n",
    "    best_name = None\n",
    "\n",
    "\n",
    "    # Start timing for this query\n",
    "    start_time = time.time()\n",
    "\n",
    "    \n",
    "    for track_name, track_cmap in track_cmaps_7_3.items():\n",
    "        delta, shift_max = compute_matching_function(track_cmap, query_cmap, tol_freq=0, tol_time=0)\n",
    "\n",
    "        if delta[shift_max] > best_score:\n",
    "            best_score = delta[shift_max]\n",
    "            best_name = track_name\n",
    "\n",
    "    # End timing for this query\n",
    "    end_time = time.time()\n",
    "    query_times_7_3.append(end_time - start_time)\n",
    "\n",
    "    query_best_scores_7_3[query_name] = {'matching_track': best_name, 'score': best_score}\n",
    "    clear_output(wait=True)\n",
    "    print(f\"Matched query \\\"{query_name}\\\" to track \\\"{best_name}\\\", which took {query_times_7_3[-1]} seconds.\")\n",
    "    \n",
    "\n",
    "\n",
    "\n",
    "count_matches_7_3 = sum(1 for query, details in query_best_scores_7_3.items()\n",
    "                     if details['matching_track'].split('/')[-1].replace('.mp3', '') in query.split('/')[-1])\n",
    "\n",
    "average_time_7_3 = sum(query_times_7_3) / len(query_times_7_3)\n",
    "\n",
    "\n",
    "# Compute num of matches for different distortions\n",
    "coding_count_7_3 = 0\n",
    "mobile_count_7_3 = 0\n",
    "noise_count_7_3 = 0\n",
    "original_count_7_3 = 0\n",
    "\n",
    "for query_name, details in query_best_scores_7_3.items():\n",
    "    matching_track = details['matching_track'].split('/')[-1].replace('.mp3', '')\n",
    "    query_postfix = query_name.split('/')[-1]\n",
    "\n",
    "    if matching_track in query_postfix:\n",
    "        if \"coding\" in query_postfix:\n",
    "            coding_count_7_3 += 1\n",
    "        if \"mobile\" in query_postfix:\n",
    "            mobile_count_7_3 += 1\n",
    "        if \"noise\" in query_postfix:\n",
    "            noise_count_7_3 += 1\n",
    "\n",
    "original_count_7_3 = count_matches_7_3 - (noise_count_7_3+coding_count_7_3+mobile_count_7_3)\n",
    "\n",
    "\n",
    "# Print results\n",
    "clear_output(wait=True)\n",
    "print(f\"Matched {count_matches_7_3} of {len(queries)} queries correctly.\")\n",
    "print(f\"Original: {original_count_7_3} / {20}.\")\n",
    "print(f\"Noise: {noise_count_7_3} / {20}.\")\n",
    "print(f\"Coding: {coding_count_7_3} / {20}.\")\n",
    "print(f\"Mobile: {mobile_count_7_3} / {20}.\")\n",
    "print(f\"\\nAverage time per query: {average_time_7_3:.2f} seconds\")"
   ]
  },
  {
   "cell_type": "markdown",
   "id": "454571e0-e3f7-4828-9c93-fff658361166",
   "metadata": {},
   "source": [
    "### κ = 11, τ = 3"
   ]
  },
  {
   "cell_type": "code",
   "execution_count": 21,
   "id": "b2cfea02-71b0-431a-8843-2b0180096cd1",
   "metadata": {},
   "outputs": [
    {
     "name": "stdout",
     "output_type": "stream",
     "text": [
      "Matched 74 of 80 queries correctly.\n",
      "Original: 20 / 20.\n",
      "Noise: 19 / 20.\n",
      "Coding: 20 / 20.\n",
      "Mobile: 15 / 20.\n",
      "\n",
      "Average time per query: 2.04 seconds\n"
     ]
    }
   ],
   "source": [
    "query_best_scores_11_3 = {}\n",
    "query_times_11_3 = []\n",
    "\n",
    "for query_name, query_cmap in query_cmaps_11_3.items():\n",
    "    best_score = 0\n",
    "    best_name = None\n",
    "\n",
    "\n",
    "    # Start timing for this query\n",
    "    start_time = time.time()\n",
    "\n",
    "    \n",
    "    for track_name, track_cmap in track_cmaps_11_3.items():\n",
    "        delta, shift_max = compute_matching_function(track_cmap, query_cmap, tol_freq=0, tol_time=0)\n",
    "\n",
    "        if delta[shift_max] > best_score:\n",
    "            best_score = delta[shift_max]\n",
    "            best_name = track_name\n",
    "\n",
    "    # End timing for this query\n",
    "    end_time = time.time()\n",
    "    query_times_11_3.append(end_time - start_time)\n",
    "\n",
    "    query_best_scores_11_3[query_name] = {'matching_track': best_name, 'score': best_score}\n",
    "    clear_output(wait=True)\n",
    "    print(f\"Matched query \\\"{query_name}\\\" to track \\\"{best_name}\\\", which took {query_times_11_3[-1]} seconds.\")\n",
    "    \n",
    "\n",
    "count_matches_11_3 = sum(1 for query, details in query_best_scores_11_3.items()\n",
    "                     if details['matching_track'].split('/')[-1].replace('.mp3', '') in query.split('/')[-1])\n",
    "\n",
    "average_time_11_3 = sum(query_times_11_3) / len(query_times_11_3)\n",
    "\n",
    "# Compute num of matches for different distortions\n",
    "coding_count_11_3 = 0\n",
    "mobile_count_11_3 = 0\n",
    "noise_count_11_3 = 0\n",
    "original_count_11_3 = 0\n",
    "\n",
    "for query_name, details in query_best_scores_11_3.items():\n",
    "    matching_track = details['matching_track'].split('/')[-1].replace('.mp3', '')\n",
    "    query_postfix = query_name.split('/')[-1]\n",
    "\n",
    "    if matching_track in query_postfix:\n",
    "        if \"coding\" in query_postfix:\n",
    "            coding_count_11_3 += 1\n",
    "        if \"mobile\" in query_postfix:\n",
    "            mobile_count_11_3 += 1\n",
    "        if \"noise\" in query_postfix:\n",
    "            noise_count_11_3 += 1\n",
    "\n",
    "original_count_11_3 = count_matches_11_3 - (noise_count_11_3+coding_count_11_3+mobile_count_11_3)\n",
    "\n",
    "\n",
    "# Print results\n",
    "clear_output(wait=True)\n",
    "print(f\"Matched {count_matches_11_3} of {len(queries)} queries correctly.\")\n",
    "print(f\"Original: {original_count_11_3} / {20}.\")\n",
    "print(f\"Noise: {noise_count_11_3} / {20}.\")\n",
    "print(f\"Coding: {coding_count_11_3} / {20}.\")\n",
    "print(f\"Mobile: {mobile_count_11_3} / {20}.\")\n",
    "print(f\"\\nAverage time per query: {average_time_11_3:.2f} seconds\")"
   ]
  },
  {
   "cell_type": "markdown",
   "id": "7cf6b42f-a150-499a-9f6a-0172be839562",
   "metadata": {},
   "source": [
    "### κ = 10, τ = 10"
   ]
  },
  {
   "cell_type": "code",
   "execution_count": 22,
   "id": "b0279105-8ceb-45b0-9ad4-fb4a78722742",
   "metadata": {},
   "outputs": [
    {
     "name": "stdout",
     "output_type": "stream",
     "text": [
      "Matched 70 of 80 queries correctly.\n",
      "Original: 20 / 20.\n",
      "Noise: 18 / 20.\n",
      "Coding: 20 / 20.\n",
      "Mobile: 12 / 20.\n",
      "\n",
      "Average time per query: 2.38 seconds\n"
     ]
    }
   ],
   "source": [
    "query_best_scores_10_10 = {}\n",
    "query_times_10_10 = []\n",
    "\n",
    "for query_name, query_cmap in query_cmaps_10_10.items():\n",
    "    best_score = 0\n",
    "    best_name = None\n",
    "\n",
    "\n",
    "    # Start timing for this query\n",
    "    start_time = time.time()\n",
    "\n",
    "    \n",
    "    for track_name, track_cmap in track_cmaps_10_10.items():\n",
    "        delta, shift_max = compute_matching_function(track_cmap, query_cmap, tol_freq=0, tol_time=0)\n",
    "\n",
    "        if delta[shift_max] > best_score:\n",
    "            best_score = delta[shift_max]\n",
    "            best_name = track_name\n",
    "\n",
    "    # End timing for this query\n",
    "    end_time = time.time()\n",
    "    query_times_10_10.append(end_time - start_time)\n",
    "\n",
    "    query_best_scores_10_10[query_name] = {'matching_track': best_name, 'score': best_score}\n",
    "    clear_output(wait=True)\n",
    "    print(f\"Matched query \\\"{query_name}\\\" to track \\\"{best_name}\\\", which took {query_times_10_10[-1]} seconds.\")\n",
    "    \n",
    "\n",
    "count_matches_10_10 = sum(1 for query, details in query_best_scores_10_10.items()\n",
    "                     if details['matching_track'].split('/')[-1].replace('.mp3', '') in query.split('/')[-1])\n",
    "\n",
    "average_time_10_10 = sum(query_times_10_10) / len(query_times_10_10)\n",
    "\n",
    "\n",
    "# Compute num of matches for different distortions\n",
    "coding_count_10_10 = 0\n",
    "mobile_count_10_10 = 0\n",
    "noise_count_10_10 = 0\n",
    "original_count_10_10 = 0\n",
    "\n",
    "for query_name, details in query_best_scores_10_10.items():\n",
    "    matching_track = details['matching_track'].split('/')[-1].replace('.mp3', '')\n",
    "    query_postfix = query_name.split('/')[-1]\n",
    "\n",
    "    if matching_track in query_postfix:\n",
    "        if \"coding\" in query_postfix:\n",
    "            coding_count_10_10 += 1\n",
    "        if \"mobile\" in query_postfix:\n",
    "            mobile_count_10_10 += 1\n",
    "        if \"noise\" in query_postfix:\n",
    "            noise_count_10_10 += 1\n",
    "\n",
    "original_count_10_10 = count_matches_10_10 - (noise_count_10_10+coding_count_10_10+mobile_count_10_10)\n",
    "\n",
    "\n",
    "# Print results\n",
    "clear_output(wait=True)\n",
    "print(f\"Matched {count_matches_10_10} of {len(queries)} queries correctly.\")\n",
    "print(f\"Original: {original_count_10_10} / {20}.\")\n",
    "print(f\"Noise: {noise_count_10_10} / {20}.\")\n",
    "print(f\"Coding: {coding_count_10_10} / {20}.\")\n",
    "print(f\"Mobile: {mobile_count_10_10} / {20}.\")\n",
    "print(f\"\\nAverage time per query: {average_time_10_10:.2f} seconds\")"
   ]
  },
  {
   "cell_type": "markdown",
   "id": "81931506-5ed0-47d5-b517-aa7491e2a0a5",
   "metadata": {},
   "source": [
    "### κ = 6, τ = 17"
   ]
  },
  {
   "cell_type": "code",
   "execution_count": 23,
   "id": "740a959c-074b-46f9-8f53-45d70bcb2710",
   "metadata": {},
   "outputs": [
    {
     "name": "stdout",
     "output_type": "stream",
     "text": [
      "Matched 76 of 80 queries correctly.\n",
      "Original: 20 / 20.\n",
      "Noise: 20 / 20.\n",
      "Coding: 20 / 20.\n",
      "Mobile: 16 / 20.\n",
      "\n",
      "Average time per query: 2.10 seconds\n"
     ]
    }
   ],
   "source": [
    "query_best_scores_6_17 = {}\n",
    "query_times_6_17 = []\n",
    "\n",
    "for query_name, query_cmap in query_cmaps_6_17.items():\n",
    "    best_score = 0\n",
    "    best_name = None\n",
    "\n",
    "\n",
    "    # Start timing for this query\n",
    "    start_time = time.time()\n",
    "\n",
    "    \n",
    "    for track_name, track_cmap in track_cmaps_6_17.items():\n",
    "        delta, shift_max = compute_matching_function(track_cmap, query_cmap, tol_freq=1, tol_time=1)\n",
    "\n",
    "        if delta[shift_max] > best_score:\n",
    "            best_score = delta[shift_max]\n",
    "            best_name = track_name\n",
    "\n",
    "    # End timing for this query\n",
    "    end_time = time.time()\n",
    "    query_times_6_17.append(end_time - start_time)\n",
    "\n",
    "    query_best_scores_6_17[query_name] = {'matching_track': best_name, 'score': best_score}\n",
    "    clear_output(wait=True)\n",
    "    print(f\"Matched query \\\"{query_name}\\\" to track \\\"{best_name}\\\", which took {query_times_6_17[-1]} seconds.\")\n",
    "    \n",
    "\n",
    "count_matches_6_17 = sum(1 for query, details in query_best_scores_6_17.items()\n",
    "                     if details['matching_track'].split('/')[-1].replace('.mp3', '') in query.split('/')[-1])\n",
    "\n",
    "average_time_6_17 = sum(query_times_6_17) / len(query_times_6_17)\n",
    "\n",
    "\n",
    "# Compute num of matches for different distortions\n",
    "coding_count_6_17 = 0\n",
    "mobile_count_6_17 = 0\n",
    "noise_count_6_17 = 0\n",
    "original_count_6_17 = 0\n",
    "\n",
    "for query_name, details in query_best_scores_6_17.items():\n",
    "    matching_track = details['matching_track'].split('/')[-1].replace('.mp3', '')\n",
    "    query_postfix = query_name.split('/')[-1]\n",
    "\n",
    "    if matching_track in query_postfix:\n",
    "        if \"coding\" in query_postfix:\n",
    "            coding_count_6_17 += 1\n",
    "        if \"mobile\" in query_postfix:\n",
    "            mobile_count_6_17 += 1\n",
    "        if \"noise\" in query_postfix:\n",
    "            noise_count_6_17 += 1\n",
    "\n",
    "original_count_6_17 = count_matches_6_17 - (noise_count_6_17+coding_count_6_17+mobile_count_6_17)\n",
    "\n",
    "\n",
    "# Print results\n",
    "clear_output(wait=True)\n",
    "print(f\"Matched {count_matches_6_17} of {len(queries)} queries correctly.\")\n",
    "print(f\"Original: {original_count_6_17} / {20}.\")\n",
    "print(f\"Noise: {noise_count_6_17} / {20}.\")\n",
    "print(f\"Coding: {coding_count_6_17} / {20}.\")\n",
    "print(f\"Mobile: {mobile_count_6_17} / {20}.\")\n",
    "print(f\"\\nAverage time per query: {average_time_6_17:.2f} seconds\")"
   ]
  },
  {
   "cell_type": "markdown",
   "id": "cecc5b34-7348-4170-a67c-9189736983ce",
   "metadata": {},
   "source": [
    " # Evaluation:"
   ]
  },
  {
   "cell_type": "markdown",
   "id": "acda7722-c038-4384-a352-e80d44036e77",
   "metadata": {},
   "source": [
    "## Query time comparison"
   ]
  },
  {
   "cell_type": "code",
   "execution_count": 24,
   "id": "79fb6812-6b91-4c9a-89f1-df8853e0d1b9",
   "metadata": {},
   "outputs": [
    {
     "data": {
      "image/png": "[encoded data removed]",
      "text/plain": [
       "<Figure size 800x600 with 1 Axes>"
      ]
     },
     "metadata": {},
     "output_type": "display_data"
    }
   ],
   "source": [
    "import matplotlib.pyplot as plt\n",
    "\n",
    "# Values to plot\n",
    "values = [average_time_7_3, average_time_11_3, average_time_10_10, average_time_6_17]\n",
    "labels = ['κ = 7, τ = 3', 'κ = 11, τ = 3', 'κ = 10, τ = 10', 'κ = 6, τ = 17']\n",
    "\n",
    "# Creating the bar plot\n",
    "plt.figure(figsize=(8, 6))\n",
    "plt.bar(labels, values, color='skyblue')\n",
    "plt.title('Average Query Time')\n",
    "plt.xlabel('Constellation Map Configuration')\n",
    "plt.ylabel('Time (in sec.)')\n",
    "plt.ylim(0, max(values) + 0.5)\n",
    "plt.grid(axis='y', linestyle='--', alpha=0.7)\n",
    "\n",
    "# Display the plot\n",
    "plt.show()"
   ]
  },
  {
   "cell_type": "markdown",
   "id": "e8f959a9-c5b0-4721-9eef-7b85b8bd7956",
   "metadata": {},
   "source": [
    "## Matching Accuracy Comparison"
   ]
  },
  {
   "cell_type": "code",
   "execution_count": 25,
   "id": "56934a37-0670-4605-b62c-5d49a61203f9",
   "metadata": {},
   "outputs": [
    {
     "data": {
      "image/png": "[encoded data removed]",
      "text/plain": [
       "<Figure size 800x600 with 1 Axes>"
      ]
     },
     "metadata": {},
     "output_type": "display_data"
    }
   ],
   "source": [
    "import matplotlib.pyplot as plt\n",
    "\n",
    "# Values to plot\n",
    "values = [count_matches_7_3 / len(queries) * 100, count_matches_11_3 / len(queries) * 100, \n",
    "          count_matches_10_10 / len(queries) * 100, count_matches_6_17 / len(queries) * 100]\n",
    "labels = ['κ = 7, τ = 3', 'κ = 11, τ = 3', 'κ = 10, τ = 10', 'κ = 6, τ = 17']\n",
    "\n",
    "# Creating the bar plot\n",
    "plt.figure(figsize=(8, 6))\n",
    "bars = plt.bar(labels, values, color='skyblue')\n",
    "\n",
    "# Adding percentages above the bars\n",
    "for bar, value in zip(bars, values):\n",
    "    plt.text(bar.get_x() + bar.get_width() / 2, bar.get_height() + 0.02, \n",
    "             f'{value:.1f}%', ha='center', va='bottom', fontsize=10)\n",
    "\n",
    "# Adding title and labels\n",
    "plt.title('Query Matching Accuracy')\n",
    "plt.xlabel('Constellation Map Configuration')\n",
    "plt.ylabel('Accuracy (in %)')\n",
    "plt.ylim(80, 100)  # Leave some space above the bars for annotations\n",
    "plt.grid(axis='y', linestyle='--', alpha=0.7)\n",
    "\n",
    "# Display the plot\n",
    "plt.show()\n"
   ]
  },
  {
   "cell_type": "markdown",
   "id": "834006b4-dbe3-442a-a096-860473005d83",
   "metadata": {},
   "source": [
    "## Tables"
   ]
  },
  {
   "cell_type": "markdown",
   "id": "e1bce3f7-499a-41e4-aa60-ffa7d5996755",
   "metadata": {},
   "source": [
    "## Table 1"
   ]
  },
  {
   "cell_type": "code",
   "execution_count": 26,
   "id": "0781eaaa-af8f-48c0-84ff-6877c770efde",
   "metadata": {},
   "outputs": [
    {
     "data": {
      "text/html": [
       "<div>\n",
       "<style scoped>\n",
       "    .dataframe tbody tr th:only-of-type {\n",
       "        vertical-align: middle;\n",
       "    }\n",
       "\n",
       "    .dataframe tbody tr th {\n",
       "        vertical-align: top;\n",
       "    }\n",
       "\n",
       "    .dataframe thead th {\n",
       "        text-align: right;\n",
       "    }\n",
       "</style>\n",
       "<table border=\"1\" class=\"dataframe\">\n",
       "  <thead>\n",
       "    <tr style=\"text-align: right;\">\n",
       "      <th></th>\n",
       "      <th>Average Query Time (sec)</th>\n",
       "      <th>Max Query Time (sec)</th>\n",
       "      <th>Min Query Time (sec)</th>\n",
       "      <th>Total Accuracy (%)</th>\n",
       "      <th>Original Accuracy (%)</th>\n",
       "      <th>Noise Accuracy (%)</th>\n",
       "      <th>Coding Accuracy (%)</th>\n",
       "      <th>Mobile Accuracy (%)</th>\n",
       "    </tr>\n",
       "  </thead>\n",
       "  <tbody>\n",
       "    <tr>\n",
       "      <th>κ = 7, τ = 3</th>\n",
       "      <td>1.995712</td>\n",
       "      <td>4.792003</td>\n",
       "      <td>1.143382</td>\n",
       "      <td>91.25</td>\n",
       "      <td>100.0</td>\n",
       "      <td>95.0</td>\n",
       "      <td>100.0</td>\n",
       "      <td>70.0</td>\n",
       "    </tr>\n",
       "    <tr>\n",
       "      <th>κ = 11, τ = 3</th>\n",
       "      <td>2.036902</td>\n",
       "      <td>5.185141</td>\n",
       "      <td>1.792969</td>\n",
       "      <td>92.50</td>\n",
       "      <td>100.0</td>\n",
       "      <td>95.0</td>\n",
       "      <td>100.0</td>\n",
       "      <td>75.0</td>\n",
       "    </tr>\n",
       "    <tr>\n",
       "      <th>κ = 10, τ = 10</th>\n",
       "      <td>2.377200</td>\n",
       "      <td>3.292159</td>\n",
       "      <td>2.105071</td>\n",
       "      <td>87.50</td>\n",
       "      <td>100.0</td>\n",
       "      <td>90.0</td>\n",
       "      <td>100.0</td>\n",
       "      <td>60.0</td>\n",
       "    </tr>\n",
       "    <tr>\n",
       "      <th>κ = 6, τ = 17</th>\n",
       "      <td>2.100640</td>\n",
       "      <td>2.898293</td>\n",
       "      <td>1.365396</td>\n",
       "      <td>95.00</td>\n",
       "      <td>100.0</td>\n",
       "      <td>100.0</td>\n",
       "      <td>100.0</td>\n",
       "      <td>80.0</td>\n",
       "    </tr>\n",
       "  </tbody>\n",
       "</table>\n",
       "</div>"
      ],
      "text/plain": [
       "                Average Query Time (sec)  Max Query Time (sec)  \\\n",
       "κ = 7, τ = 3                    1.995712              4.792003   \n",
       "κ = 11, τ = 3                   2.036902              5.185141   \n",
       "κ = 10, τ = 10                  2.377200              3.292159   \n",
       "κ = 6, τ = 17                   2.100640              2.898293   \n",
       "\n",
       "                Min Query Time (sec)  Total Accuracy (%)  \\\n",
       "κ = 7, τ = 3                1.143382               91.25   \n",
       "κ = 11, τ = 3               1.792969               92.50   \n",
       "κ = 10, τ = 10              2.105071               87.50   \n",
       "κ = 6, τ = 17               1.365396               95.00   \n",
       "\n",
       "                Original Accuracy (%)  Noise Accuracy (%)  \\\n",
       "κ = 7, τ = 3                    100.0                95.0   \n",
       "κ = 11, τ = 3                   100.0                95.0   \n",
       "κ = 10, τ = 10                  100.0                90.0   \n",
       "κ = 6, τ = 17                   100.0               100.0   \n",
       "\n",
       "                Coding Accuracy (%)  Mobile Accuracy (%)  \n",
       "κ = 7, τ = 3                  100.0                 70.0  \n",
       "κ = 11, τ = 3                 100.0                 75.0  \n",
       "κ = 10, τ = 10                100.0                 60.0  \n",
       "κ = 6, τ = 17                 100.0                 80.0  "
      ]
     },
     "execution_count": 26,
     "metadata": {},
     "output_type": "execute_result"
    }
   ],
   "source": [
    "import pandas as pd\n",
    "\n",
    "\n",
    "\n",
    "\n",
    "# Example data\n",
    "data = {\n",
    "    \"Average Query Time (sec)\": [average_time_7_3, average_time_11_3, average_time_10_10, average_time_6_17],\n",
    "    \"Max Query Time (sec)\": [max(query_times_7_3), max(query_times_11_3), max(query_times_10_10), max(query_times_6_17)],\n",
    "    \"Min Query Time (sec)\": [min(query_times_7_3), min(query_times_11_3), min(query_times_10_10), min(query_times_6_17)],\n",
    "    \"Total Accuracy (%)\": [count_matches_7_3 / len(queries) * 100, count_matches_11_3 / len(queries) * 100, \n",
    "          count_matches_10_10 / len(queries) * 100, count_matches_6_17 / len(queries) * 100],\n",
    "    \"Original Accuracy (%)\": [original_count_7_3 / 20 * 100, original_count_11_3 / 20 * 100, \n",
    "          original_count_10_10 / 20 * 100, original_count_6_17 / 20 * 100],\n",
    "    \"Noise Accuracy (%)\": [noise_count_7_3 / 20 * 100, noise_count_11_3 / 20 * 100, \n",
    "          noise_count_10_10 / 20 * 100, noise_count_6_17 / 20 * 100],\n",
    "    \"Coding Accuracy (%)\": [coding_count_7_3 / 20 * 100, coding_count_11_3 / 20 * 100, \n",
    "          coding_count_10_10 / 20 * 100, coding_count_6_17 / 20 * 100],\n",
    "    \"Mobile Accuracy (%)\": [mobile_count_7_3 / 20 * 100, mobile_count_11_3 / 20 * 100, \n",
    "          mobile_count_10_10 / 20 * 100, mobile_count_6_17 / 20 * 100],\n",
    "}\n",
    "\n",
    "# Row labels\n",
    "index_labels = ['κ = 7, τ = 3', 'κ = 11, τ = 3', 'κ = 10, τ = 10', 'κ = 6, τ = 17']\n",
    "\n",
    "# Create the DataFrame\n",
    "df = pd.DataFrame(data, index=index_labels)\n",
    "df"
   ]
  }
 ],
 "metadata": {
  "kernelspec": {
   "display_name": "Python 3 (ipykernel)",
   "language": "python",
   "name": "python3"
  },
  "language_info": {
   "codemirror_mode": {
    "name": "ipython",
    "version": 3
   },
   "file_extension": ".py",
   "mimetype": "text/x-python",
   "name": "python",
   "nbconvert_exporter": "python",
   "pygments_lexer": "ipython3",
   "version": "3.10.15"
  }
 },
 "nbformat": 4,
 "nbformat_minor": 5
}
