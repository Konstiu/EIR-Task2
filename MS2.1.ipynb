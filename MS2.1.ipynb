{
 "cells": [
  {
   "cell_type": "markdown",
   "id": "7a0c1aef-ce23-48f7-ba4e-8eaba879173a",
   "metadata": {},
   "source": [
    "# MS 2.1- Group 10\n",
    "\n",
    "The following sections describe and implement an attempt to Audio Identification. We experimented with various configurations and parameter settings to achieve a high accuracy in the audio identification of our test queries. "
   ]
  },
  {
   "cell_type": "markdown",
   "id": "0f05b5f2-68a6-4a49-be64-67b16bee9fbc",
   "metadata": {},
   "source": [
    "# Task 1:"
   ]
  },
  {
   "cell_type": "markdown",
   "id": "38ae0ba4-2288-4ab7-ba3f-6aa3e0394dab",
   "metadata": {
    "jp-MarkdownHeadingCollapsed": true
   },
   "source": [
    "## Dataset\n",
    "The data audio tracks used in this notebook can be found at https://cdn.freesound.org/mtg-jamendo/raw_30s/audio/raw_30s_audio-10.tar.\n",
    "\n",
    "### Query Generation\n",
    "We began by randomly selecting 20 audio tracks from the dataset. These tracks serve as the foundation for generating our test queries. For each of the 20 selected tracks, we extracted a 10-second segment from within the first 20 seconds of the track. Using the tool Audacity, we then created four distinct query versions for each extracted segment:\n",
    "\n",
    "- **Original**: The unmodified 10-second segment.\n",
    "- **Noise**: The segment with added Gaussian noise.\n",
    "- **Coding**: A strongly compressed version of the segment.\n",
    "- **Mobile**: A version recorded outdoors using a mobile phone.\n",
    "\n",
    "### Data Organization\n",
    "- **Full Tracks**: Stored in the **'tracks/'** folder.\n",
    "- **Generated Queries**: Stored in the **'queries/'** folder.\n",
    "\n",
    "*Note: All audio files are saved in MP3 format*"
   ]
  },
  {
   "cell_type": "markdown",
   "id": "97b01215-857f-4801-a25f-e78a9d3193d7",
   "metadata": {},
   "source": [
    "# Task 2-4:\n"
   ]
  },
  {
   "cell_type": "markdown",
   "id": "e773d89b-4f50-440a-bd94-0741a7d3734e",
   "metadata": {},
   "source": [
    "# Imports"
   ]
  },
  {
   "cell_type": "code",
   "execution_count": 1,
   "id": "6f521e39-a7f3-483a-b944-40d5303f04d8",
   "metadata": {},
   "outputs": [],
   "source": [
    "# imports\n",
    "import os, sys\n",
    "import numpy as np\n",
    "from numba import jit\n",
    "import librosa\n",
    "#from scipy import signal\n",
    "from scipy import ndimage\n",
    "from matplotlib import pyplot as plt\n",
    "import IPython.display as ipd\n",
    "import time\n",
    "\n",
    "sys.path.append('..')\n",
    "import libfmp.b\n",
    "import libfmp.c2\n",
    "import libfmp.c6\n",
    "from IPython.display import clear_output\n",
    "\n",
    "\n",
    "%matplotlib inline"
   ]
  },
  {
   "cell_type": "markdown",
   "id": "86d3a4ae-e49d-4088-970a-63844050d4db",
   "metadata": {},
   "source": [
    "# Utility functions\n",
    "\n",
    "Here we define all functions that, we later need to compute spectrograms, constellation maps, and perform the matching"
   ]
  },
  {
   "cell_type": "markdown",
   "id": "629ee5ff-452e-49e8-958a-794ef2bd6721",
   "metadata": {},
   "source": [
    "### Spectrogram\n",
    "This function is responsible for computing the spectrogram map of a given track. We limit the track duration that is used to 30 seconds."
   ]
  },
  {
   "cell_type": "code",
   "execution_count": 2,
   "id": "83428bb3-ae97-4c2a-9632-311405fc8965",
   "metadata": {},
   "outputs": [],
   "source": [
    "def compute_spectrogram(fn_wav, Fs=22050, N=2048, H=1024, bin_max=128, frame_max=None, duration=None):\n",
    "    x, Fs = librosa.load(fn_wav, sr=Fs, duration=30)\n",
    "    x_duration = len(x) / Fs\n",
    "    X = librosa.stft(x, n_fft=N, hop_length=H, win_length=N, window='hann')\n",
    "    if bin_max is None:\n",
    "        bin_max = X.shape[0]\n",
    "    if frame_max is None:\n",
    "        frame_max = X.shape[0]\n",
    "    Y = np.abs(X[:bin_max, :frame_max])\n",
    "    return Y"
   ]
  },
  {
   "cell_type": "markdown",
   "id": "c622971a-39b5-4eb3-a17a-1fa657ac43d6",
   "metadata": {},
   "source": [
    "### Constellation map \n",
    "This function computes the constellation map, given a spectrogram map"
   ]
  },
  {
   "cell_type": "code",
   "execution_count": 3,
   "id": "5278590e-dde5-4409-a679-d9fc53cfb2e6",
   "metadata": {},
   "outputs": [],
   "source": [
    "def compute_constellation_map(Y, dist_freq=7, dist_time=7, thresh=0.01):\n",
    "    \"\"\"Compute constellation map (implementation using image processing)\n",
    "\n",
    "    Notebook: C7/C7S1_AudioIdentification.ipynb\n",
    "\n",
    "    Args:\n",
    "        Y (np.ndarray): Spectrogram (magnitude)\n",
    "        dist_freq (int): Neighborhood parameter for frequency direction (kappa) (Default value = 7)\n",
    "        dist_time (int): Neighborhood parameter for time direction (tau) (Default value = 7)\n",
    "        thresh (float): Threshold parameter for minimal peak magnitude (Default value = 0.01)\n",
    "\n",
    "    Returns:\n",
    "        Cmap (np.ndarray): Boolean mask for peak structure (same size as Y)\n",
    "    \"\"\"\n",
    "    result = ndimage.maximum_filter(Y, size=[2*dist_freq+1, 2*dist_time+1], mode='constant')\n",
    "    Cmap = np.logical_and(Y == result, result > thresh)\n",
    "    return Cmap"
   ]
  },
  {
   "cell_type": "markdown",
   "id": "03280689-02c4-43f1-9f22-b1e42c0ef889",
   "metadata": {},
   "source": [
    "### Plot constellation map\n",
    "Function to plot the constellation map. Used for inspection purposes, when deciding on parameters for dist_freq and dist_time."
   ]
  },
  {
   "cell_type": "code",
   "execution_count": 4,
   "id": "a36c44e3-5e52-49da-96c0-814a817b4dcc",
   "metadata": {},
   "outputs": [],
   "source": [
    "def plot_constellation_map(Cmap, Y=None, xlim=None, ylim=None, title='',\n",
    "                           xlabel='Time (sample)', ylabel='Frequency (bins)',\n",
    "                           s=5, color='r', marker='o', figsize=(7, 3), dpi=72):\n",
    "    \"\"\"Plot constellation map\n",
    "\n",
    "    Notebook: C7/C7S1_AudioIdentification.ipynb\n",
    "\n",
    "    Args:\n",
    "        Cmap: Constellation map given as boolean mask for peak structure\n",
    "        Y: Spectrogram representation (Default value = None)\n",
    "        xlim: Limits for x-axis (Default value = None)\n",
    "        ylim: Limits for y-axis (Default value = None)\n",
    "        title: Title for plot (Default value = '')\n",
    "        xlabel: Label for x-axis (Default value = 'Time (sample)')\n",
    "        ylabel: Label for y-axis (Default value = 'Frequency (bins)')\n",
    "        s: Size of dots in scatter plot (Default value = 5)\n",
    "        color: Color used for scatter plot (Default value = 'r')\n",
    "        marker: Marker for peaks (Default value = 'o')\n",
    "        figsize: Width, height in inches (Default value = (7, 3))\n",
    "        dpi: Dots per inch (Default value = 72)\n",
    "\n",
    "    Returns:\n",
    "        fig: The created matplotlib figure\n",
    "        ax: The used axes.\n",
    "        im: The image plot\n",
    "    \"\"\"\n",
    "    if Cmap.ndim > 1:\n",
    "        (K, N) = Cmap.shape\n",
    "    else:\n",
    "        K = Cmap.shape[0]\n",
    "        N = 1\n",
    "    if Y is None:\n",
    "        Y = np.zeros((K, N))\n",
    "    fig, ax = plt.subplots(1, 1, figsize=figsize, dpi=dpi)\n",
    "    im = ax.imshow(Y, origin='lower', aspect='auto', cmap='gray_r', interpolation='nearest')\n",
    "    ax.set_xlabel(xlabel)\n",
    "    ax.set_ylabel(ylabel)\n",
    "    ax.set_title(title)\n",
    "    Fs = 1\n",
    "    if xlim is None:\n",
    "        xlim = [-0.5/Fs, (N-0.5)/Fs]\n",
    "    if ylim is None:\n",
    "        ylim = [-0.5/Fs, (K-0.5)/Fs]\n",
    "    ax.set_xlim(xlim)\n",
    "    ax.set_ylim(ylim)\n",
    "    n, k = np.argwhere(Cmap == 1).T\n",
    "    ax.scatter(k, n, color=color, s=s, marker=marker)\n",
    "    plt.tight_layout()\n",
    "    return fig, ax, im\n",
    "    "
   ]
  },
  {
   "cell_type": "markdown",
   "id": "ab0b9840-f0d0-4fdc-a6c0-32ee187aa4ed",
   "metadata": {},
   "source": [
    "Helper function that matches two binary matrices."
   ]
  },
  {
   "cell_type": "code",
   "execution_count": 5,
   "id": "3e945ebb-a801-4f80-a698-311cbdd19933",
   "metadata": {},
   "outputs": [],
   "source": [
    "import numpy as np\n",
    "from scipy import ndimage\n",
    "from numba import jit, prange\n",
    "def match_binary_matrices_tol(C_ref, C_est, C_est_max, tol_freq=0, tol_time=0):\n",
    "    \"\"\"Compare binary matrices with tolerance.\"\"\"\n",
    "    assert C_ref.shape == C_est.shape, \"Dimensions need to agree\"\n",
    "    N = np.sum(C_ref)\n",
    "    M = np.sum(C_est)\n",
    "    C_AND = np.logical_and(C_est_max, C_ref)\n",
    "    TP = np.sum(C_AND)\n",
    "    FN = N - TP\n",
    "    FP = M - TP\n",
    "    return TP, FN, FP, C_AND"
   ]
  },
  {
   "cell_type": "markdown",
   "id": "fcf0210d-2c6a-4efe-a73b-fba8730faa84",
   "metadata": {},
   "source": [
    "### Compute Matching function\n",
    "\n",
    "The following two functions compute the match between the query constellation map and the database-track constellation map by sliding the query over the database-track.\n",
    "\n",
    "To optimize query-to-database constellation map matching, we refactored the original implementation into compute_matching_function and compute_matching_function_numba. The former precomputes the C_est_max filter to estimate the query's maximum region, while the latter is Numba-optimized, leveraging parallelization across CPU cores to reduce runtime from nearly an hour to under 5 minutes.\n",
    "\n",
    "We chose True Positives (TP) as the primary scoring metric because it provided the most consistent and interpretable results. Unlike precision, recall, or F-measure, TP is straightforward and does not depend on thresholds or additional parameters, making it suitable for comparing scores across different constellation maps. This choice aligns with the reference implementation and focuses on maximizing correct matches, ensuring robust and reliable evaluations for this task."
   ]
  },
  {
   "cell_type": "code",
   "execution_count": 6,
   "id": "c8f0becd-121e-46b4-8918-e0580879259d",
   "metadata": {},
   "outputs": [],
   "source": [
    "@jit(nopython=True, parallel=True)\n",
    "def compute_matching_function_numba(C_D, C_Q, C_est_max, tol_freq=0, tol_time=0):\n",
    "    \"\"\"Numba-accelerated computation of the matching function.\"\"\"\n",
    "    L = C_D.shape[1]\n",
    "    N = C_Q.shape[1]\n",
    "    M = L - N\n",
    "    Delta = np.zeros(M + 1, dtype=np.float64)\n",
    "\n",
    "    for m in prange(M + 1):  # Parallelized loop\n",
    "        C_D_crop = C_D[:, m:m + N]\n",
    "        C_AND = np.logical_and(C_est_max, C_D_crop)\n",
    "        TP = np.sum(C_AND)\n",
    "        Delta[m] = TP\n",
    "\n",
    "    shift_max = np.argmax(Delta)\n",
    "    return Delta, shift_max"
   ]
  },
  {
   "cell_type": "code",
   "execution_count": 7,
   "id": "5d5c25e3-d75b-42e0-a022-3fe8bce20987",
   "metadata": {},
   "outputs": [],
   "source": [
    "def compute_matching_function(C_D, C_Q, tol_freq=0, tol_time=0):\n",
    "    \"\"\"Computes matching function for constellation maps.\"\"\"\n",
    "    L = C_D.shape[1]\n",
    "    N = C_Q.shape[1]\n",
    "    M = L - N\n",
    "    assert M >= 0, \"Query must be shorter than document\"\n",
    "\n",
    "    # Precompute the max filter for the estimation (outside of Numba)\n",
    "    C_est_max = ndimage.maximum_filter(C_Q, size=(2 * tol_freq + 1, 2 * tol_time + 1), mode='constant')\n",
    "\n",
    "    # Use the Numba-accelerated version\n",
    "    Delta, shift_max = compute_matching_function_numba(C_D, C_Q, C_est_max, tol_freq, tol_time)\n",
    "    return Delta, shift_max"
   ]
  },
  {
   "cell_type": "markdown",
   "id": "0d995201-fe25-49a6-b2d9-f498b692aff0",
   "metadata": {},
   "source": [
    "### Load all filenames\n",
    "This function is used to load all filenames, that are contained in a specified directory. "
   ]
  },
  {
   "cell_type": "code",
   "execution_count": 8,
   "id": "b563077b-1145-4671-a69f-f1f56c3be5c5",
   "metadata": {},
   "outputs": [],
   "source": [
    "def load_filenames(directory):\n",
    "    filenames = []\n",
    "    \n",
    "    # Iterate through all files in the directory\n",
    "    for filename in os.listdir(directory):\n",
    "        # Create the full path\n",
    "        file_path = os.path.join(directory, filename)\n",
    "        \n",
    "        # Check if it is a file (not a directory)\n",
    "        if os.path.isfile(file_path):\n",
    "            # Add to the dictionary, using the filename as the key\n",
    "            filenames.append(file_path)\n",
    "\n",
    "    return filenames"
   ]
  },
  {
   "cell_type": "markdown",
   "id": "6e3a9788-2a01-4709-8ca3-5acdf43604bb",
   "metadata": {},
   "source": [
    "### Compute constellation maps for given filenames\n",
    "The following functions compute constellation maps for a given list of track or query filenames. To optimize performance, the computation is multithreaded, significantly reducing the processing time. For each file, the process involves computing the spectrogram and subsequently generating the corresponding constellation map."
   ]
  },
  {
   "cell_type": "code",
   "execution_count": 9,
   "id": "e89b68b0-e9ea-4dde-9078-cd7121c1ae6a",
   "metadata": {},
   "outputs": [],
   "source": [
    "from concurrent.futures import ThreadPoolExecutor\n",
    "\n",
    "def compute_constellation_map_single(args):\n",
    "    \"\"\"Compute the constellation map for a single file.\"\"\"\n",
    "    filename, dist_freq, dist_time = args\n",
    "    spectrogram = compute_spectrogram(filename)  # Perform I/O and computation\n",
    "    constellation_map = compute_constellation_map(spectrogram, dist_freq, dist_time)\n",
    "    return filename, constellation_map\n",
    "\n",
    "def compute_constellation_maps(filenames, dist_freq, dist_time):\n",
    "    \"\"\"Compute constellation maps using multithreading.\"\"\"\n",
    "    # Prepare arguments for each file\n",
    "    args = [(filename, dist_freq, dist_time) for filename in filenames]\n",
    "    \n",
    "    # Use ThreadPoolExecutor for multithreading\n",
    "    with ThreadPoolExecutor() as executor:\n",
    "        results = executor.map(compute_constellation_map_single, args)\n",
    "    \n",
    "    # Convert results to a dictionary\n",
    "    Cmaps = dict(results)\n",
    "    return Cmaps"
   ]
  },
  {
   "cell_type": "markdown",
   "id": "2ee13707-d537-4b58-bdd2-075cf896fc4b",
   "metadata": {},
   "source": [
    "# Task 2: Database Preparation\n",
    "In this section, we prepare the database for our experiments by defining and initializing configurations and computing constellation maps.\n",
    "\n",
    "Each configuration is represented as a dictionary that specifies various parameters (e.g., κ, τ, tol_freq, tol_time) and also serves as a container for storing:\n",
    "\n",
    "- **Constellation Maps for Database Tracks (cmaps_D)**: Computed constellation maps for the database tracks.\n",
    "- **Constellation Maps for Queries (cmaps_Q)**: Computed constellation maps for the queries.\n",
    "- **Matches**: A dictionary to store matches between database tracks and queries calculated during experiments.\n",
    "- **Hits**: A summary of total and query-specific matches across different query types (original, noise, coding, and mobile)."
   ]
  },
  {
   "cell_type": "markdown",
   "id": "1202fe3a-4b30-42dc-891e-9e31fc652495",
   "metadata": {},
   "source": [
    "## Configurations\n",
    "We create an array of four configurations, each with different parameter values, and initialize the respective fields. The constellation maps are computed for each configuration and stored in the configs data structure for use in subsequent experiments."
   ]
  },
  {
   "cell_type": "code",
   "execution_count": 10,
   "id": "da8bbd67-d5f3-464f-ab49-249e608afeb1",
   "metadata": {},
   "outputs": [],
   "source": [
    "configs = [\n",
    "    {\"kappa\": 7, \"tau\": 3, \"tol_freq\": 0, \"tol_time\": 0, \"cmaps_D\": None, \"cmaps_Q\": None, \"matches\": {}, \"hits\": {\"total\": 0, \"original\": 0, \"noise\": 0, \"coding\": 0, \"mobile\": 0}},\n",
    "    {\"kappa\": 11, \"tau\": 3, \"tol_freq\": 0, \"tol_time\": 0, \"cmaps_D\": None, \"cmaps_Q\": None, \"matches\": {}, \"hits\": {\"total\": 0, \"original\": 0, \"noise\": 0, \"coding\": 0, \"mobile\": 0}},\n",
    "    {\"kappa\": 10, \"tau\": 10, \"tol_freq\": 0, \"tol_time\": 0, \"cmaps_D\": None, \"cmaps_Q\": None, \"matches\": {}, \"hits\": {\"total\": 0, \"original\": 0, \"noise\": 0, \"coding\": 0, \"mobile\": 0}},\n",
    "    {\"kappa\": 6, \"tau\": 17, \"tol_freq\": 1, \"tol_time\": 2, \"cmaps_D\": None, \"cmaps_Q\": None, \"matches\": {}, \"hits\": {\"total\": 0, \"original\": 0, \"noise\": 0, \"coding\": 0, \"mobile\": 0}}\n",
    "]"
   ]
  },
  {
   "cell_type": "markdown",
   "id": "d7dac696-8419-4d30-86db-5bbbedb3efd1",
   "metadata": {},
   "source": [
    "Now we load all tracks we want to have in our database into memory and compute the constellation maps for each of the 4 specified configurations."
   ]
  },
  {
   "cell_type": "code",
   "execution_count": 11,
   "id": "60b21746-86c4-461c-adbd-369cb079ee5b",
   "metadata": {},
   "outputs": [],
   "source": [
    "tracks = load_filenames('tracks') # load all track filenames\n",
    "for config in configs: \n",
    "    config[\"cmaps_D\"] = compute_constellation_maps(tracks, config[\"kappa\"], config[\"tau\"]) # store the computed constellation maps for each configuration."
   ]
  },
  {
   "cell_type": "markdown",
   "id": "f196a979-453d-48d8-bbee-83324a856ec0",
   "metadata": {},
   "source": [
    "## Visualization of example constellation maps for each configuration\n",
    "Here, we illustrate how a constellation map for a track appears for each selected configuration, using the specified parameters. This demonstration provides a visual representation of how the parameter settings (κ, τ) influence the resulting constellation map for a given track."
   ]
  },
  {
   "cell_type": "markdown",
   "id": "9a1fe93d-d880-4233-b27c-6b40f32cff6c",
   "metadata": {},
   "source": [
    "### κ = 7, τ = 3"
   ]
  },
  {
   "cell_type": "code",
   "execution_count": 12,
   "id": "651aa5bd-33e1-474c-ad01-67c9fbbdae50",
   "metadata": {},
   "outputs": [
    {
     "data": {
      "image/png": "[encoded data removed]",
      "text/plain": [
       "<Figure size 504x216 with 1 Axes>"
      ]
     },
     "metadata": {},
     "output_type": "display_data"
    }
   ],
   "source": [
    "fig, ax, im = plot_constellation_map(configs[0][\"cmaps_D\"]['tracks/810.mp3'], color='r', s=30)"
   ]
  },
  {
   "cell_type": "markdown",
   "id": "416e7da4-7122-4ca7-9b26-21e54d75a1e3",
   "metadata": {},
   "source": [
    "### κ = 11, τ = 3"
   ]
  },
  {
   "cell_type": "code",
   "execution_count": 13,
   "id": "d0d537e8-9348-4cd5-b2f2-91cb75fa3e51",
   "metadata": {},
   "outputs": [
    {
     "data": {
      "image/png": "[encoded data removed]",
      "text/plain": [
       "<Figure size 504x216 with 1 Axes>"
      ]
     },
     "metadata": {},
     "output_type": "display_data"
    }
   ],
   "source": [
    "fig, ax, im = plot_constellation_map(configs[1][\"cmaps_D\"]['tracks/810.mp3'], color='r', s=30)"
   ]
  },
  {
   "cell_type": "markdown",
   "id": "2dc77fec-01f6-482f-8926-f4f61908171d",
   "metadata": {},
   "source": [
    "### κ = 10, τ = 10"
   ]
  },
  {
   "cell_type": "code",
   "execution_count": 14,
   "id": "bdcf9266-fb28-4637-b81b-317d1d07c968",
   "metadata": {},
   "outputs": [
    {
     "data": {
      "image/png": "[encoded data removed]",
      "text/plain": [
       "<Figure size 504x216 with 1 Axes>"
      ]
     },
     "metadata": {},
     "output_type": "display_data"
    }
   ],
   "source": [
    "fig, ax, im = plot_constellation_map(configs[2][\"cmaps_D\"]['tracks/810.mp3'], color='r', s=30)"
   ]
  },
  {
   "cell_type": "markdown",
   "id": "2743c2d7-00c5-471e-b82d-7139769130fb",
   "metadata": {},
   "source": [
    "### κ = 6, τ = 17"
   ]
  },
  {
   "cell_type": "code",
   "execution_count": 15,
   "id": "a9f5442a-35eb-4f92-b109-e323d5f68779",
   "metadata": {},
   "outputs": [
    {
     "data": {
      "image/png": "[encoded data removed]",
      "text/plain": [
       "<Figure size 504x216 with 1 Axes>"
      ]
     },
     "metadata": {},
     "output_type": "display_data"
    }
   ],
   "source": [
    "fig, ax, im = plot_constellation_map(configs[3][\"cmaps_D\"]['tracks/810.mp3'], color='r', s=30)"
   ]
  },
  {
   "cell_type": "markdown",
   "id": "fe686b15-6b47-4159-a44d-38ff222ebdbc",
   "metadata": {},
   "source": [
    "# Task 3: Retrieval Experimentation\n",
    "\n",
    "- In this section, we begin by generating constellation maps for each query using the same parameter combinations applied to the database tracks. This ensures a consistent basis for comparison during the matching process.\n",
    "\n",
    "- Next, we perform the matching process for each of the four configurations. Each test query is compared against all audio tracks in the database, and the track with the highest similarity score is identified as the best match.\n",
    "\n",
    "- Finally, we evaluate and visualize the results for each configuration, presenting the outcomes using detailed figures and a summary table for clear comparison."
   ]
  },
  {
   "cell_type": "markdown",
   "id": "e3d747b2-0828-432d-964a-1c79e7d590f3",
   "metadata": {},
   "source": [
    "Here again, we load all the test queries into memory and compute their constellation maps for each of the four specified configurations."
   ]
  },
  {
   "cell_type": "code",
   "execution_count": 16,
   "id": "d84aa536-68af-4ebf-a938-7458fb512f27",
   "metadata": {},
   "outputs": [],
   "source": [
    "queries = load_filenames('queries')\n",
    "for config in configs: \n",
    "    config[\"cmaps_Q\"] = compute_constellation_maps(queries, config[\"kappa\"], config[\"tau\"])"
   ]
  },
  {
   "cell_type": "markdown",
   "id": "03dbc675-9218-4b48-9141-6341127b4311",
   "metadata": {},
   "source": [
    "## Visualization of example constellation maps for each configuration\n",
    "Here, we illustrate how a constellation map for a query appears for each selected configuration, using the specified parameters. This demonstration provides a visual representation of how the parameter settings (κ, τ) influence the resulting constellation map for a given query."
   ]
  },
  {
   "cell_type": "markdown",
   "id": "59960d19-f5a7-4707-95c9-5c54db9b8e79",
   "metadata": {},
   "source": [
    "### κ = 7, τ = 3"
   ]
  },
  {
   "cell_type": "code",
   "execution_count": 17,
   "id": "1a64ba3b-e2a1-4bbe-a7de-eec1f234be6e",
   "metadata": {},
   "outputs": [
    {
     "data": {
      "image/png": "[encoded data removed]",
      "text/plain": [
       "<Figure size 504x216 with 1 Axes>"
      ]
     },
     "metadata": {},
     "output_type": "display_data"
    }
   ],
   "source": [
    "fig, ax, im = plot_constellation_map(configs[0][\"cmaps_Q\"]['queries/810_original.mp3'], color='r', s=30)"
   ]
  },
  {
   "cell_type": "markdown",
   "id": "db942662-2292-4181-a485-561d3fb2c8d8",
   "metadata": {},
   "source": [
    "### κ = 11, τ = 3"
   ]
  },
  {
   "cell_type": "code",
   "execution_count": 18,
   "id": "4a50d835-2db0-44e4-890c-a1aab855cc83",
   "metadata": {},
   "outputs": [
    {
     "data": {
      "image/png": "[encoded data removed]",
      "text/plain": [
       "<Figure size 504x216 with 1 Axes>"
      ]
     },
     "metadata": {},
     "output_type": "display_data"
    }
   ],
   "source": [
    "fig, ax, im = plot_constellation_map(configs[1][\"cmaps_Q\"]['queries/810_original.mp3'], color='r', s=30)"
   ]
  },
  {
   "cell_type": "markdown",
   "id": "be770503-08e4-4266-a734-99412616ff84",
   "metadata": {},
   "source": [
    "### κ = 10, τ = 10"
   ]
  },
  {
   "cell_type": "code",
   "execution_count": 19,
   "id": "081e84fd-e658-4862-93d5-7a3c7fcb77fe",
   "metadata": {},
   "outputs": [
    {
     "data": {
      "image/png": "[encoded data removed]",
      "text/plain": [
       "<Figure size 504x216 with 1 Axes>"
      ]
     },
     "metadata": {},
     "output_type": "display_data"
    }
   ],
   "source": [
    "fig, ax, im = plot_constellation_map(configs[2][\"cmaps_Q\"]['queries/810_original.mp3'], color='r', s=30)"
   ]
  },
  {
   "cell_type": "markdown",
   "id": "9c142261-884c-4fb4-97ad-9fe54b70fb3e",
   "metadata": {},
   "source": [
    "### κ = 6, τ = 17"
   ]
  },
  {
   "cell_type": "code",
   "execution_count": 20,
   "id": "166efa19-bd1c-404d-8b7d-6ebdf878be77",
   "metadata": {},
   "outputs": [
    {
     "data": {
      "image/png": "[encoded data removed]",
      "text/plain": [
       "<Figure size 504x216 with 1 Axes>"
      ]
     },
     "metadata": {},
     "output_type": "display_data"
    }
   ],
   "source": [
    "fig, ax, im = plot_constellation_map(configs[3][\"cmaps_Q\"]['queries/810_original.mp3'], color='r', s=30)"
   ]
  },
  {
   "cell_type": "markdown",
   "id": "65b87d94-29d6-48a5-abec-976fb7ca04e9",
   "metadata": {},
   "source": [
    "## Matching\n",
    "\n",
    "After preprocessing our tracks and queries, we can finally start the matching. We do the matching of queries and database-tracks for each of the previously defined parameter combinations. \n",
    "\n",
    "For each configuration, we follow a systematic process to identify the best match for each query:\n",
    "\n",
    "- **Iterate Through Queries**: For every query, its constellation map is compared against all the database track constellation maps.\n",
    "- **Compute Matching Scores**: Using the compute_matching_function, a score is calculated for each query-to-track combination.\n",
    "- **Track the Best Match**: The track with the highest matching score for each query is identified as the best match. This is stored in a dictionary along with its corresponding score.\n",
    "- **Evaluate Results**: We determine how many queries were correctly matched to their corresponding tracks by comparing the predicted matching track to the query's expected match."
   ]
  },
  {
   "cell_type": "code",
   "execution_count": null,
   "id": "8926123f-74fa-4c81-bf74-96c2cee0119a",
   "metadata": {},
   "outputs": [
    {
     "name": "stdout",
     "output_type": "stream",
     "text": [
      "***** Configuration: κ=7, τ=3 *****\n",
      "Average time per query: 0.51 seconds\n",
      "Matched 73 of 80 queries correctly.\n",
      "Original: 20 / 20.\n",
      "Noise: 19 / 20.\n",
      "Coding: 20 / 20.\n",
      "Mobile: 14 / 20.\n",
      "\n",
      "\n",
      "\n",
      "***** Configuration: κ=11, τ=3 *****\n",
      "Average time per query: 0.57 seconds\n",
      "Matched 74 of 80 queries correctly.\n",
      "Original: 20 / 20.\n",
      "Noise: 19 / 20.\n",
      "Coding: 20 / 20.\n",
      "Mobile: 15 / 20.\n",
      "\n",
      "\n",
      "\n",
      "***** Configuration: κ=10, τ=10 *****\n",
      "Average time per query: 0.49 seconds\n",
      "Matched 70 of 80 queries correctly.\n",
      "Original: 20 / 20.\n",
      "Noise: 18 / 20.\n",
      "Coding: 20 / 20.\n",
      "Mobile: 12 / 20.\n",
      "\n",
      "\n",
      "\n",
      "***** Configuration: κ=6, τ=17 *****\n"
     ]
    }
   ],
   "source": [
    "\n",
    "\n",
    "for config in configs: # loop through all 4 configurations\n",
    "    print(f\"***** Configuration: κ={config['kappa']}, τ={config['tau']} *****\")\n",
    "    \n",
    "    config[\"hits\"] = {\"total\": 0, \"original\": 0, \"noise\": 0, \"coding\": 0, \"mobile\": 0}\n",
    "    \n",
    "    for name_Q, cmap_Q in config[\"cmaps_Q\"].items(): # test all queries one by one\n",
    "        best_score = 0\n",
    "        best_name = None\n",
    "\n",
    "\n",
    "        start_time = time.time() # measure time\n",
    "\n",
    "        for name_D, cmap_D in config[\"cmaps_D\"].items(): # compare query to all database tracks\n",
    "            delta, shift_max = compute_matching_function(cmap_D, cmap_Q, tol_freq=config[\"tol_freq\"], tol_time=config[\"tol_time\"])\n",
    "\n",
    "            if delta[shift_max] > best_score:\n",
    "                best_score = delta[shift_max]\n",
    "                best_name = name_D\n",
    "\n",
    "    \n",
    "        end_time = time.time()\n",
    "        \n",
    "        # save best matching track\n",
    "        config[\"matches\"][name_Q] = {\"matching_track\": best_name, \"score\": best_score, \"time\": (end_time-start_time)}\n",
    "\n",
    "        # keep track of hits - it is a hit if the track number of the query filename is the same as of the track filename\n",
    "        track_num = name_Q.split('/')[1].split('_')[0] \n",
    "        if track_num in best_name:\n",
    "            config[\"hits\"][\"total\"] += 1 # total hits\n",
    "\n",
    "            if \"noise\" in name_Q:\n",
    "                config[\"hits\"][\"noise\"] += 1 # if query was a noise query\n",
    "            elif \"coding\" in name_Q:\n",
    "                config[\"hits\"][\"coding\"] += 1 # if query was a coding query\n",
    "            elif \"mobile\" in name_Q:\n",
    "                config[\"hits\"][\"mobile\"] += 1 # if query was a mobile query\n",
    "            elif \"original\" in name_Q:\n",
    "                config[\"hits\"][\"original\"] += 1 # if query the orginal extracted segment\n",
    "\n",
    "\n",
    "    total_time = sum(entry[\"time\"] for entry in config[\"matches\"].values()) # total time it took for all queries of the given configuration\n",
    "    average_time = total_time / len(config[\"matches\"]) if config[\"matches\"] else 0 # average query time of given configuration\n",
    "\n",
    "    # print out short statistics for each configuration\n",
    "    print(f\"Average time per query: {average_time:.2f} seconds\")\n",
    "    print(f\"Matched {config['hits']['total']} of {len(queries)} queries correctly.\")\n",
    "    print(f\"Original: {config['hits']['original']} / {20}.\")\n",
    "    print(f\"Noise: {config['hits']['noise']} / {20}.\")\n",
    "    print(f\"Coding: {config['hits']['coding']} / {20}.\")\n",
    "    print(f\"Mobile: {config['hits']['mobile']} / {20}.\")\n",
    "\n",
    "    \n",
    "    \n",
    "    print(\"\\n\\n\")\n",
    "    \n"
   ]
  },
  {
   "cell_type": "markdown",
   "id": "cecc5b34-7348-4170-a67c-9189736983ce",
   "metadata": {},
   "source": [
    " # Evaluation:\n",
    " In this section, we evaluate we compare and visualize our experiments."
   ]
  },
  {
   "cell_type": "markdown",
   "id": "834006b4-dbe3-442a-a096-860473005d83",
   "metadata": {},
   "source": [
    "## Table"
   ]
  },
  {
   "cell_type": "code",
   "execution_count": null,
   "id": "0781eaaa-af8f-48c0-84ff-6877c770efde",
   "metadata": {},
   "outputs": [],
   "source": [
    "import pandas as pd\n",
    "\n",
    "\n",
    "\n",
    "\n",
    "# Example data\n",
    "average_times = []\n",
    "for config in configs:\n",
    "    total_time = sum(entry[\"time\"] for entry in config[\"matches\"].values())\n",
    "    average_time = total_time / len(config[\"matches\"]) if config[\"matches\"] else 0\n",
    "    average_times.append(average_time)\n",
    "\n",
    "max_times = [max(entry[\"time\"] for entry in config[\"matches\"].values()) for config in configs]\n",
    "min_times = [min(entry[\"time\"] for entry in config[\"matches\"].values()) for config in configs]\n",
    "\n",
    "\n",
    "\n",
    "data = {\n",
    "    \"Average Query Time (sec)\": average_times,\n",
    "    \"Max Query Time (sec)\": max_times,\n",
    "    \"Min Query Time (sec)\": min_times,\n",
    "    \"Total Accuracy (%)\": [config[\"hits\"][\"total\"]/len(queries) for config in configs],\n",
    "    \"Original Accuracy (%)\": [(config[\"hits\"][\"original\"]/20)*100 for config in configs],\n",
    "    \"Noise Accuracy (%)\": [(config[\"hits\"][\"noise\"]/20)*100 for config in configs],\n",
    "    \"Coding Accuracy (%)\": [(config[\"hits\"][\"coding\"]/20)*100 for config in configs],\n",
    "    \"Mobile Accuracy (%)\": [(config[\"hits\"][\"mobile\"]/20)*100 for config in configs],\n",
    "}\n",
    "\n",
    "# Row labels\n",
    "labels = [f\"kappa={config['kappa']}, tau={config['tau']}\" for config in configs]\n",
    "\n",
    "# Create the DataFrame\n",
    "df = pd.DataFrame(data, index=labels)\n",
    "df"
   ]
  },
  {
   "cell_type": "markdown",
   "id": "1d9d1798-6051-4b8a-9c96-5cfb23492449",
   "metadata": {},
   "source": [
    "This table summarizes the performance metrics of our configurations, defined by the parameters κ and  τ. The configurations are evaluated based on multiple factors:\n",
    "\n",
    "- **Average Query Time (sec)**: The average time taken to process a query.\n",
    "- **Max Query Time (sec)**: The longest time recorded for a query.\n",
    "- **Min Query Time (sec)**: The shortest time recorded for a query.\n",
    "- **Total Accuracy (%)**: The overall percentage of correctly processed queries.\n",
    "- **Original Accuracy (%)**: The accuracy of queries without any additional challenges, such as noise.\n",
    "- **Noise Accuracy (%)**: The accuracy when noise is present.\n",
    "- **Coding Accuracy (%)**: The accuracy for coding queries.\n",
    "- **Mobile Accuracy (%)**: The accuracy for mobile queries.\n"
   ]
  },
  {
   "cell_type": "markdown",
   "id": "acda7722-c038-4384-a352-e80d44036e77",
   "metadata": {},
   "source": [
    "## Query time comparison"
   ]
  },
  {
   "cell_type": "code",
   "execution_count": null,
   "id": "79fb6812-6b91-4c9a-89f1-df8853e0d1b9",
   "metadata": {},
   "outputs": [],
   "source": [
    "import matplotlib.pyplot as plt\n",
    "\n",
    "# Values to plot\n",
    "labels = [f\"kappa={config['kappa']}, tau={config['tau']}\" for config in configs]\n",
    "values = [] \n",
    "\n",
    "for config in configs:\n",
    "    total_time = sum(entry[\"time\"] for entry in config[\"matches\"].values())\n",
    "    average_time = total_time / len(config[\"matches\"]) if config[\"matches\"] else 0\n",
    "    values.append(average_time)\n",
    "\n",
    "# Creating the bar plot\n",
    "plt.figure(figsize=(8, 6))\n",
    "plt.bar(labels, values, color='skyblue')\n",
    "plt.title('Average Query Time')\n",
    "plt.xlabel('Constellation Map Configuration')\n",
    "plt.ylabel('Time (in sec.)')\n",
    "plt.ylim(0, max(values) + 0.5)\n",
    "plt.grid(axis='y', linestyle='--', alpha=0.7)\n",
    "\n",
    "# Display the plot\n",
    "plt.show()"
   ]
  },
  {
   "cell_type": "markdown",
   "id": "c64e3b57-708b-4ada-b525-d7e1cb141ac4",
   "metadata": {},
   "source": [
    "This figure illustrates the average query time required to find a match for each configuration of 𝜅 and 𝜏. The configurations are displayed on the x-axis, while the average query time (in seconds) is shown on the y-axis.\n",
    "\n",
    "In our case, changing the parameters did not really influence the runtime much."
   ]
  },
  {
   "cell_type": "markdown",
   "id": "e8f959a9-c5b0-4721-9eef-7b85b8bd7956",
   "metadata": {},
   "source": [
    "## Matching Accuracy Comparison"
   ]
  },
  {
   "cell_type": "code",
   "execution_count": null,
   "id": "56934a37-0670-4605-b62c-5d49a61203f9",
   "metadata": {},
   "outputs": [],
   "source": [
    "import matplotlib.pyplot as plt\n",
    "\n",
    "\n",
    "# Values to plot\n",
    "labels = [f\"kappa={config['kappa']}, tau={config['tau']}\" for config in configs]\n",
    "values = [config[\"hits\"][\"total\"]/len(queries)*100 for config in configs]\n",
    "\n",
    "\n",
    "# Creating the bar plot\n",
    "plt.figure(figsize=(8, 6))\n",
    "bars = plt.bar(labels, values, color='skyblue')\n",
    "\n",
    "# Adding percentages above the bars\n",
    "for bar, value in zip(bars, values):\n",
    "    plt.text(bar.get_x() + bar.get_width() / 2, bar.get_height() + 0.02, \n",
    "             f'{value:.1f}%', ha='center', va='bottom', fontsize=10)\n",
    "\n",
    "# Adding title and labels\n",
    "plt.title('Query Matching Accuracy')\n",
    "plt.xlabel('Constellation Map Configuration')\n",
    "plt.ylabel('Accuracy (in %)')\n",
    "plt.ylim(80, 100)  # Leave some space above the bars for annotations\n",
    "plt.grid(axis='y', linestyle='--', alpha=0.7)\n",
    "\n",
    "# Display the plot\n",
    "plt.show()\n"
   ]
  },
  {
   "cell_type": "markdown",
   "id": "95897231-2923-4cae-89b1-5318b8a7b44d",
   "metadata": {},
   "source": [
    "This figure visualizes the query matching accuracy for each configuration, based on the parameters 𝜅 and 𝜏. The x-axis represents the configuration, while the y-axis shows the accuracy percentage.\n",
    "\n",
    "From the chart:\n",
    "- The configuration κ=10,τ=10 has the lowest accuracy (87.5%), making it the least effective in correctly matching queries.\n",
    "- The configuration κ=17,τ=6 achieves the highest accuracy (95%), closely followed by κ=11,τ=3 and κ=7,τ=3, with 92.5% and 91.2% respectively.\n",
    "\n",
    "This highlights how parameter tuning significantly impacts query matching performance, with some configurations offering more consistent and accurate results."
   ]
  },
  {
   "cell_type": "markdown",
   "id": "0af1474a-c492-4d4d-871c-1c0730f84ec9",
   "metadata": {},
   "source": [
    "## Category Comparison"
   ]
  },
  {
   "cell_type": "code",
   "execution_count": null,
   "id": "554055ce-3aad-481e-86b8-a5617ce97f39",
   "metadata": {},
   "outputs": [],
   "source": [
    "# Configuration names and corresponding counts for each category\n",
    "labels = [f\"kappa={config['kappa']}, tau={config['tau']}\" for config in configs]\n",
    "matched_original = [config[\"hits\"][\"original\"] for config in configs]\n",
    "matched_coding = [config[\"hits\"][\"coding\"] for config in configs]\n",
    "matched_noise = [config[\"hits\"][\"noise\"] for config in configs]\n",
    "matched_mobile = [config[\"hits\"][\"mobile\"] for config in configs]\n",
    "\n",
    "# Number of configurations\n",
    "num_configs = len(labels)\n",
    "\n",
    "# X positions for groups of bars\n",
    "x = np.arange(num_configs)\n",
    "\n",
    "# Width of each bar\n",
    "bar_width = 0.2\n",
    "\n",
    "# Categories and their data\n",
    "categories = ['Original', 'Coding', 'Noise', 'Mobile']\n",
    "data = [matched_original, matched_coding, matched_noise, matched_mobile]\n",
    "\n",
    "# Plot\n",
    "plt.figure(figsize=(12, 6))\n",
    "\n",
    "for i, category_data in enumerate(data):\n",
    "    # Offset for each bar in a group\n",
    "    bar_positions = x + (i - 1.5) * bar_width\n",
    "    bars = plt.bar(bar_positions, category_data, width=bar_width)\n",
    "    \n",
    "    # Add category labels on top of each bar\n",
    "    for bar in bars:\n",
    "        plt.text(bar.get_x() + bar.get_width() / 2, bar.get_height() + 0.5,  # Adjusted offset for more space\n",
    "                 categories[i], ha='center', va='bottom', rotation=45, fontsize=8)\n",
    "\n",
    "# Add labels, title, and legend\n",
    "plt.xlabel('Configurations')\n",
    "plt.ylabel('Number of Matched Files')\n",
    "plt.title('Matches per Category')\n",
    "plt.xticks(x, labels)\n",
    "\n",
    "# Adjust the y-axis to leave more space at the top\n",
    "plt.ylim(0, max(max(matched_original), max(matched_coding), max(matched_noise), max(matched_mobile)) + 3)\n",
    "\n",
    "# Show grid and plot\n",
    "plt.grid(axis='y', linestyle='--', alpha=0.7)\n",
    "plt.tight_layout()\n",
    "plt.show()"
   ]
  },
  {
   "cell_type": "markdown",
   "id": "e715984a-068b-480d-bb23-25a6de065161",
   "metadata": {},
   "source": [
    "This figure allows us to evaluate where the most errors occur in query matching. Queries extracted directly from the original track, without any modifications, consistently achieve a perfect match. Similarly, queries with coding modifications also maintain 100% accuracy.\n",
    "\n",
    "However, queries with artificially added noise perform slightly worse, as they are not matched as frequently. The poorest performance is observed with mobile queries, where some configurations manage to achieve only slightly over 50% accuracy.\n",
    "\n",
    "This analysis highlights the challenges posed by noisy and mobile-modified queries."
   ]
  },
  {
   "cell_type": "code",
   "execution_count": null,
   "id": "54825f31-b6b7-439e-af28-3c0915a4c5e0",
   "metadata": {},
   "outputs": [],
   "source": [
    "keys_to_print = ['kappa', 'tau', 'tol_freq', 'tol_time']\n",
    "print(\"\\n------------------\\n\")\n",
    "\n",
    "for config in configs:\n",
    "    key_values = \" | \".join(f\"{key}: {config[key]}\" for key in keys_to_print if key in config)\n",
    "    print(f\"{key_values}\")\n",
    "    \n",
    "    # Extract matches data\n",
    "    matches_data = [\n",
    "        {\"Query\": query_name, \"Score\": details[\"score\"]}\n",
    "        for query_name, details in config[\"matches\"].items()\n",
    "    ]\n",
    "    matches_data_mobile = [\n",
    "        {\"Query\": query_name, \"Score\": details[\"score\"]}\n",
    "        for query_name, details in config[\"matches\"].items()\n",
    "        if \"mobile\" in query_name.lower()\n",
    "    ]\n",
    "    matches_data_code = [\n",
    "        {\"Query\": query_name, \"Score\": details[\"score\"]}\n",
    "        for query_name, details in config[\"matches\"].items()\n",
    "        if \"coding\" in query_name.lower()\n",
    "    ]\n",
    "    matches_data_noise = [\n",
    "        {\"Query\": query_name, \"Score\": details[\"score\"]}\n",
    "        for query_name, details in config[\"matches\"].items()\n",
    "        if \"noise\" in query_name.lower()\n",
    "    ]\n",
    "    matches_data_original = [\n",
    "        {\"Query\": query_name, \"Score\": details[\"score\"]}\n",
    "        for query_name, details in config[\"matches\"].items()\n",
    "        if \"original\" in query_name.lower()\n",
    "    ]\n",
    "\n",
    "    average_scores = {\"mobile\": [], \"coding\": [], \"noise\": [], \"original\": [], \"all data\": []}\n",
    "\n",
    "    # Create DataFrames\n",
    "    df = pd.DataFrame(matches_data)\n",
    "    df_m = pd.DataFrame(matches_data_mobile)\n",
    "    df_c = pd.DataFrame(matches_data_code)\n",
    "    df_n = pd.DataFrame(matches_data_noise)\n",
    "    df_o = pd.DataFrame(matches_data_original)\n",
    "    \n",
    "    # Ensure \"Score\" column is numeric where applicable\n",
    "    df[\"Score\"] = pd.to_numeric(df[\"Score\"])\n",
    "    average_score_m = None\n",
    "    if not df_m.empty:\n",
    "        df_m[\"Score\"] = pd.to_numeric(df_m[\"Score\"])\n",
    "        average_score_m = df_m[\"Score\"].mean()\n",
    "    average_score_c = None\n",
    "    if not df_c.empty:\n",
    "        df_c[\"Score\"] = pd.to_numeric(df_c[\"Score\"])\n",
    "        average_score_c = df_c[\"Score\"].mean()\n",
    "    average_score_n = None\n",
    "    if not df_n.empty:\n",
    "        df_n[\"Score\"] = pd.to_numeric(df_n[\"Score\"])\n",
    "        average_score_n = df_n[\"Score\"].mean()\n",
    "    average_score_o = None\n",
    "    if not df_o.empty:\n",
    "        df_o[\"Score\"] = pd.to_numeric(df_o[\"Score\"])\n",
    "        average_score_o = df_o[\"Score\"].mean()\n",
    "\n",
    "    for category, matches in zip(\n",
    "        [\"mobile\", \"coding\", \"noise\", \"original\", \"all data\"],\n",
    "        [df_m, df_c, df_n, df_o, df]\n",
    "    ):\n",
    "        df = pd.DataFrame(matches)\n",
    "        if not df.empty:\n",
    "            df[\"Score\"] = pd.to_numeric(df[\"Score\"])\n",
    "            average_scores[category].append(df[\"Score\"].mean())\n",
    "    \n",
    "    # Calculate max, min, and average for all queries\n",
    "    max_row = df.nlargest(1, \"Score\")\n",
    "    min_row = df.nsmallest(1, \"Score\")\n",
    "    average_score = df[\"Score\"].mean()\n",
    "\n",
    "    # Print Results\n",
    "    print(\"Maximum Score:\\n\", max_row)\n",
    "    print(\"\\nMinimum Score:\\n\", min_row)\n",
    "    print(\"\\nAverage Score:\", average_score)\n",
    "    print(\"Average Score for `original` Queries:\", average_score_o)\n",
    "    print(\"Average Score for `mobile` Queries:\", average_score_m)\n",
    "    print(\"Average Score for `coding` Queries:\", average_score_c)\n",
    "    print(\"Average Score for `noise` Queries:\", average_score_n)\n",
    "    print(\"\\n------------------\\n\")\n",
    "\n",
    "final_averages = {cat: pd.Series(scores).mean() for cat, scores in average_scores.items() if scores}\n",
    "\n",
    "plt.figure(figsize=(8, 6))\n",
    "categories = list(final_averages.keys())\n",
    "scores = list(final_averages.values())\n",
    "\n",
    "plt.bar(categories, scores, color='skyblue')\n",
    "plt.title(\"Average Scores Across Categories and Configurations\", fontsize=14)\n",
    "plt.xlabel(\"Query Categories\", fontsize=12)\n",
    "plt.ylabel(\"Average Score\", fontsize=12)\n",
    "plt.xticks(fontsize=10)\n",
    "plt.yticks(fontsize=10)\n",
    "plt.grid(axis='y', linestyle='--', alpha=0.7)\n",
    "plt.show()\n"
   ]
  },
  {
   "cell_type": "markdown",
   "id": "f62ec5f3-e89d-4578-a56d-18a303f7114b",
   "metadata": {},
   "source": [
    "The scores seem reasonable based on the configurations. Higher maximum scores, such as 221.0 in kappa: 7 | tau: 3, make sense because lower tau and tolerances allow more matches between query and track peaks. As tau and tol_time increase (stricter criteria), the average and maximum scores decrease, which is expected since stricter matching reduces alignment between peaks.\n",
    "\n",
    "Low minimum scores, like 4.0 in kappa: 10 | tau: 10, are logical for stricter configurations or when the query-track pair has fewer matches. The overall trend of decreasing average scores with stricter settings also aligns with the expectations.\n",
    "\n",
    "The consistency of certain queries appearing in both high and low scores across configurations indicates that the system is processing data as expected. If the configurations match your use case, these scores are valid and meaningful.\n",
    "\n",
    "Additionally it  makes sense for the scores to be lower for mobile queries. Mobile recordings often introduce distortions. \n",
    "These factors naturally lead to fewer matching peaks and, therefore, lower scores. This is consistent with what one can observ and is a good indicator that the scoring system is accounting for real-world variations in query quality."
   ]
  },
  {
   "cell_type": "markdown",
   "id": "44ffc6dd-48b2-4f76-ba3f-6e6a3a6e7682",
   "metadata": {},
   "source": [
    "# Thought process and Final Conclusion\n",
    "\n",
    "Throughout our notebook, we experimented extensively with different parameter configurations for the constellation maps (κ, τ) and the matching process (dist_freq, dist_time). These experiments revealed how changes to these parameters impact the accuracy of the matching process.\n",
    "\n",
    "### Insights on Key Parameters:\n",
    "#### Constellation Map Parameters (κ, τ)**:\n",
    "\n",
    "- **κ (Frequency Domain)**: This parameter determines how much of the frequency range is considered when detecting peaks in the spectrogram. A smaller κ captures fine details, which can help identify subtle features but increases sensitivity to noise. A larger κ smooths the frequency data, emphasizing dominant peaks while reducing noise sensitivity. However, this can result in overlooking some important details.\n",
    "- **τ (Time Domain)**: Similar to κ, but applies to the time axis. A smaller τ captures rapid temporal changes, which is beneficial for detecting short, sharp features but also makes the system more sensitive to noise. A larger τ smooths temporal variations, making the system more robust to distortions like jitter or background noise, though it may miss rapid changes.\n",
    "- **Matching Process Parameters (dist_freq, dist_time)**: Adjusting these parameters, which influence the tolerance in frequency and time domains during the matching process, did not yield significant improvements. Increasing these values often resulted in worse performance. Consequently, we primarily kept them at 0 or 1.\n",
    "\n",
    "#### Findings and Challenges:\n",
    "Through our experiments, we identified configurations that balance accuracy and robustness, successfully matching most of the generated test queries. However, matching the mobile queries proved particularly challenging. As shown in the Evaluation Section, mobile queries consistently performed the worst in terms of accuracy, likely due to distortions introduced during outdoor recording.\n",
    "\n",
    "#### Best Configuration:\n",
    "\n",
    "The configuration that delivered the best results was:\n",
    "- **κ = 6, τ = 17, tol_freq = 1, tol_time = 2**\n",
    "This setup achieved a strong balance between accuracy and robustness, providing the best performance across most query types.\n"
   ]
  }
 ],
 "metadata": {
  "kernelspec": {
   "display_name": "Python 3 (ipykernel)",
   "language": "python",
   "name": "python3"
  },
  "language_info": {
   "codemirror_mode": {
    "name": "ipython",
    "version": 3
   },
   "file_extension": ".py",
   "mimetype": "text/x-python",
   "name": "python",
   "nbconvert_exporter": "python",
   "pygments_lexer": "ipython3",
   "version": "3.12.8"
  }
 },
 "nbformat": 4,
 "nbformat_minor": 5
}
