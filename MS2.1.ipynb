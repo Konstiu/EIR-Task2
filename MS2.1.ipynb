{
 "cells": [
  {
   "cell_type": "markdown",
   "id": "7a0c1aef-ce23-48f7-ba4e-8eaba879173a",
   "metadata": {},
   "source": [
    "# MS 2.1- Group 10"
   ]
  },
  {
   "cell_type": "code",
   "execution_count": 1,
   "id": "6f521e39-a7f3-483a-b944-40d5303f04d8",
   "metadata": {},
   "outputs": [],
   "source": [
    "# imports\n",
    "import os, sys\n",
    "import numpy as np\n",
    "from numba import jit\n",
    "import librosa\n",
    "#from scipy import signal\n",
    "from scipy import ndimage\n",
    "from matplotlib import pyplot as plt\n",
    "import IPython.display as ipd\n",
    "import time\n",
    "\n",
    "sys.path.append('..')\n",
    "import libfmp.b\n",
    "import libfmp.c2\n",
    "import libfmp.c6\n",
    "\n",
    "%matplotlib inline"
   ]
  },
  {
   "cell_type": "markdown",
   "id": "86d3a4ae-e49d-4088-970a-63844050d4db",
   "metadata": {},
   "source": [
    "# Utility functions\n",
    "\n",
    "Here we define all functions that, we later need to compute spectrograms, constellation maps, and perform the matching"
   ]
  },
  {
   "cell_type": "markdown",
   "id": "629ee5ff-452e-49e8-958a-794ef2bd6721",
   "metadata": {},
   "source": [
    "This function is responsible for computing the spectrogram map of a given track. We limit the track duration that is used to 30 seconds."
   ]
  },
  {
   "cell_type": "code",
   "execution_count": 2,
   "id": "83428bb3-ae97-4c2a-9632-311405fc8965",
   "metadata": {},
   "outputs": [],
   "source": [
    "\n",
    "def compute_spectrogram(fn_wav, Fs=22050, N=2048, H=1024, bin_max=128, frame_max=None, duration=None):\n",
    "    x, Fs = librosa.load(fn_wav, sr=Fs, duration=30)\n",
    "    x_duration = len(x) / Fs\n",
    "    X = librosa.stft(x, n_fft=N, hop_length=H, win_length=N, window='hann')\n",
    "    if bin_max is None:\n",
    "        bin_max = X.shape[0]\n",
    "    if frame_max is None:\n",
    "        frame_max = X.shape[0]\n",
    "    Y = np.abs(X[:bin_max, :frame_max])\n",
    "    return Y"
   ]
  },
  {
   "cell_type": "markdown",
   "id": "c622971a-39b5-4eb3-a17a-1fa657ac43d6",
   "metadata": {},
   "source": [
    "This function computes the constellation map, given a spectrogram map"
   ]
  },
  {
   "cell_type": "code",
   "execution_count": 3,
   "id": "5278590e-dde5-4409-a679-d9fc53cfb2e6",
   "metadata": {},
   "outputs": [],
   "source": [
    "def compute_constellation_map(Y, dist_freq=7, dist_time=7, thresh=0.01):\n",
    "    \"\"\"Compute constellation map (implementation using image processing)\n",
    "\n",
    "    Notebook: C7/C7S1_AudioIdentification.ipynb\n",
    "\n",
    "    Args:\n",
    "        Y (np.ndarray): Spectrogram (magnitude)\n",
    "        dist_freq (int): Neighborhood parameter for frequency direction (kappa) (Default value = 7)\n",
    "        dist_time (int): Neighborhood parameter for time direction (tau) (Default value = 7)\n",
    "        thresh (float): Threshold parameter for minimal peak magnitude (Default value = 0.01)\n",
    "\n",
    "    Returns:\n",
    "        Cmap (np.ndarray): Boolean mask for peak structure (same size as Y)\n",
    "    \"\"\"\n",
    "    result = ndimage.maximum_filter(Y, size=[2*dist_freq+1, 2*dist_time+1], mode='constant')\n",
    "    Cmap = np.logical_and(Y == result, result > thresh)\n",
    "    return Cmap"
   ]
  },
  {
   "cell_type": "markdown",
   "id": "03280689-02c4-43f1-9f22-b1e42c0ef889",
   "metadata": {},
   "source": [
    "Function to plot the constellation map. Used for inspection purposes, when deciding on parameters for dist_freq and dist_time."
   ]
  },
  {
   "cell_type": "code",
   "execution_count": 4,
   "id": "a36c44e3-5e52-49da-96c0-814a817b4dcc",
   "metadata": {},
   "outputs": [],
   "source": [
    "def plot_constellation_map(Cmap, Y=None, xlim=None, ylim=None, title='',\n",
    "                           xlabel='Time (sample)', ylabel='Frequency (bins)',\n",
    "                           s=5, color='r', marker='o', figsize=(7, 3), dpi=72):\n",
    "    \"\"\"Plot constellation map\n",
    "\n",
    "    Notebook: C7/C7S1_AudioIdentification.ipynb\n",
    "\n",
    "    Args:\n",
    "        Cmap: Constellation map given as boolean mask for peak structure\n",
    "        Y: Spectrogram representation (Default value = None)\n",
    "        xlim: Limits for x-axis (Default value = None)\n",
    "        ylim: Limits for y-axis (Default value = None)\n",
    "        title: Title for plot (Default value = '')\n",
    "        xlabel: Label for x-axis (Default value = 'Time (sample)')\n",
    "        ylabel: Label for y-axis (Default value = 'Frequency (bins)')\n",
    "        s: Size of dots in scatter plot (Default value = 5)\n",
    "        color: Color used for scatter plot (Default value = 'r')\n",
    "        marker: Marker for peaks (Default value = 'o')\n",
    "        figsize: Width, height in inches (Default value = (7, 3))\n",
    "        dpi: Dots per inch (Default value = 72)\n",
    "\n",
    "    Returns:\n",
    "        fig: The created matplotlib figure\n",
    "        ax: The used axes.\n",
    "        im: The image plot\n",
    "    \"\"\"\n",
    "    if Cmap.ndim > 1:\n",
    "        (K, N) = Cmap.shape\n",
    "    else:\n",
    "        K = Cmap.shape[0]\n",
    "        N = 1\n",
    "    if Y is None:\n",
    "        Y = np.zeros((K, N))\n",
    "    fig, ax = plt.subplots(1, 1, figsize=figsize, dpi=dpi)\n",
    "    im = ax.imshow(Y, origin='lower', aspect='auto', cmap='gray_r', interpolation='nearest')\n",
    "    ax.set_xlabel(xlabel)\n",
    "    ax.set_ylabel(ylabel)\n",
    "    ax.set_title(title)\n",
    "    Fs = 1\n",
    "    if xlim is None:\n",
    "        xlim = [-0.5/Fs, (N-0.5)/Fs]\n",
    "    if ylim is None:\n",
    "        ylim = [-0.5/Fs, (K-0.5)/Fs]\n",
    "    ax.set_xlim(xlim)\n",
    "    ax.set_ylim(ylim)\n",
    "    n, k = np.argwhere(Cmap == 1).T\n",
    "    ax.scatter(k, n, color=color, s=s, marker=marker)\n",
    "    plt.tight_layout()\n",
    "    return fig, ax, im\n",
    "    "
   ]
  },
  {
   "cell_type": "markdown",
   "id": "ab0b9840-f0d0-4fdc-a6c0-32ee187aa4ed",
   "metadata": {},
   "source": [
    "Helper function that matches two binary matrices."
   ]
  },
  {
   "cell_type": "code",
   "execution_count": 5,
   "id": "3e945ebb-a801-4f80-a698-311cbdd19933",
   "metadata": {},
   "outputs": [],
   "source": [
    "import numpy as np\n",
    "from scipy import ndimage\n",
    "from numba import jit, prange\n",
    "def match_binary_matrices_tol(C_ref, C_est, C_est_max, tol_freq=0, tol_time=0):\n",
    "    \"\"\"Compare binary matrices with tolerance.\"\"\"\n",
    "    assert C_ref.shape == C_est.shape, \"Dimensions need to agree\"\n",
    "    N = np.sum(C_ref)\n",
    "    M = np.sum(C_est)\n",
    "    C_AND = np.logical_and(C_est_max, C_ref)\n",
    "    TP = np.sum(C_AND)\n",
    "    FN = N - TP\n",
    "    FP = M - TP\n",
    "    return TP, FN, FP, C_AND"
   ]
  },
  {
   "cell_type": "markdown",
   "id": "fcf0210d-2c6a-4efe-a73b-fba8730faa84",
   "metadata": {},
   "source": [
    "This function computes the actual match between the query constellation map and the database-track constellation map, by sliding the query over the database-track."
   ]
  },
  {
   "cell_type": "code",
   "execution_count": 6,
   "id": "c8f0becd-121e-46b4-8918-e0580879259d",
   "metadata": {},
   "outputs": [],
   "source": [
    "@jit(nopython=True, parallel=True)\n",
    "def compute_matching_function_numba(C_D, C_Q, C_est_max, tol_freq=0, tol_time=0):\n",
    "    \"\"\"Numba-accelerated computation of the matching function.\"\"\"\n",
    "    L = C_D.shape[1]\n",
    "    N = C_Q.shape[1]\n",
    "    M = L - N\n",
    "    Delta = np.zeros(M + 1, dtype=np.float64)\n",
    "\n",
    "    for m in prange(M + 1):  # Parallelized loop\n",
    "        C_D_crop = C_D[:, m:m + N]\n",
    "        C_AND = np.logical_and(C_est_max, C_D_crop)\n",
    "        TP = np.sum(C_AND)\n",
    "        Delta[m] = TP\n",
    "\n",
    "    shift_max = np.argmax(Delta)\n",
    "    return Delta, shift_max"
   ]
  },
  {
   "cell_type": "code",
   "execution_count": 7,
   "id": "5d5c25e3-d75b-42e0-a022-3fe8bce20987",
   "metadata": {},
   "outputs": [],
   "source": [
    "def compute_matching_function(C_D, C_Q, tol_freq=0, tol_time=0):\n",
    "    \"\"\"Computes matching function for constellation maps.\"\"\"\n",
    "    L = C_D.shape[1]\n",
    "    N = C_Q.shape[1]\n",
    "    M = L - N\n",
    "    assert M >= 0, \"Query must be shorter than document\"\n",
    "\n",
    "    # Precompute the max filter for the estimation (outside of Numba)\n",
    "    C_est_max = ndimage.maximum_filter(C_Q, size=(2 * tol_freq + 1, 2 * tol_time + 1), mode='constant')\n",
    "\n",
    "    # Use the Numba-accelerated version\n",
    "    Delta, shift_max = compute_matching_function_numba(C_D, C_Q, C_est_max, tol_freq, tol_time)\n",
    "    return Delta, shift_max"
   ]
  },
  {
   "cell_type": "markdown",
   "id": "0d995201-fe25-49a6-b2d9-f498b692aff0",
   "metadata": {},
   "source": [
    "### Load all filenames\n",
    "This function is used to load all filenames, that are contained in a specified directory. "
   ]
  },
  {
   "cell_type": "code",
   "execution_count": 8,
   "id": "b563077b-1145-4671-a69f-f1f56c3be5c5",
   "metadata": {},
   "outputs": [],
   "source": [
    "def load_filenames(directory):\n",
    "    filenames = []\n",
    "    \n",
    "    # Iterate through all files in the directory\n",
    "    for filename in os.listdir(directory):\n",
    "        # Create the full path\n",
    "        file_path = os.path.join(directory, filename)\n",
    "        \n",
    "        # Check if it is a file (not a directory)\n",
    "        if os.path.isfile(file_path):\n",
    "            # Add to the dictionary, using the filename as the key\n",
    "            filenames.append(file_path)\n",
    "\n",
    "    return filenames"
   ]
  },
  {
   "cell_type": "markdown",
   "id": "6e3a9788-2a01-4709-8ca3-5acdf43604bb",
   "metadata": {},
   "source": [
    "### Compute constellation maps for filenames\n",
    "This function takes a list of filenames of tracks/queries and computes the constellation map for each "
   ]
  },
  {
   "cell_type": "code",
   "execution_count": 9,
   "id": "e89b68b0-e9ea-4dde-9078-cd7121c1ae6a",
   "metadata": {},
   "outputs": [],
   "source": [
    "from concurrent.futures import ThreadPoolExecutor\n",
    "\n",
    "def compute_constellation_map_single(args):\n",
    "    \"\"\"Compute the constellation map for a single file.\"\"\"\n",
    "    filename, dist_freq, dist_time = args\n",
    "    spectrogram = compute_spectrogram(filename)  # Perform I/O and computation\n",
    "    constellation_map = compute_constellation_map(spectrogram, dist_freq, dist_time)\n",
    "    return filename, constellation_map\n",
    "\n",
    "def compute_constellation_maps(filenames, dist_freq, dist_time):\n",
    "    \"\"\"Compute constellation maps using multithreading.\"\"\"\n",
    "    # Prepare arguments for each file\n",
    "    args = [(filename, dist_freq, dist_time) for filename in filenames]\n",
    "    \n",
    "    # Use ThreadPoolExecutor for multithreading\n",
    "    with ThreadPoolExecutor() as executor:\n",
    "        results = executor.map(compute_constellation_map_single, args)\n",
    "    \n",
    "    # Convert results to a dictionary\n",
    "    Cmaps = dict(results)\n",
    "    return Cmaps"
   ]
  },
  {
   "cell_type": "markdown",
   "id": "2ee13707-d537-4b58-bdd2-075cf896fc4b",
   "metadata": {},
   "source": [
    "# Creating the constellation maps for the database"
   ]
  },
  {
   "cell_type": "markdown",
   "id": "d7dac696-8419-4d30-86db-5bbbedb3efd1",
   "metadata": {},
   "source": [
    "We first load all the filenames of all of the tracks, that are in our database and store them in a list."
   ]
  },
  {
   "cell_type": "code",
   "execution_count": 10,
   "id": "60b21746-86c4-461c-adbd-369cb079ee5b",
   "metadata": {},
   "outputs": [],
   "source": [
    "tracks = load_filenames('tracks')"
   ]
  },
  {
   "cell_type": "markdown",
   "id": "f196a979-453d-48d8-bbee-83324a856ec0",
   "metadata": {},
   "source": [
    "## Try out different configurations\n",
    "\n",
    "In this section, we experimentally try out different values for computing our constellation maps for our tracks. After computing the constellation map for each of the tracks, we plot the constellation map of the same track for each configuration, to see how our chosen parameters influence the final constellation map."
   ]
  },
  {
   "cell_type": "markdown",
   "id": "9a1fe93d-d880-4233-b27c-6b40f32cff6c",
   "metadata": {},
   "source": [
    "### κ = 7, τ = 3"
   ]
  },
  {
   "cell_type": "code",
   "execution_count": 11,
   "id": "651aa5bd-33e1-474c-ad01-67c9fbbdae50",
   "metadata": {},
   "outputs": [
    {
     "data": {
      "image/png": "[encoded data removed]",
      "text/plain": [
       "<Figure size 504x216 with 1 Axes>"
      ]
     },
     "metadata": {},
     "output_type": "display_data"
    }
   ],
   "source": [
    "track_cmaps_7_3 = compute_constellation_maps(tracks, 7, 3) # κ = 7, τ = 3\n",
    "\n",
    "fig, ax, im = plot_constellation_map(track_cmaps_7_3['tracks/810.mp3'], color='r', s=30)"
   ]
  },
  {
   "cell_type": "markdown",
   "id": "416e7da4-7122-4ca7-9b26-21e54d75a1e3",
   "metadata": {},
   "source": [
    "### κ = 11, τ = 3"
   ]
  },
  {
   "cell_type": "code",
   "execution_count": 12,
   "id": "d0d537e8-9348-4cd5-b2f2-91cb75fa3e51",
   "metadata": {},
   "outputs": [
    {
     "data": {
      "image/png": "[encoded data removed]",
      "text/plain": [
       "<Figure size 504x216 with 1 Axes>"
      ]
     },
     "metadata": {},
     "output_type": "display_data"
    }
   ],
   "source": [
    "track_cmaps_11_3 = compute_constellation_maps(tracks, 11, 3) # κ = 11, τ = 3\n",
    "\n",
    "fig, ax, im = plot_constellation_map(track_cmaps_11_3['tracks/810.mp3'], color='r', s=30)"
   ]
  },
  {
   "cell_type": "markdown",
   "id": "2dc77fec-01f6-482f-8926-f4f61908171d",
   "metadata": {},
   "source": [
    "### κ = 10, τ = 10"
   ]
  },
  {
   "cell_type": "code",
   "execution_count": 13,
   "id": "bdcf9266-fb28-4637-b81b-317d1d07c968",
   "metadata": {},
   "outputs": [
    {
     "data": {
      "image/png": "[encoded data removed]",
      "text/plain": [
       "<Figure size 504x216 with 1 Axes>"
      ]
     },
     "metadata": {},
     "output_type": "display_data"
    }
   ],
   "source": [
    "track_cmaps_10_10 = compute_constellation_maps(tracks, 10, 10) # κ = 10, τ = 10\n",
    "\n",
    "fig, ax, im = plot_constellation_map(track_cmaps_10_10['tracks/810.mp3'], color='r', s=30)"
   ]
  },
  {
   "cell_type": "markdown",
   "id": "2743c2d7-00c5-471e-b82d-7139769130fb",
   "metadata": {},
   "source": [
    "### κ = 5, τ = 15"
   ]
  },
  {
   "cell_type": "code",
   "execution_count": 14,
   "id": "a9f5442a-35eb-4f92-b109-e323d5f68779",
   "metadata": {},
   "outputs": [
    {
     "data": {
      "image/png": "[encoded data removed]",
      "text/plain": [
       "<Figure size 504x216 with 1 Axes>"
      ]
     },
     "metadata": {},
     "output_type": "display_data"
    }
   ],
   "source": [
    "track_cmaps_5_15 = compute_constellation_maps(tracks, 5, 15) # κ = 5, τ = 15\n",
    "\n",
    "fig, ax, im = plot_constellation_map(track_cmaps_5_15['tracks/810.mp3'], color='r', s=30)"
   ]
  },
  {
   "cell_type": "markdown",
   "id": "fe686b15-6b47-4159-a44d-38ff222ebdbc",
   "metadata": {},
   "source": [
    "# Creating the constellation maps for the queries\n",
    "\n",
    "In this section, we create constellation maps for each of the queries, with the exact same parameter combinations, which we used for the database-tracks above."
   ]
  },
  {
   "cell_type": "markdown",
   "id": "e3d747b2-0828-432d-964a-1c79e7d590f3",
   "metadata": {},
   "source": [
    "Here we again load all filenames for the queries."
   ]
  },
  {
   "cell_type": "code",
   "execution_count": 15,
   "id": "d84aa536-68af-4ebf-a938-7458fb512f27",
   "metadata": {},
   "outputs": [],
   "source": [
    "queries = load_filenames('queries')"
   ]
  },
  {
   "cell_type": "markdown",
   "id": "59960d19-f5a7-4707-95c9-5c54db9b8e79",
   "metadata": {},
   "source": [
    "### κ = 7, τ = 3"
   ]
  },
  {
   "cell_type": "code",
   "execution_count": 16,
   "id": "1a64ba3b-e2a1-4bbe-a7de-eec1f234be6e",
   "metadata": {},
   "outputs": [
    {
     "data": {
      "image/png": "[encoded data removed]",
      "text/plain": [
       "<Figure size 504x216 with 1 Axes>"
      ]
     },
     "metadata": {},
     "output_type": "display_data"
    }
   ],
   "source": [
    "query_cmaps_7_3 = compute_constellation_maps(queries, 5, 5)\n",
    "\n",
    "fig, ax, im = plot_constellation_map(query_cmaps_7_3['queries/810.mp3'], color='r', s=30)"
   ]
  },
  {
   "cell_type": "markdown",
   "id": "db942662-2292-4181-a485-561d3fb2c8d8",
   "metadata": {},
   "source": [
    "### κ = 11, τ = 3"
   ]
  },
  {
   "cell_type": "code",
   "execution_count": 17,
   "id": "4a50d835-2db0-44e4-890c-a1aab855cc83",
   "metadata": {},
   "outputs": [
    {
     "data": {
      "image/png": "[encoded data removed]",
      "text/plain": [
       "<Figure size 504x216 with 1 Axes>"
      ]
     },
     "metadata": {},
     "output_type": "display_data"
    }
   ],
   "source": [
    "query_cmaps_11_3 = compute_constellation_maps(queries, 11, 3)\n",
    "\n",
    "fig, ax, im = plot_constellation_map(query_cmaps_11_3['queries/810.mp3'], color='r', s=30)"
   ]
  },
  {
   "cell_type": "markdown",
   "id": "be770503-08e4-4266-a734-99412616ff84",
   "metadata": {},
   "source": [
    "### κ = 10, τ = 10"
   ]
  },
  {
   "cell_type": "code",
   "execution_count": 18,
   "id": "081e84fd-e658-4862-93d5-7a3c7fcb77fe",
   "metadata": {},
   "outputs": [
    {
     "data": {
      "image/png": "[encoded data removed]",
      "text/plain": [
       "<Figure size 504x216 with 1 Axes>"
      ]
     },
     "metadata": {},
     "output_type": "display_data"
    }
   ],
   "source": [
    "query_cmaps_10_10 = compute_constellation_maps(queries, 10, 10)\n",
    "\n",
    "fig, ax, im = plot_constellation_map(query_cmaps_10_10['queries/810.mp3'], color='r', s=30)"
   ]
  },
  {
   "cell_type": "markdown",
   "id": "9c142261-884c-4fb4-97ad-9fe54b70fb3e",
   "metadata": {},
   "source": [
    "### κ = 5, τ = 15"
   ]
  },
  {
   "cell_type": "code",
   "execution_count": 19,
   "id": "166efa19-bd1c-404d-8b7d-6ebdf878be77",
   "metadata": {},
   "outputs": [
    {
     "data": {
      "image/png": "[encoded data removed]",
      "text/plain": [
       "<Figure size 504x216 with 1 Axes>"
      ]
     },
     "metadata": {},
     "output_type": "display_data"
    }
   ],
   "source": [
    "query_cmaps_5_15 = compute_constellation_maps(queries, 5, 15)\n",
    "\n",
    "fig, ax, im = plot_constellation_map(query_cmaps_5_15['queries/810.mp3'], color='r', s=30)"
   ]
  },
  {
   "cell_type": "markdown",
   "id": "65b87d94-29d6-48a5-abec-976fb7ca04e9",
   "metadata": {},
   "source": [
    "# Matching\n",
    "\n",
    "After preprocessing our tracks and queries, we can finally start the matching. We do the matching of queries and database-tracks for each of the previously defined parameter combinations. \n",
    "\n",
    "For each configuration, we follow a systematic process to identify the best match for each query:\n",
    "\n",
    "- Iterate Through Queries: For every query, its constellation map is compared against all the database track constellation maps.\n",
    "- Compute Matching Scores: Using the compute_matching_function, a score is calculated for each query-to-track combination.\n",
    "- Track the Best Match: The track with the highest matching score for each query is identified as the best match. This is stored in a dictionary along with its corresponding score.\n",
    "- Evaluate Results: We determine how many queries were correctly matched to their corresponding tracks by comparing the predicted matching track to the query's expected match (based on their filenames)."
   ]
  },
  {
   "cell_type": "markdown",
   "id": "9e61c229-a967-4211-8392-d3d4dc072604",
   "metadata": {},
   "source": [
    "### κ = 7, τ = 3"
   ]
  },
  {
   "cell_type": "code",
   "execution_count": 20,
   "id": "53f5cd0e-17fc-4f9f-9899-2ee8405355b4",
   "metadata": {},
   "outputs": [
    {
     "name": "stdout",
     "output_type": "stream",
     "text": [
      "Matched query \"queries/1390710.mp3\" to track \"tracks/1390710.mp3\", which took 4.046772241592407 seconds.\n",
      "Matched query \"queries/1249910.mp3\" to track \"tracks/1249910.mp3\", which took 1.4157836437225342 seconds.\n",
      "Matched query \"queries/152310.mp3\" to track \"tracks/152310.mp3\", which took 1.3074274063110352 seconds.\n",
      "Matched query \"queries/1147910.mp3\" to track \"tracks/1147910.mp3\", which took 1.2993371486663818 seconds.\n",
      "Matched query \"queries/119410.mp3\" to track \"tracks/119410.mp3\", which took 1.502913236618042 seconds.\n",
      "Matched query \"queries/1400510_noise.mp3\" to track \"tracks/1349110.mp3\", which took 1.4005508422851562 seconds.\n",
      "Matched query \"queries/136810.mp3\" to track \"tracks/136810.mp3\", which took 1.1727080345153809 seconds.\n",
      "Matched query \"queries/887210_mobile.mp3\" to track \"tracks/887210.mp3\", which took 1.4645085334777832 seconds.\n",
      "Matched query \"queries/1269810_noise.mp3\" to track \"tracks/1269810.mp3\", which took 1.818598985671997 seconds.\n",
      "Matched query \"queries/1400510_mobile.mp3\" to track \"tracks/258610.mp3\", which took 1.4587428569793701 seconds.\n",
      "Matched query \"queries/1084710_mobile.mp3\" to track \"tracks/1082910.mp3\", which took 1.3476221561431885 seconds.\n",
      "Matched query \"queries/963810.mp3\" to track \"tracks/963810.mp3\", which took 1.5519928932189941 seconds.\n",
      "Matched query \"queries/1227910_coding.mp3\" to track \"tracks/1227910.mp3\", which took 1.5031828880310059 seconds.\n",
      "Matched query \"queries/963810_noise.mp3\" to track \"tracks/963810.mp3\", which took 1.307267427444458 seconds.\n",
      "Matched query \"queries/963810_coding.mp3\" to track \"tracks/963810.mp3\", which took 1.363816261291504 seconds.\n",
      "Matched query \"queries/1192210_noise.mp3\" to track \"tracks/1192210.mp3\", which took 1.299323558807373 seconds.\n",
      "Matched query \"queries/219510_coding.mp3\" to track \"tracks/219510.mp3\", which took 1.318176031112671 seconds.\n",
      "Matched query \"queries/810_mobile.mp3\" to track \"tracks/1349110.mp3\", which took 1.559485912322998 seconds.\n",
      "Matched query \"queries/1147910_noise.mp3\" to track \"tracks/1147910.mp3\", which took 1.3812925815582275 seconds.\n",
      "Matched query \"queries/1192210.mp3\" to track \"tracks/1192210.mp3\", which took 1.4180846214294434 seconds.\n",
      "Matched query \"queries/1147910_coding.mp3\" to track \"tracks/1147910.mp3\", which took 1.8967750072479248 seconds.\n",
      "Matched query \"queries/91810_noise.mp3\" to track \"tracks/91810.mp3\", which took 1.9150714874267578 seconds.\n",
      "Matched query \"queries/119410_mobile.mp3\" to track \"tracks/1332910.mp3\", which took 1.3233129978179932 seconds.\n",
      "Matched query \"queries/136810_coding.mp3\" to track \"tracks/136810.mp3\", which took 1.2194507122039795 seconds.\n",
      "Matched query \"queries/887210_noise.mp3\" to track \"tracks/887210.mp3\", which took 1.3549273014068604 seconds.\n",
      "Matched query \"queries/152310_mobile.mp3\" to track \"tracks/152310.mp3\", which took 1.3981974124908447 seconds.\n",
      "Matched query \"queries/94710_noise.mp3\" to track \"tracks/94710.mp3\", which took 1.4453394412994385 seconds.\n",
      "Matched query \"queries/91810.mp3\" to track \"tracks/91810.mp3\", which took 1.3474326133728027 seconds.\n",
      "Matched query \"queries/810_coding.mp3\" to track \"tracks/810.mp3\", which took 1.365736722946167 seconds.\n",
      "Matched query \"queries/1192210_coding.mp3\" to track \"tracks/1192210.mp3\", which took 1.3489081859588623 seconds.\n",
      "Matched query \"queries/53310.mp3\" to track \"tracks/53310.mp3\", which took 2.177912712097168 seconds.\n",
      "Matched query \"queries/1249910_coding.mp3\" to track \"tracks/1249910.mp3\", which took 1.9514498710632324 seconds.\n",
      "Matched query \"queries/1227910_noise.mp3\" to track \"tracks/1227910.mp3\", which took 1.4622533321380615 seconds.\n",
      "Matched query \"queries/1147910_mobile.mp3\" to track \"tracks/1349110.mp3\", which took 2.375920534133911 seconds.\n",
      "Matched query \"queries/242610_noise.mp3\" to track \"tracks/242610.mp3\", which took 3.076220989227295 seconds.\n",
      "Matched query \"queries/1400510_coding.mp3\" to track \"tracks/1400510.mp3\", which took 1.3560266494750977 seconds.\n",
      "Matched query \"queries/119410_noise.mp3\" to track \"tracks/119410.mp3\", which took 1.218468189239502 seconds.\n",
      "Matched query \"queries/94710_mobile.mp3\" to track \"tracks/1349110.mp3\", which took 1.9163031578063965 seconds.\n",
      "Matched query \"queries/887210.mp3\" to track \"tracks/887210.mp3\", which took 1.2648706436157227 seconds.\n",
      "Matched query \"queries/963810_mobile.mp3\" to track \"tracks/963810.mp3\", which took 1.522028923034668 seconds.\n",
      "Matched query \"queries/53310_mobile.mp3\" to track \"tracks/1332910.mp3\", which took 2.2845616340637207 seconds.\n",
      "Matched query \"queries/1390710_coding.mp3\" to track \"tracks/1390710.mp3\", which took 1.2587244510650635 seconds.\n",
      "Matched query \"queries/219510_noise.mp3\" to track \"tracks/219510.mp3\", which took 1.2863926887512207 seconds.\n",
      "Matched query \"queries/262010_noise.mp3\" to track \"tracks/262010.mp3\", which took 1.504530906677246 seconds.\n",
      "Matched query \"queries/887210_coding.mp3\" to track \"tracks/887210.mp3\", which took 1.3229005336761475 seconds.\n",
      "Matched query \"queries/262010.mp3\" to track \"tracks/262010.mp3\", which took 1.3867692947387695 seconds.\n",
      "Matched query \"queries/1192210_mobile.mp3\" to track \"tracks/1192210.mp3\", which took 1.3930354118347168 seconds.\n",
      "Matched query \"queries/152310_noise.mp3\" to track \"tracks/152310.mp3\", which took 1.168323278427124 seconds.\n",
      "Matched query \"queries/53310_noise.mp3\" to track \"tracks/1077910.mp3\", which took 1.3856921195983887 seconds.\n",
      "Matched query \"queries/1227910.mp3\" to track \"tracks/1227910.mp3\", which took 2.147674560546875 seconds.\n",
      "Matched query \"queries/1249910_mobile.mp3\" to track \"tracks/1249910.mp3\", which took 2.334373712539673 seconds.\n",
      "Matched query \"queries/810.mp3\" to track \"tracks/810.mp3\", which took 1.986504316329956 seconds.\n",
      "Matched query \"queries/136810_noise.mp3\" to track \"tracks/136810.mp3\", which took 1.354158639907837 seconds.\n",
      "Matched query \"queries/136810_mobile.mp3\" to track \"tracks/136810.mp3\", which took 1.3695800304412842 seconds.\n",
      "Matched query \"queries/1269810_coding.mp3\" to track \"tracks/1269810.mp3\", which took 1.5740902423858643 seconds.\n",
      "Matched query \"queries/1249910_noise.mp3\" to track \"tracks/1249910.mp3\", which took 1.1851568222045898 seconds.\n",
      "Matched query \"queries/1269810.mp3\" to track \"tracks/1269810.mp3\", which took 1.466688871383667 seconds.\n",
      "Matched query \"queries/1084710_noise.mp3\" to track \"tracks/1084710.mp3\", which took 2.4568727016448975 seconds.\n",
      "Matched query \"queries/242610.mp3\" to track \"tracks/242610.mp3\", which took 1.404839277267456 seconds.\n",
      "Matched query \"queries/91810_coding.mp3\" to track \"tracks/91810.mp3\", which took 1.1999802589416504 seconds.\n",
      "Matched query \"queries/1269810_mobile.mp3\" to track \"tracks/1269810.mp3\", which took 1.5187287330627441 seconds.\n",
      "Matched query \"queries/242610_coding.mp3\" to track \"tracks/242610.mp3\", which took 1.284451961517334 seconds.\n",
      "Matched query \"queries/53310_coding.mp3\" to track \"tracks/53310.mp3\", which took 1.371157169342041 seconds.\n",
      "Matched query \"queries/91810_mobile.mp3\" to track \"tracks/984510.mp3\", which took 1.6037061214447021 seconds.\n",
      "Matched query \"queries/94710_coding.mp3\" to track \"tracks/94710.mp3\", which took 1.3976147174835205 seconds.\n",
      "Matched query \"queries/152310_coding.mp3\" to track \"tracks/152310.mp3\", which took 1.22590970993042 seconds.\n",
      "Matched query \"queries/1400510.mp3\" to track \"tracks/1400510.mp3\", which took 1.8068106174468994 seconds.\n",
      "Matched query \"queries/1084710_coding.mp3\" to track \"tracks/1084710.mp3\", which took 1.3040599822998047 seconds.\n",
      "Matched query \"queries/94710.mp3\" to track \"tracks/94710.mp3\", which took 1.362159013748169 seconds.\n",
      "Matched query \"queries/242610_mobile.mp3\" to track \"tracks/242610.mp3\", which took 1.6664543151855469 seconds.\n",
      "Matched query \"queries/119410_coding.mp3\" to track \"tracks/119410.mp3\", which took 3.1133201122283936 seconds.\n",
      "Matched query \"queries/219510.mp3\" to track \"tracks/219510.mp3\", which took 1.408212661743164 seconds.\n",
      "Matched query \"queries/1390710_noise.mp3\" to track \"tracks/1390710.mp3\", which took 1.2211885452270508 seconds.\n",
      "Matched query \"queries/262010_coding.mp3\" to track \"tracks/262010.mp3\", which took 1.5550050735473633 seconds.\n",
      "Matched query \"queries/1227910_mobile.mp3\" to track \"tracks/1227910.mp3\", which took 1.8691067695617676 seconds.\n",
      "Matched query \"queries/1084710.mp3\" to track \"tracks/1084710.mp3\", which took 2.1965126991271973 seconds.\n",
      "Matched query \"queries/262010_mobile.mp3\" to track \"tracks/1332910.mp3\", which took 1.1806819438934326 seconds.\n",
      "Matched query \"queries/810_noise.mp3\" to track \"tracks/810.mp3\", which took 1.3751485347747803 seconds.\n",
      "Matched query \"queries/1390710_mobile.mp3\" to track \"tracks/1390710.mp3\", which took 1.5106556415557861 seconds.\n",
      "Matched query \"queries/219510_mobile.mp3\" to track \"tracks/22510.mp3\", which took 1.7461810111999512 seconds.\n",
      "\n",
      "\n",
      "\n",
      "\n",
      "Matched 68 of 80 queries correctly.\n",
      "Average time per query: 1.59 seconds\n"
     ]
    }
   ],
   "source": [
    "query_best_scores_7_3 = {}\n",
    "query_times_7_3 = []\n",
    "\n",
    "for query_name, query_cmap in query_cmaps_7_3.items():\n",
    "    best_score = 0\n",
    "    best_name = None\n",
    "\n",
    "\n",
    "    # Start timing for this query\n",
    "    start_time = time.time()\n",
    "\n",
    "    \n",
    "    for track_name, track_cmap in track_cmaps_7_3.items():\n",
    "        delta, shift_max = compute_matching_function(track_cmap, query_cmap, tol_freq=0, tol_time=0)\n",
    "\n",
    "        if delta[shift_max] > best_score:\n",
    "            best_score = delta[shift_max]\n",
    "            best_name = track_name\n",
    "\n",
    "    # End timing for this query\n",
    "    end_time = time.time()\n",
    "    query_times_7_3.append(end_time - start_time)\n",
    "\n",
    "    query_best_scores_7_3[query_name] = {'matching_track': best_name, 'score': best_score}\n",
    "    print(f\"Matched query \\\"{query_name}\\\" to track \\\"{best_name}\\\", which took {query_times_7_3[-1]} seconds.\")\n",
    "    \n",
    "\n",
    "count_matches = sum(1 for query, details in query_best_scores_7_3.items()\n",
    "                     if details['matching_track'].split('/')[-1].replace('.mp3', '') in query.split('/')[-1])\n",
    "\n",
    "average_time_7_3 = sum(query_times_7_3) / len(query_times_7_3)\n",
    "\n",
    "\n",
    "print('\\n\\n\\n')\n",
    "print(f\"Matched {count_matches} of {len(query_best_scores_7_3)} queries correctly.\")\n",
    "print(f\"Average time per query: {average_time_7_3:.2f} seconds\")"
   ]
  },
  {
   "cell_type": "markdown",
   "id": "454571e0-e3f7-4828-9c93-fff658361166",
   "metadata": {},
   "source": [
    "### κ = 11, τ = 3"
   ]
  },
  {
   "cell_type": "code",
   "execution_count": 21,
   "id": "b2cfea02-71b0-431a-8843-2b0180096cd1",
   "metadata": {},
   "outputs": [
    {
     "name": "stdout",
     "output_type": "stream",
     "text": [
      "Matched query \"queries/1390710.mp3\" to track \"tracks/1390710.mp3\", which took 1.5929749011993408 seconds.\n",
      "Matched query \"queries/1249910.mp3\" to track \"tracks/1249910.mp3\", which took 1.4973032474517822 seconds.\n",
      "Matched query \"queries/152310.mp3\" to track \"tracks/152310.mp3\", which took 1.3318297863006592 seconds.\n",
      "Matched query \"queries/1147910.mp3\" to track \"tracks/1147910.mp3\", which took 1.3154480457305908 seconds.\n",
      "Matched query \"queries/119410.mp3\" to track \"tracks/119410.mp3\", which took 1.7332448959350586 seconds.\n",
      "Matched query \"queries/1400510_noise.mp3\" to track \"tracks/1266110.mp3\", which took 2.007113218307495 seconds.\n",
      "Matched query \"queries/136810.mp3\" to track \"tracks/136810.mp3\", which took 2.945248603820801 seconds.\n",
      "Matched query \"queries/887210_mobile.mp3\" to track \"tracks/887210.mp3\", which took 1.2923014163970947 seconds.\n",
      "Matched query \"queries/1269810_noise.mp3\" to track \"tracks/1269810.mp3\", which took 1.4028851985931396 seconds.\n",
      "Matched query \"queries/1400510_mobile.mp3\" to track \"tracks/1143810.mp3\", which took 1.9716663360595703 seconds.\n",
      "Matched query \"queries/1084710_mobile.mp3\" to track \"tracks/1377410.mp3\", which took 1.5611546039581299 seconds.\n",
      "Matched query \"queries/963810.mp3\" to track \"tracks/963810.mp3\", which took 1.6704068183898926 seconds.\n",
      "Matched query \"queries/1227910_coding.mp3\" to track \"tracks/1227910.mp3\", which took 1.5674664974212646 seconds.\n",
      "Matched query \"queries/963810_noise.mp3\" to track \"tracks/963810.mp3\", which took 1.389899730682373 seconds.\n",
      "Matched query \"queries/963810_coding.mp3\" to track \"tracks/963810.mp3\", which took 1.3442602157592773 seconds.\n",
      "Matched query \"queries/1192210_noise.mp3\" to track \"tracks/1192210.mp3\", which took 1.5305893421173096 seconds.\n",
      "Matched query \"queries/219510_coding.mp3\" to track \"tracks/219510.mp3\", which took 1.4573872089385986 seconds.\n",
      "Matched query \"queries/810_mobile.mp3\" to track \"tracks/810.mp3\", which took 1.4774820804595947 seconds.\n",
      "Matched query \"queries/1147910_noise.mp3\" to track \"tracks/1147910.mp3\", which took 1.2062654495239258 seconds.\n",
      "Matched query \"queries/1192210.mp3\" to track \"tracks/1192210.mp3\", which took 1.6370902061462402 seconds.\n",
      "Matched query \"queries/1147910_coding.mp3\" to track \"tracks/1147910.mp3\", which took 2.2640085220336914 seconds.\n",
      "Matched query \"queries/91810_noise.mp3\" to track \"tracks/91810.mp3\", which took 2.0210626125335693 seconds.\n",
      "Matched query \"queries/119410_mobile.mp3\" to track \"tracks/119410.mp3\", which took 1.902306079864502 seconds.\n",
      "Matched query \"queries/136810_coding.mp3\" to track \"tracks/136810.mp3\", which took 1.864516019821167 seconds.\n",
      "Matched query \"queries/887210_noise.mp3\" to track \"tracks/887210.mp3\", which took 1.5167996883392334 seconds.\n",
      "Matched query \"queries/152310_mobile.mp3\" to track \"tracks/152310.mp3\", which took 1.5888495445251465 seconds.\n",
      "Matched query \"queries/94710_noise.mp3\" to track \"tracks/94710.mp3\", which took 1.3879215717315674 seconds.\n"
     ]
    },
    {
     "ename": "SystemError",
     "evalue": "CPUDispatcher(<function compute_matching_function_numba at 0x7c29622c3490>) returned a result with an exception set",
     "output_type": "error",
     "traceback": [
      "\u001b[0;31m---------------------------------------------------------------------------\u001b[0m",
      "\u001b[0;31mKeyboardInterrupt\u001b[0m                         Traceback (most recent call last)",
      "\u001b[0;32m~/miniconda3/envs/ir/lib/python3.10/site-packages/numba/core/serialize.py\u001b[0m in \u001b[0;36m_numba_unpickle\u001b[0;34m(address, bytedata, hashed)\u001b[0m\n\u001b[1;32m     29\u001b[0m \u001b[0;34m\u001b[0m\u001b[0m\n\u001b[0;32m---> 30\u001b[0;31m \u001b[0;32mdef\u001b[0m \u001b[0m_numba_unpickle\u001b[0m\u001b[0;34m(\u001b[0m\u001b[0maddress\u001b[0m\u001b[0;34m,\u001b[0m \u001b[0mbytedata\u001b[0m\u001b[0;34m,\u001b[0m \u001b[0mhashed\u001b[0m\u001b[0;34m)\u001b[0m\u001b[0;34m:\u001b[0m\u001b[0;34m\u001b[0m\u001b[0;34m\u001b[0m\u001b[0m\n\u001b[0m\u001b[1;32m     31\u001b[0m     \"\"\"Used by `numba_unpickle` from _helperlib.c\n",
      "\u001b[0;31mKeyboardInterrupt\u001b[0m: ",
      "\nThe above exception was the direct cause of the following exception:\n",
      "\u001b[0;31mSystemError\u001b[0m                               Traceback (most recent call last)",
      "\u001b[0;32m/tmp/ipykernel_38079/1738258680.py\u001b[0m in \u001b[0;36m<cell line: 4>\u001b[0;34m()\u001b[0m\n\u001b[1;32m     12\u001b[0m \u001b[0;34m\u001b[0m\u001b[0m\n\u001b[1;32m     13\u001b[0m     \u001b[0;32mfor\u001b[0m \u001b[0mtrack_name\u001b[0m\u001b[0;34m,\u001b[0m \u001b[0mtrack_cmap\u001b[0m \u001b[0;32min\u001b[0m \u001b[0mtrack_cmaps_11_3\u001b[0m\u001b[0;34m.\u001b[0m\u001b[0mitems\u001b[0m\u001b[0;34m(\u001b[0m\u001b[0;34m)\u001b[0m\u001b[0;34m:\u001b[0m\u001b[0;34m\u001b[0m\u001b[0;34m\u001b[0m\u001b[0m\n\u001b[0;32m---> 14\u001b[0;31m         \u001b[0mdelta\u001b[0m\u001b[0;34m,\u001b[0m \u001b[0mshift_max\u001b[0m \u001b[0;34m=\u001b[0m \u001b[0mcompute_matching_function\u001b[0m\u001b[0;34m(\u001b[0m\u001b[0mtrack_cmap\u001b[0m\u001b[0;34m,\u001b[0m \u001b[0mquery_cmap\u001b[0m\u001b[0;34m,\u001b[0m \u001b[0mtol_freq\u001b[0m\u001b[0;34m=\u001b[0m\u001b[0;36m2\u001b[0m\u001b[0;34m,\u001b[0m \u001b[0mtol_time\u001b[0m\u001b[0;34m=\u001b[0m\u001b[0;36m2\u001b[0m\u001b[0;34m)\u001b[0m\u001b[0;34m\u001b[0m\u001b[0;34m\u001b[0m\u001b[0m\n\u001b[0m\u001b[1;32m     15\u001b[0m \u001b[0;34m\u001b[0m\u001b[0m\n\u001b[1;32m     16\u001b[0m         \u001b[0;32mif\u001b[0m \u001b[0mdelta\u001b[0m\u001b[0;34m[\u001b[0m\u001b[0mshift_max\u001b[0m\u001b[0;34m]\u001b[0m \u001b[0;34m>\u001b[0m \u001b[0mbest_score\u001b[0m\u001b[0;34m:\u001b[0m\u001b[0;34m\u001b[0m\u001b[0;34m\u001b[0m\u001b[0m\n",
      "\u001b[0;32m/tmp/ipykernel_38079/1104430184.py\u001b[0m in \u001b[0;36mcompute_matching_function\u001b[0;34m(C_D, C_Q, tol_freq, tol_time)\u001b[0m\n\u001b[1;32m     10\u001b[0m \u001b[0;34m\u001b[0m\u001b[0m\n\u001b[1;32m     11\u001b[0m     \u001b[0;31m# Use the Numba-accelerated version\u001b[0m\u001b[0;34m\u001b[0m\u001b[0;34m\u001b[0m\u001b[0m\n\u001b[0;32m---> 12\u001b[0;31m     \u001b[0mDelta\u001b[0m\u001b[0;34m,\u001b[0m \u001b[0mshift_max\u001b[0m \u001b[0;34m=\u001b[0m \u001b[0mcompute_matching_function_numba\u001b[0m\u001b[0;34m(\u001b[0m\u001b[0mC_D\u001b[0m\u001b[0;34m,\u001b[0m \u001b[0mC_Q\u001b[0m\u001b[0;34m,\u001b[0m \u001b[0mC_est_max\u001b[0m\u001b[0;34m,\u001b[0m \u001b[0mtol_freq\u001b[0m\u001b[0;34m,\u001b[0m \u001b[0mtol_time\u001b[0m\u001b[0;34m)\u001b[0m\u001b[0;34m\u001b[0m\u001b[0;34m\u001b[0m\u001b[0m\n\u001b[0m\u001b[1;32m     13\u001b[0m     \u001b[0;32mreturn\u001b[0m \u001b[0mDelta\u001b[0m\u001b[0;34m,\u001b[0m \u001b[0mshift_max\u001b[0m\u001b[0;34m\u001b[0m\u001b[0;34m\u001b[0m\u001b[0m\n",
      "\u001b[0;31mSystemError\u001b[0m: CPUDispatcher(<function compute_matching_function_numba at 0x7c29622c3490>) returned a result with an exception set"
     ]
    }
   ],
   "source": [
    "query_best_scores_11_3 = {}\n",
    "query_times_11_3 = []\n",
    "\n",
    "for query_name, query_cmap in query_cmaps_11_3.items():\n",
    "    best_score = 0\n",
    "    best_name = None\n",
    "\n",
    "\n",
    "    # Start timing for this query\n",
    "    start_time = time.time()\n",
    "\n",
    "    \n",
    "    for track_name, track_cmap in track_cmaps_11_3.items():\n",
    "        delta, shift_max = compute_matching_function(track_cmap, query_cmap, tol_freq=0, tol_time=0)\n",
    "\n",
    "        if delta[shift_max] > best_score:\n",
    "            best_score = delta[shift_max]\n",
    "            best_name = track_name\n",
    "\n",
    "    # End timing for this query\n",
    "    end_time = time.time()\n",
    "    query_times_11_3.append(end_time - start_time)\n",
    "\n",
    "    query_best_scores_11_3[query_name] = {'matching_track': best_name, 'score': best_score}\n",
    "    print(f\"Matched query \\\"{query_name}\\\" to track \\\"{best_name}\\\", which took {query_times_11_3[-1]} seconds.\")\n",
    "    \n",
    "\n",
    "count_matches = sum(1 for query, details in query_best_scores_11_3.items()\n",
    "                     if details['matching_track'].split('/')[-1].replace('.mp3', '') in query.split('/')[-1])\n",
    "\n",
    "average_time_11_3 = sum(query_times_11_3) / len(query_times_11_3)\n",
    "\n",
    "\n",
    "print('\\n\\n\\n')\n",
    "print(f\"Matched {count_matches} of {len(query_best_scores_11_3)} queries correctly.\")\n",
    "print(f\"Average time per query: {average_time_11_3:.2f} seconds\")"
   ]
  },
  {
   "cell_type": "markdown",
   "id": "7cf6b42f-a150-499a-9f6a-0172be839562",
   "metadata": {},
   "source": [
    "### κ = 10, τ = 10"
   ]
  },
  {
   "cell_type": "code",
   "execution_count": null,
   "id": "b0279105-8ceb-45b0-9ad4-fb4a78722742",
   "metadata": {},
   "outputs": [],
   "source": [
    "query_best_scores_10_10 = {}\n",
    "query_times_10_10 = []\n",
    "\n",
    "for query_name, query_cmap in query_cmaps_10_10.items():\n",
    "    best_score = 0\n",
    "    best_name = None\n",
    "\n",
    "\n",
    "    # Start timing for this query\n",
    "    start_time = time.time()\n",
    "\n",
    "    \n",
    "    for track_name, track_cmap in track_cmaps_10_10.items():\n",
    "        delta, shift_max = compute_matching_function(track_cmap, query_cmap, tol_freq=0, tol_time=0)\n",
    "\n",
    "        if delta[shift_max] > best_score:\n",
    "            best_score = delta[shift_max]\n",
    "            best_name = track_name\n",
    "\n",
    "    # End timing for this query\n",
    "    end_time = time.time()\n",
    "    query_times_10_10.append(end_time - start_time)\n",
    "\n",
    "    query_best_scores_10_10[query_name] = {'matching_track': best_name, 'score': best_score}\n",
    "    print(f\"Matched query \\\"{query_name}\\\" to track \\\"{best_name}\\\", which took {query_times_10_10[-1]} seconds.\")\n",
    "    \n",
    "\n",
    "count_matches = sum(1 for query, details in query_best_scores_10_10.items()\n",
    "                     if details['matching_track'].split('/')[-1].replace('.mp3', '') in query.split('/')[-1])\n",
    "\n",
    "average_time_10_10 = sum(query_times_10_10) / len(query_times_10_10)\n",
    "\n",
    "\n",
    "print('\\n\\n\\n')\n",
    "print(f\"Matched {count_matches} of {len(query_best_scores_10_10)} queries correctly.\")\n",
    "print(f\"Average time per query: {average_time_10_10:.2f} seconds\")"
   ]
  },
  {
   "cell_type": "markdown",
   "id": "81931506-5ed0-47d5-b517-aa7491e2a0a5",
   "metadata": {},
   "source": [
    "### κ = 5, τ = 15"
   ]
  },
  {
   "cell_type": "code",
   "execution_count": null,
   "id": "740a959c-074b-46f9-8f53-45d70bcb2710",
   "metadata": {},
   "outputs": [],
   "source": [
    "query_best_scores_5_15 = {}\n",
    "query_times_5_15 = []\n",
    "\n",
    "for query_name, query_cmap in query_cmaps_5_15.items():\n",
    "    best_score = 0\n",
    "    best_name = None\n",
    "\n",
    "\n",
    "    # Start timing for this query\n",
    "    start_time = time.time()\n",
    "\n",
    "    \n",
    "    for track_name, track_cmap in track_cmaps_5_15.items():\n",
    "        delta, shift_max = compute_matching_function(track_cmap, query_cmap, tol_freq=0, tol_time=0)\n",
    "\n",
    "        if delta[shift_max] > best_score:\n",
    "            best_score = delta[shift_max]\n",
    "            best_name = track_name\n",
    "\n",
    "    # End timing for this query\n",
    "    end_time = time.time()\n",
    "    query_times_5_15.append(end_time - start_time)\n",
    "\n",
    "    query_best_scores_5_15[query_name] = {'matching_track': best_name, 'score': best_score}\n",
    "    print(f\"Matched query \\\"{query_name}\\\" to track \\\"{best_name}\\\", which took {query_times_5_15[-1]} seconds.\")\n",
    "    \n",
    "\n",
    "count_matches = sum(1 for query, details in query_best_scores_5_15.items()\n",
    "                     if details['matching_track'].split('/')[-1].replace('.mp3', '') in query.split('/')[-1])\n",
    "\n",
    "average_time_5_15 = sum(query_times_5_15) / len(query_times_5_15)\n",
    "\n",
    "\n",
    "print('\\n\\n\\n')\n",
    "print(f\"Matched {count_matches} of {len(query_best_scores_5_15)} queries correctly.\")\n",
    "print(f\"Average time per query: {average_time_5_15:.2f} seconds\")"
   ]
  },
  {
   "cell_type": "markdown",
   "id": "cecc5b34-7348-4170-a67c-9189736983ce",
   "metadata": {},
   "source": [
    " # Evaluation:"
   ]
  },
  {
   "cell_type": "code",
   "execution_count": null,
   "id": "79fb6812-6b91-4c9a-89f1-df8853e0d1b9",
   "metadata": {},
   "outputs": [],
   "source": []
  }
 ],
 "metadata": {
  "kernelspec": {
   "display_name": "Python 3 (ipykernel)",
   "language": "python",
   "name": "python3"
  },
  "language_info": {
   "codemirror_mode": {
    "name": "ipython",
    "version": 3
   },
   "file_extension": ".py",
   "mimetype": "text/x-python",
   "name": "python",
   "nbconvert_exporter": "python",
   "pygments_lexer": "ipython3",
   "version": "3.10.15"
  }
 },
 "nbformat": 4,
 "nbformat_minor": 5
}
